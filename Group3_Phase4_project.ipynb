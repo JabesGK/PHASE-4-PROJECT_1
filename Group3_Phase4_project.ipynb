{
 "cells": [
  {
   "cell_type": "markdown",
   "id": "d48947db",
   "metadata": {},
   "source": [
    "## Twitter Sentiment Analysis of Google and Apple products"
   ]
  },
  {
   "cell_type": "markdown",
   "id": "43bb787a",
   "metadata": {},
   "source": [
    "### i) Business Understanding"
   ]
  },
  {
   "cell_type": "markdown",
   "id": "3e588155",
   "metadata": {},
   "source": [
    "**Business Problem**\n",
    "With the growing use of social media, especially twitter, there is more information about receivability of products in the market. The company has been tasked with analysis of twitter sentiments in relation to google and apple products with an aim of meeting market demand.\n",
    "\n",
    "\n",
    "**Stakeholder**\n",
    "\n",
    "The primary stakeholders are Google and Apple's marketing department, who need to know:\n",
    "\n",
    "*  The reception of their products in the markets\n",
    "*  Which products are most liked or not\n",
    "*  What about the products is lacking and how it can be improved\n",
    "\n",
    "**Objective**\n",
    "Build a classification model that can:\n",
    "\n",
    "\n",
    "\n",
    "\n",
    "\n",
    "\n",
    "**Success Metrics**\n",
    "\n",
    "*  Primary metric: F1-Score\n",
    "*  Secondary metrics: Accuracy\n",
    "*  ROC-AUC for model comparison"
   ]
  },
  {
   "cell_type": "markdown",
   "id": "03b2fb8b",
   "metadata": {},
   "source": [
    "### ii) Data Understanding"
   ]
  },
  {
   "cell_type": "markdown",
   "id": "66c937a3",
   "metadata": {},
   "source": [
    "The dataset is obtained CrowdFlower and can be found in this link - https://data.world/crowdflower/brands-and-product-emotions/workspace/file?filename=judge-1377884607_tweet_product_company.csv\n",
    "\n",
    "The data has over 9000 tweets rated by humans as either positive,negative or neither."
   ]
  },
  {
   "cell_type": "markdown",
   "id": "3505c310",
   "metadata": {},
   "source": [
    "### iii) Importing the data and required libraries"
   ]
  },
  {
   "cell_type": "code",
   "execution_count": 189,
   "id": "78992eea",
   "metadata": {},
   "outputs": [],
   "source": [
    "#loading required libraries\n",
    "import pandas as pd\n",
    "from sklearn.preprocessing import LabelEncoder\n",
    "from sklearn.metrics import classification_report, accuracy_score,f1_score,confusion_matrix\n",
    "from sklearn.linear_model import LogisticRegression\n",
    "from sklearn.model_selection import train_test_split,GridSearchCV\n",
    "from scipy import stats\n",
    "import numpy as np \n",
    "import matplotlib.pyplot as plt\n",
    "import seaborn as sns\n",
    "from sklearn.tree import DecisionTreeClassifier \n",
    "from sklearn.preprocessing import OneHotEncoder\n",
    "from sklearn.feature_selection import SelectKBest, f_regression\n",
    "from sklearn.preprocessing import MinMaxScaler, PolynomialFeatures, StandardScaler\n",
    "from sklearn.metrics import roc_curve, auc\n",
    "from sklearn import tree\n",
    "from sklearn.linear_model import Ridge\n",
    "from sklearn.tree import DecisionTreeRegressor\n",
    "from sklearn.compose import ColumnTransformer\n",
    "import nltk\n",
    "import string\n",
    "from nltk.corpus import stopwords\n",
    "from nltk.stem import WordNetLemmatizer,PorterStemmer\n",
    "from sklearn.feature_extraction.text import TfidfVectorizer\n",
    "from sklearn.naive_bayes import MultinomialNB\n",
    "import re\n",
    "from imblearn.over_sampling import SMOTE\n",
    "from xgboost import XGBClassifier\n"
   ]
  },
  {
   "cell_type": "code",
   "execution_count": 40,
   "id": "142bbc6f",
   "metadata": {},
   "outputs": [
    {
     "data": {
      "text/html": [
       "<div>\n",
       "<style scoped>\n",
       "    .dataframe tbody tr th:only-of-type {\n",
       "        vertical-align: middle;\n",
       "    }\n",
       "\n",
       "    .dataframe tbody tr th {\n",
       "        vertical-align: top;\n",
       "    }\n",
       "\n",
       "    .dataframe thead th {\n",
       "        text-align: right;\n",
       "    }\n",
       "</style>\n",
       "<table border=\"1\" class=\"dataframe\">\n",
       "  <thead>\n",
       "    <tr style=\"text-align: right;\">\n",
       "      <th></th>\n",
       "      <th>tweet_text</th>\n",
       "      <th>emotion_in_tweet_is_directed_at</th>\n",
       "      <th>is_there_an_emotion_directed_at_a_brand_or_product</th>\n",
       "    </tr>\n",
       "  </thead>\n",
       "  <tbody>\n",
       "    <tr>\n",
       "      <th>0</th>\n",
       "      <td>.@wesley83 I have a 3G iPhone. After 3 hrs twe...</td>\n",
       "      <td>iPhone</td>\n",
       "      <td>Negative emotion</td>\n",
       "    </tr>\n",
       "    <tr>\n",
       "      <th>1</th>\n",
       "      <td>@jessedee Know about @fludapp ? Awesome iPad/i...</td>\n",
       "      <td>iPad or iPhone App</td>\n",
       "      <td>Positive emotion</td>\n",
       "    </tr>\n",
       "    <tr>\n",
       "      <th>2</th>\n",
       "      <td>@swonderlin Can not wait for #iPad 2 also. The...</td>\n",
       "      <td>iPad</td>\n",
       "      <td>Positive emotion</td>\n",
       "    </tr>\n",
       "    <tr>\n",
       "      <th>3</th>\n",
       "      <td>@sxsw I hope this year's festival isn't as cra...</td>\n",
       "      <td>iPad or iPhone App</td>\n",
       "      <td>Negative emotion</td>\n",
       "    </tr>\n",
       "    <tr>\n",
       "      <th>4</th>\n",
       "      <td>@sxtxstate great stuff on Fri #SXSW: Marissa M...</td>\n",
       "      <td>Google</td>\n",
       "      <td>Positive emotion</td>\n",
       "    </tr>\n",
       "  </tbody>\n",
       "</table>\n",
       "</div>"
      ],
      "text/plain": [
       "                                          tweet_text  \\\n",
       "0  .@wesley83 I have a 3G iPhone. After 3 hrs twe...   \n",
       "1  @jessedee Know about @fludapp ? Awesome iPad/i...   \n",
       "2  @swonderlin Can not wait for #iPad 2 also. The...   \n",
       "3  @sxsw I hope this year's festival isn't as cra...   \n",
       "4  @sxtxstate great stuff on Fri #SXSW: Marissa M...   \n",
       "\n",
       "  emotion_in_tweet_is_directed_at  \\\n",
       "0                          iPhone   \n",
       "1              iPad or iPhone App   \n",
       "2                            iPad   \n",
       "3              iPad or iPhone App   \n",
       "4                          Google   \n",
       "\n",
       "  is_there_an_emotion_directed_at_a_brand_or_product  \n",
       "0                                   Negative emotion  \n",
       "1                                   Positive emotion  \n",
       "2                                   Positive emotion  \n",
       "3                                   Negative emotion  \n",
       "4                                   Positive emotion  "
      ]
     },
     "execution_count": 40,
     "metadata": {},
     "output_type": "execute_result"
    }
   ],
   "source": [
    "#loading the data\n",
    "df = pd.read_csv(\"judge-1377884607_tweet_product_company.csv\",encoding = 'latin1')\n",
    "df.head()"
   ]
  },
  {
   "cell_type": "code",
   "execution_count": 41,
   "id": "3e9e1316",
   "metadata": {},
   "outputs": [
    {
     "data": {
      "text/plain": [
       "(9093, 3)"
      ]
     },
     "execution_count": 41,
     "metadata": {},
     "output_type": "execute_result"
    }
   ],
   "source": [
    "df.shape"
   ]
  },
  {
   "cell_type": "code",
   "execution_count": 42,
   "id": "a69cda44",
   "metadata": {},
   "outputs": [
    {
     "data": {
      "text/plain": [
       "tweet_text                                               1\n",
       "emotion_in_tweet_is_directed_at                       5802\n",
       "is_there_an_emotion_directed_at_a_brand_or_product       0\n",
       "dtype: int64"
      ]
     },
     "execution_count": 42,
     "metadata": {},
     "output_type": "execute_result"
    }
   ],
   "source": [
    "## Checking for missing values\n",
    "df.isnull().sum()"
   ]
  },
  {
   "cell_type": "markdown",
   "id": "aa0b7443",
   "metadata": {},
   "source": [
    "Tha data set has 5802 missing values under the emotion directed at column, and 1 at the tweet text column. These have to be dropped as the analysis is for google and apple oroducts, and lacking an identification of this could lead to wrong predictions."
   ]
  },
  {
   "cell_type": "code",
   "execution_count": 43,
   "id": "754d6547",
   "metadata": {},
   "outputs": [],
   "source": [
    "#dropping missing values\n",
    "df.dropna(subset=['emotion_in_tweet_is_directed_at','tweet_text'],inplace=True)"
   ]
  },
  {
   "cell_type": "code",
   "execution_count": 44,
   "id": "c9dc3854",
   "metadata": {},
   "outputs": [
    {
     "data": {
      "text/plain": [
       "tweet_text                                            0\n",
       "emotion_in_tweet_is_directed_at                       0\n",
       "is_there_an_emotion_directed_at_a_brand_or_product    0\n",
       "dtype: int64"
      ]
     },
     "execution_count": 44,
     "metadata": {},
     "output_type": "execute_result"
    }
   ],
   "source": [
    "#checking missing values \n",
    "df.isnull().sum()"
   ]
  },
  {
   "cell_type": "code",
   "execution_count": 45,
   "id": "c908315c",
   "metadata": {},
   "outputs": [
    {
     "data": {
      "text/plain": [
       "tweet_text                                            object\n",
       "emotion_in_tweet_is_directed_at                       object\n",
       "is_there_an_emotion_directed_at_a_brand_or_product    object\n",
       "dtype: object"
      ]
     },
     "execution_count": 45,
     "metadata": {},
     "output_type": "execute_result"
    }
   ],
   "source": [
    "#checking data types\n",
    "df.dtypes"
   ]
  },
  {
   "cell_type": "code",
   "execution_count": 46,
   "id": "0aea8d1d",
   "metadata": {},
   "outputs": [
    {
     "data": {
      "text/html": [
       "<div>\n",
       "<style scoped>\n",
       "    .dataframe tbody tr th:only-of-type {\n",
       "        vertical-align: middle;\n",
       "    }\n",
       "\n",
       "    .dataframe tbody tr th {\n",
       "        vertical-align: top;\n",
       "    }\n",
       "\n",
       "    .dataframe thead th {\n",
       "        text-align: right;\n",
       "    }\n",
       "</style>\n",
       "<table border=\"1\" class=\"dataframe\">\n",
       "  <thead>\n",
       "    <tr style=\"text-align: right;\">\n",
       "      <th></th>\n",
       "      <th>tweet_text</th>\n",
       "      <th>emotion_in_tweet_is_directed_at</th>\n",
       "      <th>is_there_an_emotion_directed_at_a_brand_or_product</th>\n",
       "    </tr>\n",
       "  </thead>\n",
       "  <tbody>\n",
       "    <tr>\n",
       "      <th>count</th>\n",
       "      <td>3291</td>\n",
       "      <td>3291</td>\n",
       "      <td>3291</td>\n",
       "    </tr>\n",
       "    <tr>\n",
       "      <th>unique</th>\n",
       "      <td>3282</td>\n",
       "      <td>9</td>\n",
       "      <td>4</td>\n",
       "    </tr>\n",
       "    <tr>\n",
       "      <th>top</th>\n",
       "      <td>RT @mention Marissa Mayer: Google Will Connect...</td>\n",
       "      <td>iPad</td>\n",
       "      <td>Positive emotion</td>\n",
       "    </tr>\n",
       "    <tr>\n",
       "      <th>freq</th>\n",
       "      <td>3</td>\n",
       "      <td>946</td>\n",
       "      <td>2672</td>\n",
       "    </tr>\n",
       "  </tbody>\n",
       "</table>\n",
       "</div>"
      ],
      "text/plain": [
       "                                               tweet_text  \\\n",
       "count                                                3291   \n",
       "unique                                               3282   \n",
       "top     RT @mention Marissa Mayer: Google Will Connect...   \n",
       "freq                                                    3   \n",
       "\n",
       "       emotion_in_tweet_is_directed_at  \\\n",
       "count                             3291   \n",
       "unique                               9   \n",
       "top                               iPad   \n",
       "freq                               946   \n",
       "\n",
       "       is_there_an_emotion_directed_at_a_brand_or_product  \n",
       "count                                                3291  \n",
       "unique                                                  4  \n",
       "top                                      Positive emotion  \n",
       "freq                                                 2672  "
      ]
     },
     "execution_count": 46,
     "metadata": {},
     "output_type": "execute_result"
    }
   ],
   "source": [
    "df.describe()"
   ]
  },
  {
   "cell_type": "code",
   "execution_count": 47,
   "id": "4fea4100",
   "metadata": {},
   "outputs": [
    {
     "data": {
      "text/plain": [
       "tweet_text                                                                                                                                        emotion_in_tweet_is_directed_at  is_there_an_emotion_directed_at_a_brand_or_product\n",
       "RT @mention Marissa Mayer: Google Will Connect the Digital &amp; Physical Worlds Through Mobile - {link} #sxsw                                    Google                           Positive emotion                                      3\n",
       "Really enjoying the changes in Gowalla 3.0 for Android! Looking forward to seeing what else they &amp; Foursquare have up their sleeves at #SXSW  Android App                      Positive emotion                                      2\n",
       "Before It Even Begins, Apple Wins #SXSW {link}                                                                                                    Apple                            Positive emotion                                      2\n",
       "Oh. My. God. The #SXSW app for iPad is pure, unadulterated awesome. It's easier to browse events on iPad than on the website!!!                   iPad or iPhone App               Positive emotion                                      2\n",
       "Need to buy an iPad2 while I'm in Austin at #sxsw. Not sure if I'll need to Q up at an Austin Apple store?                                        iPad                             Positive emotion                                      2\n",
       "                                                                                                                                                                                                                                        ..\n",
       "Google using Starry Night to demo their streetview-like art project. It's like they're inside my brain. #sxsw                                     Other Google product or service  Positive emotion                                      1\n",
       "Google vp to speak. The topic: 10 quick steps to owning everything in the world. #sxsw {link}                                                     Google                           No emotion toward brand or product                    1\n",
       "Google vs Bing on #bettersearch. Bing has a shot at success w/ structured search.  Potentially higher margin CPA model vs #Google. #SXSW          Google                           Negative emotion                                      1\n",
       "Google was incapable of doing disruptive innovation- and acquired 89 startups over the last few years @mention #leanstartup #sxsw                 Google                           Negative emotion                                      1\n",
       "Û÷Viagra for your communicationsÛª @mention launches Android app at #SXSW {link} Happy to see expansion beyond Outlook plugin.                  Android App                      Positive emotion                                      1\n",
       "Name: count, Length: 3282, dtype: int64"
      ]
     },
     "execution_count": 47,
     "metadata": {},
     "output_type": "execute_result"
    }
   ],
   "source": [
    "df.value_counts()"
   ]
  },
  {
   "cell_type": "markdown",
   "id": "daef85c8",
   "metadata": {},
   "source": [
    "#### Exploratory Data Analysis"
   ]
  },
  {
   "cell_type": "code",
   "execution_count": 48,
   "id": "5ff2d2b1",
   "metadata": {},
   "outputs": [
    {
     "data": {
      "text/plain": [
       "is_there_an_emotion_directed_at_a_brand_or_product\n",
       "Positive emotion                      2672\n",
       "Negative emotion                       519\n",
       "No emotion toward brand or product      91\n",
       "I can't tell                             9\n",
       "Name: count, dtype: int64"
      ]
     },
     "execution_count": 48,
     "metadata": {},
     "output_type": "execute_result"
    }
   ],
   "source": [
    "#checking distribution of target data\n",
    "\n",
    "df['is_there_an_emotion_directed_at_a_brand_or_product'].value_counts()"
   ]
  },
  {
   "cell_type": "code",
   "execution_count": 49,
   "id": "7359782b",
   "metadata": {},
   "outputs": [
    {
     "data": {
      "image/png": "[encoded data removed]",
      "text/plain": [
       "<Figure size 576x432 with 1 Axes>"
      ]
     },
     "metadata": {
      "needs_background": "light"
     },
     "output_type": "display_data"
    }
   ],
   "source": [
    "#visualizing distribution of target data\n",
    "\n",
    "plt.figure(figsize=(8, 6))\n",
    "ax = sns.countplot(x='is_there_an_emotion_directed_at_a_brand_or_product', data=df)\n",
    "plt.title('Distribution of customer emotion', fontsize=15)\n",
    "plt.xlabel('Customer emotions', fontsize=12)\n",
    "plt.ylabel('Count', fontsize=12);"
   ]
  },
  {
   "cell_type": "code",
   "execution_count": 63,
   "id": "ef33cb3b",
   "metadata": {},
   "outputs": [],
   "source": [
    "#feature engineering,renaming the columns for easier reference\n",
    "df.rename(columns={\n",
    "    'is_there_an_emotion_directed_at_a_brand_or_product':'Emotions',\n",
    "    'emotion_in_tweet_is_directed_at':'Product'\n",
    "},inplace=True)\n"
   ]
  },
  {
   "cell_type": "code",
   "execution_count": 64,
   "id": "75c50325",
   "metadata": {},
   "outputs": [
    {
     "data": {
      "text/html": [
       "<div>\n",
       "<style scoped>\n",
       "    .dataframe tbody tr th:only-of-type {\n",
       "        vertical-align: middle;\n",
       "    }\n",
       "\n",
       "    .dataframe tbody tr th {\n",
       "        vertical-align: top;\n",
       "    }\n",
       "\n",
       "    .dataframe thead th {\n",
       "        text-align: right;\n",
       "    }\n",
       "</style>\n",
       "<table border=\"1\" class=\"dataframe\">\n",
       "  <thead>\n",
       "    <tr style=\"text-align: right;\">\n",
       "      <th></th>\n",
       "      <th>tweet_text</th>\n",
       "      <th>Product</th>\n",
       "      <th>Emotions</th>\n",
       "    </tr>\n",
       "  </thead>\n",
       "  <tbody>\n",
       "    <tr>\n",
       "      <th>0</th>\n",
       "      <td>.@wesley83 I have a 3G iPhone. After 3 hrs twe...</td>\n",
       "      <td>iPhone</td>\n",
       "      <td>Negative emotion</td>\n",
       "    </tr>\n",
       "    <tr>\n",
       "      <th>1</th>\n",
       "      <td>@jessedee Know about @fludapp ? Awesome iPad/i...</td>\n",
       "      <td>iPad or iPhone App</td>\n",
       "      <td>Positive emotion</td>\n",
       "    </tr>\n",
       "    <tr>\n",
       "      <th>2</th>\n",
       "      <td>@swonderlin Can not wait for #iPad 2 also. The...</td>\n",
       "      <td>iPad</td>\n",
       "      <td>Positive emotion</td>\n",
       "    </tr>\n",
       "    <tr>\n",
       "      <th>3</th>\n",
       "      <td>@sxsw I hope this year's festival isn't as cra...</td>\n",
       "      <td>iPad or iPhone App</td>\n",
       "      <td>Negative emotion</td>\n",
       "    </tr>\n",
       "    <tr>\n",
       "      <th>4</th>\n",
       "      <td>@sxtxstate great stuff on Fri #SXSW: Marissa M...</td>\n",
       "      <td>Google</td>\n",
       "      <td>Positive emotion</td>\n",
       "    </tr>\n",
       "  </tbody>\n",
       "</table>\n",
       "</div>"
      ],
      "text/plain": [
       "                                          tweet_text             Product  \\\n",
       "0  .@wesley83 I have a 3G iPhone. After 3 hrs twe...              iPhone   \n",
       "1  @jessedee Know about @fludapp ? Awesome iPad/i...  iPad or iPhone App   \n",
       "2  @swonderlin Can not wait for #iPad 2 also. The...                iPad   \n",
       "3  @sxsw I hope this year's festival isn't as cra...  iPad or iPhone App   \n",
       "4  @sxtxstate great stuff on Fri #SXSW: Marissa M...              Google   \n",
       "\n",
       "           Emotions  \n",
       "0  Negative emotion  \n",
       "1  Positive emotion  \n",
       "2  Positive emotion  \n",
       "3  Negative emotion  \n",
       "4  Positive emotion  "
      ]
     },
     "execution_count": 64,
     "metadata": {},
     "output_type": "execute_result"
    }
   ],
   "source": [
    "df.head()"
   ]
  },
  {
   "cell_type": "markdown",
   "id": "f5b2b971",
   "metadata": {},
   "source": [
    "### iv) Natural Language Preprocessing (NLP) "
   ]
  },
  {
   "cell_type": "markdown",
   "id": "e06e1afd",
   "metadata": {},
   "source": [
    "To process the data,since its in text format,text preprocessing and vectorization are performed."
   ]
  },
  {
   "cell_type": "markdown",
   "id": "41375392",
   "metadata": {},
   "source": [
    "#### Text preprocessing"
   ]
  },
  {
   "cell_type": "markdown",
   "id": "6ef9c9b9",
   "metadata": {},
   "source": [
    "A pipeline has been created that converts text data to lower case for easier processing.The tweet_text column is the main focus as it contains the wording that determine the customer sentiments, hence its preprocessed.\n",
    "After conversion to lower case,its tokenized, stop words are removed then stemming and lemmatization is performed."
   ]
  },
  {
   "cell_type": "code",
   "execution_count": 98,
   "id": "9a84b32e",
   "metadata": {},
   "outputs": [],
   "source": [
    "def preprocess(text):\n",
    "    #lowercase\n",
    "    text = text.lower()\n",
    "    #tokenize\n",
    "    tokens = nltk.word_tokenize(text)\n",
    "    #remove punctuation,numbers\n",
    "    tokens = re.sub('[^a-zA-Z]','',text)\n",
    "    #remove stop words\n",
    "    stop_words = set(stopwords.words('english'))\n",
    "    tokens = (word for word in tokens if word not in stop_words)\n",
    "    #lemmantization\n",
    "    lemmatizer = WordNetLemmatizer()\n",
    "    tokens = [lemmatizer.lemmatize(word) for word in tokens]\n",
    "    #stemming\n",
    "    stemmer = PorterStemmer()\n",
    "    tokens = [stemmer.stem(word) for word in tokens]\n",
    "    tokens = ''.join(tokens)\n",
    "    return tokens"
   ]
  },
  {
   "cell_type": "code",
   "execution_count": 99,
   "id": "092d347b",
   "metadata": {},
   "outputs": [],
   "source": [
    "#applying the preprocessing steps on tweet_text\n",
    "df['clean_text'] = df['tweet_text'].apply(preprocess)"
   ]
  },
  {
   "cell_type": "code",
   "execution_count": 100,
   "id": "a6c2c0bf",
   "metadata": {},
   "outputs": [
    {
     "data": {
      "text/plain": [
       "0         welehvegphneferhrweengreunweneeupgreplugnnxw\n",
       "1    jeeeeknwbufluppweepphnepphulllkelpprecefregnlh...\n",
       "2                          wnerlncnnwfrplhehullehewnxw\n",
       "3                          xwhpeherfevlncrhherphneppxw\n",
       "4    xxegreuffnfrxwrergglerellechbkcnferencepullenw...\n",
       "Name: clean_text, dtype: object"
      ]
     },
     "execution_count": 100,
     "metadata": {},
     "output_type": "execute_result"
    }
   ],
   "source": [
    "df['clean_text'].head()"
   ]
  },
  {
   "cell_type": "markdown",
   "id": "0b476d92",
   "metadata": {},
   "source": [
    "### (v) Binary classification"
   ]
  },
  {
   "cell_type": "code",
   "execution_count": 114,
   "id": "11a9b082",
   "metadata": {},
   "outputs": [
    {
     "data": {
      "text/plain": [
       "Emotions\n",
       "Positive emotion                      2672\n",
       "Negative emotion                       519\n",
       "No emotion toward brand or product      91\n",
       "I can't tell                             9\n",
       "Name: count, dtype: int64"
      ]
     },
     "execution_count": 114,
     "metadata": {},
     "output_type": "execute_result"
    }
   ],
   "source": [
    "#checking distribution of target data\n",
    "\n",
    "df['Emotions'].value_counts()"
   ]
  },
  {
   "cell_type": "markdown",
   "id": "8e3bf925",
   "metadata": {},
   "source": [
    "The target column,Emotions,has several outputs beside the positive and negative output.As we'll begin with a binary classification,the other two will be assumed as negative."
   ]
  },
  {
   "cell_type": "code",
   "execution_count": 115,
   "id": "0b222cbe",
   "metadata": {},
   "outputs": [
    {
     "data": {
      "text/html": [
       "<div>\n",
       "<style scoped>\n",
       "    .dataframe tbody tr th:only-of-type {\n",
       "        vertical-align: middle;\n",
       "    }\n",
       "\n",
       "    .dataframe tbody tr th {\n",
       "        vertical-align: top;\n",
       "    }\n",
       "\n",
       "    .dataframe thead th {\n",
       "        text-align: right;\n",
       "    }\n",
       "</style>\n",
       "<table border=\"1\" class=\"dataframe\">\n",
       "  <thead>\n",
       "    <tr style=\"text-align: right;\">\n",
       "      <th></th>\n",
       "      <th>tweet_text</th>\n",
       "      <th>Product</th>\n",
       "      <th>Emotions</th>\n",
       "      <th>clean_text</th>\n",
       "    </tr>\n",
       "  </thead>\n",
       "  <tbody>\n",
       "    <tr>\n",
       "      <th>0</th>\n",
       "      <td>.@wesley83 I have a 3G iPhone. After 3 hrs twe...</td>\n",
       "      <td>iPhone</td>\n",
       "      <td>Negative emotion</td>\n",
       "      <td>welehvegphneferhrweengreunweneeupgreplugnnxw</td>\n",
       "    </tr>\n",
       "    <tr>\n",
       "      <th>1</th>\n",
       "      <td>@jessedee Know about @fludapp ? Awesome iPad/i...</td>\n",
       "      <td>iPad or iPhone App</td>\n",
       "      <td>Positive emotion</td>\n",
       "      <td>jeeeeknwbufluppweepphnepphulllkelpprecefregnlh...</td>\n",
       "    </tr>\n",
       "    <tr>\n",
       "      <th>2</th>\n",
       "      <td>@swonderlin Can not wait for #iPad 2 also. The...</td>\n",
       "      <td>iPad</td>\n",
       "      <td>Positive emotion</td>\n",
       "      <td>wnerlncnnwfrplhehullehewnxw</td>\n",
       "    </tr>\n",
       "    <tr>\n",
       "      <th>3</th>\n",
       "      <td>@sxsw I hope this year's festival isn't as cra...</td>\n",
       "      <td>iPad or iPhone App</td>\n",
       "      <td>Negative emotion</td>\n",
       "      <td>xwhpeherfevlncrhherphneppxw</td>\n",
       "    </tr>\n",
       "    <tr>\n",
       "      <th>4</th>\n",
       "      <td>@sxtxstate great stuff on Fri #SXSW: Marissa M...</td>\n",
       "      <td>Google</td>\n",
       "      <td>Positive emotion</td>\n",
       "      <td>xxegreuffnfrxwrergglerellechbkcnferencepullenw...</td>\n",
       "    </tr>\n",
       "  </tbody>\n",
       "</table>\n",
       "</div>"
      ],
      "text/plain": [
       "                                          tweet_text             Product  \\\n",
       "0  .@wesley83 I have a 3G iPhone. After 3 hrs twe...              iPhone   \n",
       "1  @jessedee Know about @fludapp ? Awesome iPad/i...  iPad or iPhone App   \n",
       "2  @swonderlin Can not wait for #iPad 2 also. The...                iPad   \n",
       "3  @sxsw I hope this year's festival isn't as cra...  iPad or iPhone App   \n",
       "4  @sxtxstate great stuff on Fri #SXSW: Marissa M...              Google   \n",
       "\n",
       "           Emotions                                         clean_text  \n",
       "0  Negative emotion       welehvegphneferhrweengreunweneeupgreplugnnxw  \n",
       "1  Positive emotion  jeeeeknwbufluppweepphnepphulllkelpprecefregnlh...  \n",
       "2  Positive emotion                        wnerlncnnwfrplhehullehewnxw  \n",
       "3  Negative emotion                        xwhpeherfevlncrhherphneppxw  \n",
       "4  Positive emotion  xxegreuffnfrxwrergglerellechbkcnferencepullenw...  "
      ]
     },
     "execution_count": 115,
     "metadata": {},
     "output_type": "execute_result"
    }
   ],
   "source": [
    "df.head()"
   ]
  },
  {
   "cell_type": "code",
   "execution_count": 121,
   "id": "b12da8ea",
   "metadata": {},
   "outputs": [
    {
     "data": {
      "text/plain": [
       "Emotions_binary\n",
       "Positive    2672\n",
       "Negative     619\n",
       "Name: count, dtype: int64"
      ]
     },
     "execution_count": 121,
     "metadata": {},
     "output_type": "execute_result"
    }
   ],
   "source": [
    "mapping = {\n",
    "    'Positive emotion':'Positive',\n",
    "    'Negative emotion': 'Negative',\n",
    "    'No emotion toward brand or product':'Negative',\n",
    "    \"I can't tell\": 'Negative'\n",
    "}\n",
    "df['Emotions_binary'] = df['Emotions'].map(mapping)\n",
    "df['Emotions_binary'].value_counts()\n"
   ]
  },
  {
   "cell_type": "code",
   "execution_count": 122,
   "id": "69b15c6e",
   "metadata": {},
   "outputs": [
    {
     "data": {
      "text/html": [
       "<div>\n",
       "<style scoped>\n",
       "    .dataframe tbody tr th:only-of-type {\n",
       "        vertical-align: middle;\n",
       "    }\n",
       "\n",
       "    .dataframe tbody tr th {\n",
       "        vertical-align: top;\n",
       "    }\n",
       "\n",
       "    .dataframe thead th {\n",
       "        text-align: right;\n",
       "    }\n",
       "</style>\n",
       "<table border=\"1\" class=\"dataframe\">\n",
       "  <thead>\n",
       "    <tr style=\"text-align: right;\">\n",
       "      <th></th>\n",
       "      <th>tweet_text</th>\n",
       "      <th>Product</th>\n",
       "      <th>Emotions</th>\n",
       "      <th>clean_text</th>\n",
       "      <th>Emotions_binary</th>\n",
       "    </tr>\n",
       "  </thead>\n",
       "  <tbody>\n",
       "    <tr>\n",
       "      <th>0</th>\n",
       "      <td>.@wesley83 I have a 3G iPhone. After 3 hrs twe...</td>\n",
       "      <td>iPhone</td>\n",
       "      <td>Negative emotion</td>\n",
       "      <td>welehvegphneferhrweengreunweneeupgreplugnnxw</td>\n",
       "      <td>Negative</td>\n",
       "    </tr>\n",
       "    <tr>\n",
       "      <th>1</th>\n",
       "      <td>@jessedee Know about @fludapp ? Awesome iPad/i...</td>\n",
       "      <td>iPad or iPhone App</td>\n",
       "      <td>Positive emotion</td>\n",
       "      <td>jeeeeknwbufluppweepphnepphulllkelpprecefregnlh...</td>\n",
       "      <td>Positive</td>\n",
       "    </tr>\n",
       "    <tr>\n",
       "      <th>2</th>\n",
       "      <td>@swonderlin Can not wait for #iPad 2 also. The...</td>\n",
       "      <td>iPad</td>\n",
       "      <td>Positive emotion</td>\n",
       "      <td>wnerlncnnwfrplhehullehewnxw</td>\n",
       "      <td>Positive</td>\n",
       "    </tr>\n",
       "    <tr>\n",
       "      <th>3</th>\n",
       "      <td>@sxsw I hope this year's festival isn't as cra...</td>\n",
       "      <td>iPad or iPhone App</td>\n",
       "      <td>Negative emotion</td>\n",
       "      <td>xwhpeherfevlncrhherphneppxw</td>\n",
       "      <td>Negative</td>\n",
       "    </tr>\n",
       "    <tr>\n",
       "      <th>4</th>\n",
       "      <td>@sxtxstate great stuff on Fri #SXSW: Marissa M...</td>\n",
       "      <td>Google</td>\n",
       "      <td>Positive emotion</td>\n",
       "      <td>xxegreuffnfrxwrergglerellechbkcnferencepullenw...</td>\n",
       "      <td>Positive</td>\n",
       "    </tr>\n",
       "  </tbody>\n",
       "</table>\n",
       "</div>"
      ],
      "text/plain": [
       "                                          tweet_text             Product  \\\n",
       "0  .@wesley83 I have a 3G iPhone. After 3 hrs twe...              iPhone   \n",
       "1  @jessedee Know about @fludapp ? Awesome iPad/i...  iPad or iPhone App   \n",
       "2  @swonderlin Can not wait for #iPad 2 also. The...                iPad   \n",
       "3  @sxsw I hope this year's festival isn't as cra...  iPad or iPhone App   \n",
       "4  @sxtxstate great stuff on Fri #SXSW: Marissa M...              Google   \n",
       "\n",
       "           Emotions                                         clean_text  \\\n",
       "0  Negative emotion       welehvegphneferhrweengreunweneeupgreplugnnxw   \n",
       "1  Positive emotion  jeeeeknwbufluppweepphnepphulllkelpprecefregnlh...   \n",
       "2  Positive emotion                        wnerlncnnwfrplhehullehewnxw   \n",
       "3  Negative emotion                        xwhpeherfevlncrhherphneppxw   \n",
       "4  Positive emotion  xxegreuffnfrxwrergglerellechbkcnferencepullenw...   \n",
       "\n",
       "  Emotions_binary  \n",
       "0        Negative  \n",
       "1        Positive  \n",
       "2        Positive  \n",
       "3        Negative  \n",
       "4        Positive  "
      ]
     },
     "execution_count": 122,
     "metadata": {},
     "output_type": "execute_result"
    }
   ],
   "source": [
    "df.head()"
   ]
  },
  {
   "cell_type": "code",
   "execution_count": 138,
   "id": "55bd42a7",
   "metadata": {},
   "outputs": [
    {
     "data": {
      "text/plain": [
       "Emotions_binary_no\n",
       "1    2672\n",
       "0     619\n",
       "Name: count, dtype: int64"
      ]
     },
     "execution_count": 138,
     "metadata": {},
     "output_type": "execute_result"
    }
   ],
   "source": [
    "mapping1 = {\n",
    "    'Positive':1,\n",
    "    'Negative':0,\n",
    "\n",
    "}\n",
    "df['Emotions_binary_no'] = df['Emotions_binary'].map(mapping1)\n",
    "df['Emotions_binary_no'].value_counts()"
   ]
  },
  {
   "cell_type": "code",
   "execution_count": 139,
   "id": "cee17feb",
   "metadata": {},
   "outputs": [
    {
     "data": {
      "text/html": [
       "<div>\n",
       "<style scoped>\n",
       "    .dataframe tbody tr th:only-of-type {\n",
       "        vertical-align: middle;\n",
       "    }\n",
       "\n",
       "    .dataframe tbody tr th {\n",
       "        vertical-align: top;\n",
       "    }\n",
       "\n",
       "    .dataframe thead th {\n",
       "        text-align: right;\n",
       "    }\n",
       "</style>\n",
       "<table border=\"1\" class=\"dataframe\">\n",
       "  <thead>\n",
       "    <tr style=\"text-align: right;\">\n",
       "      <th></th>\n",
       "      <th>tweet_text</th>\n",
       "      <th>Product</th>\n",
       "      <th>Emotions</th>\n",
       "      <th>clean_text</th>\n",
       "      <th>Emotions_binary</th>\n",
       "      <th>Emotions_binary_no</th>\n",
       "    </tr>\n",
       "  </thead>\n",
       "  <tbody>\n",
       "    <tr>\n",
       "      <th>0</th>\n",
       "      <td>.@wesley83 I have a 3G iPhone. After 3 hrs twe...</td>\n",
       "      <td>iPhone</td>\n",
       "      <td>Negative emotion</td>\n",
       "      <td>welehvegphneferhrweengreunweneeupgreplugnnxw</td>\n",
       "      <td>Negative</td>\n",
       "      <td>0</td>\n",
       "    </tr>\n",
       "    <tr>\n",
       "      <th>1</th>\n",
       "      <td>@jessedee Know about @fludapp ? Awesome iPad/i...</td>\n",
       "      <td>iPad or iPhone App</td>\n",
       "      <td>Positive emotion</td>\n",
       "      <td>jeeeeknwbufluppweepphnepphulllkelpprecefregnlh...</td>\n",
       "      <td>Positive</td>\n",
       "      <td>1</td>\n",
       "    </tr>\n",
       "    <tr>\n",
       "      <th>2</th>\n",
       "      <td>@swonderlin Can not wait for #iPad 2 also. The...</td>\n",
       "      <td>iPad</td>\n",
       "      <td>Positive emotion</td>\n",
       "      <td>wnerlncnnwfrplhehullehewnxw</td>\n",
       "      <td>Positive</td>\n",
       "      <td>1</td>\n",
       "    </tr>\n",
       "    <tr>\n",
       "      <th>3</th>\n",
       "      <td>@sxsw I hope this year's festival isn't as cra...</td>\n",
       "      <td>iPad or iPhone App</td>\n",
       "      <td>Negative emotion</td>\n",
       "      <td>xwhpeherfevlncrhherphneppxw</td>\n",
       "      <td>Negative</td>\n",
       "      <td>0</td>\n",
       "    </tr>\n",
       "    <tr>\n",
       "      <th>4</th>\n",
       "      <td>@sxtxstate great stuff on Fri #SXSW: Marissa M...</td>\n",
       "      <td>Google</td>\n",
       "      <td>Positive emotion</td>\n",
       "      <td>xxegreuffnfrxwrergglerellechbkcnferencepullenw...</td>\n",
       "      <td>Positive</td>\n",
       "      <td>1</td>\n",
       "    </tr>\n",
       "  </tbody>\n",
       "</table>\n",
       "</div>"
      ],
      "text/plain": [
       "                                          tweet_text             Product  \\\n",
       "0  .@wesley83 I have a 3G iPhone. After 3 hrs twe...              iPhone   \n",
       "1  @jessedee Know about @fludapp ? Awesome iPad/i...  iPad or iPhone App   \n",
       "2  @swonderlin Can not wait for #iPad 2 also. The...                iPad   \n",
       "3  @sxsw I hope this year's festival isn't as cra...  iPad or iPhone App   \n",
       "4  @sxtxstate great stuff on Fri #SXSW: Marissa M...              Google   \n",
       "\n",
       "           Emotions                                         clean_text  \\\n",
       "0  Negative emotion       welehvegphneferhrweengreunweneeupgreplugnnxw   \n",
       "1  Positive emotion  jeeeeknwbufluppweepphnepphulllkelpprecefregnlh...   \n",
       "2  Positive emotion                        wnerlncnnwfrplhehullehewnxw   \n",
       "3  Negative emotion                        xwhpeherfevlncrhherphneppxw   \n",
       "4  Positive emotion  xxegreuffnfrxwrergglerellechbkcnferencepullenw...   \n",
       "\n",
       "  Emotions_binary  Emotions_binary_no  \n",
       "0        Negative                   0  \n",
       "1        Positive                   1  \n",
       "2        Positive                   1  \n",
       "3        Negative                   0  \n",
       "4        Positive                   1  "
      ]
     },
     "execution_count": 139,
     "metadata": {},
     "output_type": "execute_result"
    }
   ],
   "source": [
    "df.head()"
   ]
  },
  {
   "cell_type": "markdown",
   "id": "8c840654",
   "metadata": {},
   "source": [
    "### vi) Splitting data into train and test data sets"
   ]
  },
  {
   "cell_type": "code",
   "execution_count": 144,
   "id": "cf2f0454",
   "metadata": {},
   "outputs": [],
   "source": [
    "#split data\n",
    "X = df['clean_text']\n",
    "y= df['Emotions_binary_no']\n",
    "X_train,X_test,y_train,y_test = train_test_split(X,y,test_size = 0.2,random_state = 42)"
   ]
  },
  {
   "cell_type": "code",
   "execution_count": 163,
   "id": "d3919286",
   "metadata": {},
   "outputs": [
    {
     "data": {
      "text/plain": [
       "8246                  exceennheclnewrkpcewhgglecrclelnkxw\n",
       "8969                   xwexpeceeverneglueherphnepelfnclue\n",
       "8972    bcrhebfegnnprblelvngggleungflckngnwrngbehvrune...\n",
       "1118                           lnkxwpplechlherkengexperxw\n",
       "7352                   rcpnppleepenppuphpncrefxwcnlnkpple\n",
       "                              ...                        \n",
       "2849    nceeehepekerneknnrrelevnnrkcenbuppleclxwuhencnegn\n",
       "2944    hnkennfrgvngenewpcverfrbngeupjucepckphneceunur...\n",
       "3386    echnlgbefreevenbegnpplewnxwverhepweekherebeenj...\n",
       "2245                                gglewebfnprexwrehwlnk\n",
       "8771    hnkhevenfrncervelergphnechrgerfrnhereleennpeng...\n",
       "Name: clean_text, Length: 2632, dtype: object"
      ]
     },
     "execution_count": 163,
     "metadata": {},
     "output_type": "execute_result"
    }
   ],
   "source": [
    "X_train"
   ]
  },
  {
   "cell_type": "code",
   "execution_count": 146,
   "id": "8df61258",
   "metadata": {},
   "outputs": [
    {
     "data": {
      "text/plain": [
       "8539    njeunurrunebpplengglepeepeverechnerreeurnuphec...\n",
       "8744                                 wnguehexwpplerefrpwh\n",
       "4991    whenlkcrwxwevernehhewnlkngprphnenlplcewherecll...\n",
       "7163    lkngfrwreengpheefhelphgrphcwherebughlerprnncrb...\n",
       "4551    kenefhebhpeplefpplepevernglebhherehwherprucnph...\n",
       "                              ...                        \n",
       "2123           nwjxwkherefuurefrbrnenvenewppnheplnknheren\n",
       "8837          juweneflnghexwrehwflrweenhnhelecfrhphnejelu\n",
       "2196               pecefweenerunnrflngkulllnkennennxwrhng\n",
       "2148     geekuhexwnercvepnelwhhphllergrppueurpplegeherlnk\n",
       "136                              beufulxwennpplerexwpclnk\n",
       "Name: clean_text, Length: 659, dtype: object"
      ]
     },
     "execution_count": 146,
     "metadata": {},
     "output_type": "execute_result"
    }
   ],
   "source": [
    "X_test"
   ]
  },
  {
   "cell_type": "code",
   "execution_count": 147,
   "id": "420ad2b8",
   "metadata": {},
   "outputs": [
    {
     "data": {
      "text/plain": [
       "8246    1\n",
       "8969    1\n",
       "8972    1\n",
       "1118    1\n",
       "7352    1\n",
       "       ..\n",
       "2849    0\n",
       "2944    1\n",
       "3386    1\n",
       "2245    1\n",
       "8771    1\n",
       "Name: Emotions_binary_no, Length: 2632, dtype: int64"
      ]
     },
     "execution_count": 147,
     "metadata": {},
     "output_type": "execute_result"
    }
   ],
   "source": [
    "y_train"
   ]
  },
  {
   "cell_type": "code",
   "execution_count": 148,
   "id": "ed6e9884",
   "metadata": {},
   "outputs": [
    {
     "data": {
      "text/plain": [
       "8539    1\n",
       "8744    1\n",
       "4991    1\n",
       "7163    1\n",
       "4551    0\n",
       "       ..\n",
       "2123    0\n",
       "8837    1\n",
       "2196    1\n",
       "2148    1\n",
       "136     1\n",
       "Name: Emotions_binary_no, Length: 659, dtype: int64"
      ]
     },
     "execution_count": 148,
     "metadata": {},
     "output_type": "execute_result"
    }
   ],
   "source": [
    "y_test"
   ]
  },
  {
   "cell_type": "code",
   "execution_count": 149,
   "id": "e0100047",
   "metadata": {},
   "outputs": [
    {
     "data": {
      "text/plain": [
       "(2632,)"
      ]
     },
     "execution_count": 149,
     "metadata": {},
     "output_type": "execute_result"
    }
   ],
   "source": [
    "#checking number of columns and rows after the split to confirm working\n",
    "X_train.shape"
   ]
  },
  {
   "cell_type": "code",
   "execution_count": 150,
   "id": "00935742",
   "metadata": {},
   "outputs": [
    {
     "data": {
      "text/plain": [
       "(2632,)"
      ]
     },
     "execution_count": 150,
     "metadata": {},
     "output_type": "execute_result"
    }
   ],
   "source": [
    "y_train.shape"
   ]
  },
  {
   "cell_type": "markdown",
   "id": "1560e439",
   "metadata": {},
   "source": [
    "####  Vectorization"
   ]
  },
  {
   "cell_type": "markdown",
   "id": "f36664a8",
   "metadata": {},
   "source": [
    "This is done to convert the text data to numerical format to enable model interpretation."
   ]
  },
  {
   "cell_type": "code",
   "execution_count": 152,
   "id": "9eea2a87",
   "metadata": {},
   "outputs": [],
   "source": [
    "#vectorize\n",
    "vectorize = TfidfVectorizer()\n",
    "X_train_vec = vectorize.fit_transform(X_train)\n",
    "X_test_vec = vectorize.transform(X_test)"
   ]
  },
  {
   "cell_type": "markdown",
   "id": "200987cf",
   "metadata": {},
   "source": [
    "### vii) Creating,training,predicting and evaluation - logistic regression model"
   ]
  },
  {
   "cell_type": "markdown",
   "id": "d7ac1f87",
   "metadata": {},
   "source": [
    "The first model will predict whether a customer's text represents a positive or negative emotion. It is therefore a binary classification problem, it can thus be solved by classification models/techniques. To begin we'll start with the simpler logistic regression model."
   ]
  },
  {
   "cell_type": "code",
   "execution_count": 153,
   "id": "1a351bc9",
   "metadata": {},
   "outputs": [
    {
     "data": {
      "text/html": [
       "<style>#sk-container-id-4 {color: black;}#sk-container-id-4 pre{padding: 0;}#sk-container-id-4 div.sk-toggleable {background-color: white;}#sk-container-id-4 label.sk-toggleable__label {cursor: pointer;display: block;width: 100%;margin-bottom: 0;padding: 0.3em;box-sizing: border-box;text-align: center;}#sk-container-id-4 label.sk-toggleable__label-arrow:before {content: \"▸\";float: left;margin-right: 0.25em;color: #696969;}#sk-container-id-4 label.sk-toggleable__label-arrow:hover:before {color: black;}#sk-container-id-4 div.sk-estimator:hover label.sk-toggleable__label-arrow:before {color: black;}#sk-container-id-4 div.sk-toggleable__content {max-height: 0;max-width: 0;overflow: hidden;text-align: left;background-color: #f0f8ff;}#sk-container-id-4 div.sk-toggleable__content pre {margin: 0.2em;color: black;border-radius: 0.25em;background-color: #f0f8ff;}#sk-container-id-4 input.sk-toggleable__control:checked~div.sk-toggleable__content {max-height: 200px;max-width: 100%;overflow: auto;}#sk-container-id-4 input.sk-toggleable__control:checked~label.sk-toggleable__label-arrow:before {content: \"▾\";}#sk-container-id-4 div.sk-estimator input.sk-toggleable__control:checked~label.sk-toggleable__label {background-color: #d4ebff;}#sk-container-id-4 div.sk-label input.sk-toggleable__control:checked~label.sk-toggleable__label {background-color: #d4ebff;}#sk-container-id-4 input.sk-hidden--visually {border: 0;clip: rect(1px 1px 1px 1px);clip: rect(1px, 1px, 1px, 1px);height: 1px;margin: -1px;overflow: hidden;padding: 0;position: absolute;width: 1px;}#sk-container-id-4 div.sk-estimator {font-family: monospace;background-color: #f0f8ff;border: 1px dotted black;border-radius: 0.25em;box-sizing: border-box;margin-bottom: 0.5em;}#sk-container-id-4 div.sk-estimator:hover {background-color: #d4ebff;}#sk-container-id-4 div.sk-parallel-item::after {content: \"\";width: 100%;border-bottom: 1px solid gray;flex-grow: 1;}#sk-container-id-4 div.sk-label:hover label.sk-toggleable__label {background-color: #d4ebff;}#sk-container-id-4 div.sk-serial::before {content: \"\";position: absolute;border-left: 1px solid gray;box-sizing: border-box;top: 0;bottom: 0;left: 50%;z-index: 0;}#sk-container-id-4 div.sk-serial {display: flex;flex-direction: column;align-items: center;background-color: white;padding-right: 0.2em;padding-left: 0.2em;position: relative;}#sk-container-id-4 div.sk-item {position: relative;z-index: 1;}#sk-container-id-4 div.sk-parallel {display: flex;align-items: stretch;justify-content: center;background-color: white;position: relative;}#sk-container-id-4 div.sk-item::before, #sk-container-id-4 div.sk-parallel-item::before {content: \"\";position: absolute;border-left: 1px solid gray;box-sizing: border-box;top: 0;bottom: 0;left: 50%;z-index: -1;}#sk-container-id-4 div.sk-parallel-item {display: flex;flex-direction: column;z-index: 1;position: relative;background-color: white;}#sk-container-id-4 div.sk-parallel-item:first-child::after {align-self: flex-end;width: 50%;}#sk-container-id-4 div.sk-parallel-item:last-child::after {align-self: flex-start;width: 50%;}#sk-container-id-4 div.sk-parallel-item:only-child::after {width: 0;}#sk-container-id-4 div.sk-dashed-wrapped {border: 1px dashed gray;margin: 0 0.4em 0.5em 0.4em;box-sizing: border-box;padding-bottom: 0.4em;background-color: white;}#sk-container-id-4 div.sk-label label {font-family: monospace;font-weight: bold;display: inline-block;line-height: 1.2em;}#sk-container-id-4 div.sk-label-container {text-align: center;}#sk-container-id-4 div.sk-container {/* jupyter's `normalize.less` sets `[hidden] { display: none; }` but bootstrap.min.css set `[hidden] { display: none !important; }` so we also need the `!important` here to be able to override the default hidden behavior on the sphinx rendered scikit-learn.org. See: https://github.com/scikit-learn/scikit-learn/issues/21755 */display: inline-block !important;position: relative;}#sk-container-id-4 div.sk-text-repr-fallback {display: none;}</style><div id=\"sk-container-id-4\" class=\"sk-top-container\"><div class=\"sk-text-repr-fallback\"><pre>LogisticRegression(max_iter=1000)</pre><b>In a Jupyter environment, please rerun this cell to show the HTML representation or trust the notebook. <br />On GitHub, the HTML representation is unable to render, please try loading this page with nbviewer.org.</b></div><div class=\"sk-container\" hidden><div class=\"sk-item\"><div class=\"sk-estimator sk-toggleable\"><input class=\"sk-toggleable__control sk-hidden--visually\" id=\"sk-estimator-id-4\" type=\"checkbox\" checked><label for=\"sk-estimator-id-4\" class=\"sk-toggleable__label sk-toggleable__label-arrow\">LogisticRegression</label><div class=\"sk-toggleable__content\"><pre>LogisticRegression(max_iter=1000)</pre></div></div></div></div></div>"
      ],
      "text/plain": [
       "LogisticRegression(max_iter=1000)"
      ]
     },
     "execution_count": 153,
     "metadata": {},
     "output_type": "execute_result"
    }
   ],
   "source": [
    "#model training\n",
    "modellog = LogisticRegression(max_iter=1000)\n",
    "modellog.fit(X_train_vec,y_train)"
   ]
  },
  {
   "cell_type": "code",
   "execution_count": 154,
   "id": "dfd6732f",
   "metadata": {},
   "outputs": [
    {
     "name": "stdout",
     "output_type": "stream",
     "text": [
      "              precision    recall  f1-score   support\n",
      "\n",
      "           0       0.00      0.00      0.00       495\n",
      "           1       0.81      1.00      0.90      2137\n",
      "\n",
      "    accuracy                           0.81      2632\n",
      "   macro avg       0.41      0.50      0.45      2632\n",
      "weighted avg       0.66      0.81      0.73      2632\n",
      "\n"
     ]
    },
    {
     "name": "stderr",
     "output_type": "stream",
     "text": [
      "c:\\Users\\User\\anaconda3\\envs\\learn-env\\lib\\site-packages\\sklearn\\metrics\\_classification.py:1471: UndefinedMetricWarning: Precision and F-score are ill-defined and being set to 0.0 in labels with no predicted samples. Use `zero_division` parameter to control this behavior.\n",
      "  _warn_prf(average, modifier, msg_start, len(result))\n",
      "c:\\Users\\User\\anaconda3\\envs\\learn-env\\lib\\site-packages\\sklearn\\metrics\\_classification.py:1471: UndefinedMetricWarning: Precision and F-score are ill-defined and being set to 0.0 in labels with no predicted samples. Use `zero_division` parameter to control this behavior.\n",
      "  _warn_prf(average, modifier, msg_start, len(result))\n",
      "c:\\Users\\User\\anaconda3\\envs\\learn-env\\lib\\site-packages\\sklearn\\metrics\\_classification.py:1471: UndefinedMetricWarning: Precision and F-score are ill-defined and being set to 0.0 in labels with no predicted samples. Use `zero_division` parameter to control this behavior.\n",
      "  _warn_prf(average, modifier, msg_start, len(result))\n"
     ]
    }
   ],
   "source": [
    "#evaluate on testing data\n",
    "trainlog_pred = modellog.predict(X_train_vec)\n",
    "print(classification_report(y_train,trainlog_pred))"
   ]
  },
  {
   "cell_type": "code",
   "execution_count": 155,
   "id": "4ab89944",
   "metadata": {},
   "outputs": [
    {
     "name": "stdout",
     "output_type": "stream",
     "text": [
      "              precision    recall  f1-score   support\n",
      "\n",
      "           0       0.00      0.00      0.00       124\n",
      "           1       0.81      1.00      0.90       535\n",
      "\n",
      "    accuracy                           0.81       659\n",
      "   macro avg       0.41      0.50      0.45       659\n",
      "weighted avg       0.66      0.81      0.73       659\n",
      "\n"
     ]
    },
    {
     "name": "stderr",
     "output_type": "stream",
     "text": [
      "c:\\Users\\User\\anaconda3\\envs\\learn-env\\lib\\site-packages\\sklearn\\metrics\\_classification.py:1471: UndefinedMetricWarning: Precision and F-score are ill-defined and being set to 0.0 in labels with no predicted samples. Use `zero_division` parameter to control this behavior.\n",
      "  _warn_prf(average, modifier, msg_start, len(result))\n",
      "c:\\Users\\User\\anaconda3\\envs\\learn-env\\lib\\site-packages\\sklearn\\metrics\\_classification.py:1471: UndefinedMetricWarning: Precision and F-score are ill-defined and being set to 0.0 in labels with no predicted samples. Use `zero_division` parameter to control this behavior.\n",
      "  _warn_prf(average, modifier, msg_start, len(result))\n",
      "c:\\Users\\User\\anaconda3\\envs\\learn-env\\lib\\site-packages\\sklearn\\metrics\\_classification.py:1471: UndefinedMetricWarning: Precision and F-score are ill-defined and being set to 0.0 in labels with no predicted samples. Use `zero_division` parameter to control this behavior.\n",
      "  _warn_prf(average, modifier, msg_start, len(result))\n"
     ]
    }
   ],
   "source": [
    "#evaluate on testing data\n",
    "testlog_pred = modellog.predict(X_test_vec)\n",
    "print(classification_report(y_test,testlog_pred))"
   ]
  },
  {
   "cell_type": "markdown",
   "id": "00399e66",
   "metadata": {},
   "source": [
    "1 Generally from the above classification report, the recall,f1-score,precision values are zero for the negative class in both the training and testing datasets.This shows that the model is not correctly capturing / predicting negative labels. The probable cause could be an imbalance in the two classes.\n",
    "\n",
    "2 The accuracy however is within the same range for both the training and testing dataset.\n",
    "\n",
    "3 The positive label precision,recall and f1-score values are within range for both the training and test sets.The accuracy level therefore probably captures mostly the positive values while not correctly representing the negative values.\n",
    "\n",
    "4 For further evaluation the ROC curve is used below to show the rate of truly predicting customers who drop off."
   ]
  },
  {
   "cell_type": "code",
   "execution_count": 156,
   "id": "2cb7d8f6",
   "metadata": {},
   "outputs": [],
   "source": [
    "#Scikit learn's built in roc_curve returns the fpr,tpr,and threshold for various decision boundaries given the case member probabilities\n",
    "#first calculate the probability scores of each of the data points\n",
    "\n",
    "y_score = modellog.fit(X_train_vec,y_train).decision_function(X_test_vec)\n",
    "\n",
    "#compute ROC curve values\n",
    "fpr,tpr,thresholds = roc_curve(y_test,y_score)"
   ]
  },
  {
   "cell_type": "code",
   "execution_count": 157,
   "id": "45ca0ced",
   "metadata": {},
   "outputs": [
    {
     "data": {
      "text/plain": [
       "0.5133026831474223"
      ]
     },
     "execution_count": 157,
     "metadata": {},
     "output_type": "execute_result"
    }
   ],
   "source": [
    "#calculate AUC\n",
    "\n",
    "auc(fpr,tpr)"
   ]
  },
  {
   "cell_type": "code",
   "execution_count": 158,
   "id": "09f48d73",
   "metadata": {},
   "outputs": [
    {
     "name": "stdout",
     "output_type": "stream",
     "text": [
      "AUC: 0.5133026831474223\n"
     ]
    },
    {
     "data": {
      "image/png": "[encoded data removed]",
      "text/plain": [
       "<Figure size 720x576 with 1 Axes>"
      ]
     },
     "metadata": {},
     "output_type": "display_data"
    }
   ],
   "source": [
    "#plotting ROC curve\n",
    "%matplotlib inline\n",
    "sns.set_style('darkgrid', {'axes.facecolor': '0.9'})\n",
    "\n",
    "print('AUC: {}'.format(auc(fpr, tpr)))\n",
    "plt.figure(figsize=(10, 8))\n",
    "lw = 2\n",
    "plt.plot(fpr, tpr, color='darkorange',\n",
    "         lw=lw, label='ROC curve')\n",
    "plt.plot([0, 1], [0, 1], color='navy', lw=lw, linestyle='--')\n",
    "plt.xlim([0.0, 1.0])\n",
    "plt.ylim([0.0, 1.05])\n",
    "plt.yticks([i/20.0 for i in range(21)])\n",
    "plt.xticks([i/20.0 for i in range(21)])\n",
    "plt.xlabel('False Positive Rate')\n",
    "plt.ylabel('True Positive Rate')\n",
    "plt.title('Receiver operating characteristic (ROC) Curve')\n",
    "plt.legend(loc='lower right')\n",
    "plt.show()"
   ]
  },
  {
   "cell_type": "markdown",
   "id": "630e6171",
   "metadata": {},
   "source": [
    "The ROC curve above shows the model's inability to distinguish between the positive and negative classes, the ROC line is too close to the separator line(center).\n",
    "\n",
    "A possible mishap in the dataset could be data imbalance, to solve this we'll apply smote."
   ]
  },
  {
   "cell_type": "markdown",
   "id": "106f19a3",
   "metadata": {},
   "source": [
    "#### 1) Applying SMOTE"
   ]
  },
  {
   "cell_type": "code",
   "execution_count": 164,
   "id": "49f675f5",
   "metadata": {},
   "outputs": [
    {
     "data": {
      "text/plain": [
       "Emotions_binary_no\n",
       "1    2137\n",
       "0    2137\n",
       "Name: count, dtype: int64"
      ]
     },
     "execution_count": 164,
     "metadata": {},
     "output_type": "execute_result"
    }
   ],
   "source": [
    "# Applying SMOTE on the training data\n",
    "smote = SMOTE()\n",
    "X_train_resampled, y_train_resampled = smote.fit_resample(X_train_vec, y_train) \n",
    "y_train_resampled.value_counts()"
   ]
  },
  {
   "cell_type": "markdown",
   "id": "3d3c7ffb",
   "metadata": {},
   "source": [
    "The result of the SMOTE technique is as shown above, the number of samples are now equal."
   ]
  },
  {
   "cell_type": "code",
   "execution_count": 165,
   "id": "27cb7595",
   "metadata": {},
   "outputs": [
    {
     "name": "stdout",
     "output_type": "stream",
     "text": [
      "              precision    recall  f1-score   support\n",
      "\n",
      "           0       1.00      0.82      0.90      2137\n",
      "           1       0.84      1.00      0.92      2137\n",
      "\n",
      "    accuracy                           0.91      4274\n",
      "   macro avg       0.92      0.91      0.91      4274\n",
      "weighted avg       0.92      0.91      0.91      4274\n",
      "\n"
     ]
    }
   ],
   "source": [
    "#model training\n",
    "modellog_S = LogisticRegression(max_iter=1000)\n",
    "modellog_S.fit(X_train_resampled,y_train_resampled)\n",
    "\n",
    "#evaluate on training data\n",
    "trainlog_pred_S = modellog_S.predict(X_train_resampled)\n",
    "print(classification_report(y_train_resampled,trainlog_pred_S))\n"
   ]
  },
  {
   "cell_type": "code",
   "execution_count": 168,
   "id": "ef80c491",
   "metadata": {},
   "outputs": [
    {
     "name": "stdout",
     "output_type": "stream",
     "text": [
      "              precision    recall  f1-score   support\n",
      "\n",
      "           0       0.00      0.00      0.00       124\n",
      "           1       0.81      1.00      0.90       535\n",
      "\n",
      "    accuracy                           0.81       659\n",
      "   macro avg       0.41      0.50      0.45       659\n",
      "weighted avg       0.66      0.81      0.73       659\n",
      "\n"
     ]
    },
    {
     "name": "stderr",
     "output_type": "stream",
     "text": [
      "c:\\Users\\User\\anaconda3\\envs\\learn-env\\lib\\site-packages\\sklearn\\metrics\\_classification.py:1471: UndefinedMetricWarning: Precision and F-score are ill-defined and being set to 0.0 in labels with no predicted samples. Use `zero_division` parameter to control this behavior.\n",
      "  _warn_prf(average, modifier, msg_start, len(result))\n",
      "c:\\Users\\User\\anaconda3\\envs\\learn-env\\lib\\site-packages\\sklearn\\metrics\\_classification.py:1471: UndefinedMetricWarning: Precision and F-score are ill-defined and being set to 0.0 in labels with no predicted samples. Use `zero_division` parameter to control this behavior.\n",
      "  _warn_prf(average, modifier, msg_start, len(result))\n",
      "c:\\Users\\User\\anaconda3\\envs\\learn-env\\lib\\site-packages\\sklearn\\metrics\\_classification.py:1471: UndefinedMetricWarning: Precision and F-score are ill-defined and being set to 0.0 in labels with no predicted samples. Use `zero_division` parameter to control this behavior.\n",
      "  _warn_prf(average, modifier, msg_start, len(result))\n"
     ]
    }
   ],
   "source": [
    "#evaluate on testing data\n",
    "testlog_pred_S = modellog_S.predict(X_test_vec)\n",
    "print(classification_report(y_test,testlog_pred_S))"
   ]
  },
  {
   "cell_type": "markdown",
   "id": "a2855822",
   "metadata": {},
   "source": [
    "The evaluation metrics  of the balanced dataset  on the negative class have improved compared to the imbalanced dataset, they are higher.\n",
    "\n",
    "However the model still can't classify the negative class, as seen from the zero values of the test evaluation metrics.\n",
    "\n",
    "The model is overfitting on the training data."
   ]
  },
  {
   "cell_type": "code",
   "execution_count": 169,
   "id": "9cf610dd",
   "metadata": {},
   "outputs": [
    {
     "data": {
      "text/plain": [
       "0.5133026831474223"
      ]
     },
     "execution_count": 169,
     "metadata": {},
     "output_type": "execute_result"
    }
   ],
   "source": [
    "y_score_S = modellog_S.fit(X_train_resampled,y_train_resampled).decision_function(X_test_vec)\n",
    "\n",
    "#compute ROC curve values\n",
    "fpr,tpr,thresholds = roc_curve(y_test,y_score_S)\n",
    "\n",
    "auc(fpr,tpr)\n"
   ]
  },
  {
   "cell_type": "code",
   "execution_count": 170,
   "id": "1c1ee589",
   "metadata": {},
   "outputs": [
    {
     "name": "stdout",
     "output_type": "stream",
     "text": [
      "AUC: 0.5133026831474223\n"
     ]
    },
    {
     "data": {
      "image/png": "[encoded data removed]",
      "text/plain": [
       "<Figure size 720x576 with 1 Axes>"
      ]
     },
     "metadata": {},
     "output_type": "display_data"
    }
   ],
   "source": [
    "#plotting ROC curve\n",
    "%matplotlib inline\n",
    "sns.set_style('darkgrid', {'axes.facecolor': '0.9'})\n",
    "\n",
    "print('AUC: {}'.format(auc(fpr, tpr)))\n",
    "plt.figure(figsize=(10, 8))\n",
    "lw = 2\n",
    "plt.plot(fpr, tpr, color='darkorange',\n",
    "         lw=lw, label='ROC curve')\n",
    "plt.plot([0, 1], [0, 1], color='navy', lw=lw, linestyle='--')\n",
    "plt.xlim([0.0, 1.0])\n",
    "plt.ylim([0.0, 1.05])\n",
    "plt.yticks([i/20.0 for i in range(21)])\n",
    "plt.xticks([i/20.0 for i in range(21)])\n",
    "plt.xlabel('False Positive Rate')\n",
    "plt.ylabel('True Positive Rate')\n",
    "plt.title('Receiver operating characteristic (ROC) Curve')\n",
    "plt.legend(loc='lower right')\n",
    "plt.show()"
   ]
  },
  {
   "cell_type": "markdown",
   "id": "5a8944e6",
   "metadata": {},
   "source": [
    "The ROC curve after the SMOTE application is still the same."
   ]
  },
  {
   "cell_type": "markdown",
   "id": "13d9491c",
   "metadata": {},
   "source": [
    "#### 2) Hyperparameter tuning"
   ]
  },
  {
   "cell_type": "markdown",
   "id": "a17f5d8f",
   "metadata": {},
   "source": [
    "To minimize the overfitting of the above model, we try tuning parameters to obtain a better model using GridSearchCV"
   ]
  },
  {
   "cell_type": "code",
   "execution_count": 171,
   "id": "1ac606b0",
   "metadata": {},
   "outputs": [
    {
     "data": {
      "text/plain": [
       "{'C': 1.0,\n",
       " 'class_weight': None,\n",
       " 'dual': False,\n",
       " 'fit_intercept': True,\n",
       " 'intercept_scaling': 1,\n",
       " 'l1_ratio': None,\n",
       " 'max_iter': 100,\n",
       " 'multi_class': 'auto',\n",
       " 'n_jobs': None,\n",
       " 'penalty': 'l2',\n",
       " 'random_state': None,\n",
       " 'solver': 'lbfgs',\n",
       " 'tol': 0.0001,\n",
       " 'verbose': 0,\n",
       " 'warm_start': False}"
      ]
     },
     "execution_count": 171,
     "metadata": {},
     "output_type": "execute_result"
    }
   ],
   "source": [
    "model_h = LogisticRegression()\n",
    "hyperparameters = model_h.get_params()\n",
    "hyperparameters"
   ]
  },
  {
   "cell_type": "code",
   "execution_count": 183,
   "id": "1e76d8cf",
   "metadata": {},
   "outputs": [
    {
     "name": "stderr",
     "output_type": "stream",
     "text": [
      "c:\\Users\\User\\anaconda3\\envs\\learn-env\\lib\\site-packages\\sklearn\\linear_model\\_sag.py:350: ConvergenceWarning: The max_iter was reached which means the coef_ did not converge\n",
      "  warnings.warn(\n",
      "c:\\Users\\User\\anaconda3\\envs\\learn-env\\lib\\site-packages\\sklearn\\linear_model\\_sag.py:350: ConvergenceWarning: The max_iter was reached which means the coef_ did not converge\n",
      "  warnings.warn(\n",
      "c:\\Users\\User\\anaconda3\\envs\\learn-env\\lib\\site-packages\\sklearn\\linear_model\\_sag.py:350: ConvergenceWarning: The max_iter was reached which means the coef_ did not converge\n",
      "  warnings.warn(\n",
      "c:\\Users\\User\\anaconda3\\envs\\learn-env\\lib\\site-packages\\sklearn\\linear_model\\_sag.py:350: ConvergenceWarning: The max_iter was reached which means the coef_ did not converge\n",
      "  warnings.warn(\n",
      "c:\\Users\\User\\anaconda3\\envs\\learn-env\\lib\\site-packages\\sklearn\\linear_model\\_sag.py:350: ConvergenceWarning: The max_iter was reached which means the coef_ did not converge\n",
      "  warnings.warn(\n",
      "c:\\Users\\User\\anaconda3\\envs\\learn-env\\lib\\site-packages\\sklearn\\linear_model\\_sag.py:350: ConvergenceWarning: The max_iter was reached which means the coef_ did not converge\n",
      "  warnings.warn(\n",
      "c:\\Users\\User\\anaconda3\\envs\\learn-env\\lib\\site-packages\\sklearn\\linear_model\\_sag.py:350: ConvergenceWarning: The max_iter was reached which means the coef_ did not converge\n",
      "  warnings.warn(\n",
      "c:\\Users\\User\\anaconda3\\envs\\learn-env\\lib\\site-packages\\sklearn\\linear_model\\_sag.py:350: ConvergenceWarning: The max_iter was reached which means the coef_ did not converge\n",
      "  warnings.warn(\n",
      "c:\\Users\\User\\anaconda3\\envs\\learn-env\\lib\\site-packages\\sklearn\\linear_model\\_sag.py:350: ConvergenceWarning: The max_iter was reached which means the coef_ did not converge\n",
      "  warnings.warn(\n",
      "c:\\Users\\User\\anaconda3\\envs\\learn-env\\lib\\site-packages\\sklearn\\linear_model\\_sag.py:350: ConvergenceWarning: The max_iter was reached which means the coef_ did not converge\n",
      "  warnings.warn(\n"
     ]
    }
   ],
   "source": [
    "#setting the hyperparameters\n",
    "param_grid_lr = {\n",
    "    'C': [0.001, 0.01, 0.1, 1, 10, 100],\n",
    "    'penalty': ['l1', 'l2'],\n",
    "    'solver': ['liblinear', 'saga',],\n",
    "    'class_weight': [None, 'balanced']\n",
    "}\n",
    "\n",
    "#initiating tuning using GrisSearchCV\n",
    "grid_search_lr = GridSearchCV(\n",
    "    LogisticRegression(random_state=42, max_iter=1000),\n",
    "    param_grid=param_grid_lr,\n",
    "    cv=5,\n",
    "    scoring='f1'\n",
    ")\n",
    "\n",
    "# Fitting the GridSearchCV to the data\n",
    "grid_search_lr.fit(X_train_resampled, y_train_resampled)\n",
    "\n",
    "# Get the best model\n",
    "best_lr_model = grid_search_lr.best_estimator_"
   ]
  },
  {
   "cell_type": "code",
   "execution_count": 185,
   "id": "d9dfd10c",
   "metadata": {},
   "outputs": [
    {
     "data": {
      "text/plain": [
       "{'C': 100, 'class_weight': None, 'penalty': 'l2', 'solver': 'liblinear'}"
      ]
     },
     "execution_count": 185,
     "metadata": {},
     "output_type": "execute_result"
    }
   ],
   "source": [
    "grid_search_lr.best_params_"
   ]
  },
  {
   "cell_type": "code",
   "execution_count": 186,
   "id": "73cac310",
   "metadata": {},
   "outputs": [],
   "source": [
    "# Generate predictions for training and test sets\n",
    "y_train_pred = best_lr_model.predict(X_train_resampled)\n",
    "y_test_pred = best_lr_model.predict(X_test_vec)"
   ]
  },
  {
   "cell_type": "code",
   "execution_count": 187,
   "id": "add456b9",
   "metadata": {},
   "outputs": [
    {
     "name": "stdout",
     "output_type": "stream",
     "text": [
      "              precision    recall  f1-score   support\n",
      "\n",
      "           0       1.00      1.00      1.00      2137\n",
      "           1       1.00      1.00      1.00      2137\n",
      "\n",
      "    accuracy                           1.00      4274\n",
      "   macro avg       1.00      1.00      1.00      4274\n",
      "weighted avg       1.00      1.00      1.00      4274\n",
      "\n"
     ]
    }
   ],
   "source": [
    "#evaluation metrics for the train data set\n",
    "print(classification_report(y_train_resampled,y_train_pred))"
   ]
  },
  {
   "cell_type": "code",
   "execution_count": 188,
   "id": "a80849e5",
   "metadata": {},
   "outputs": [
    {
     "name": "stdout",
     "output_type": "stream",
     "text": [
      "              precision    recall  f1-score   support\n",
      "\n",
      "           0       1.00      0.01      0.02       124\n",
      "           1       0.81      1.00      0.90       535\n",
      "\n",
      "    accuracy                           0.81       659\n",
      "   macro avg       0.91      0.50      0.46       659\n",
      "weighted avg       0.85      0.81      0.73       659\n",
      "\n"
     ]
    }
   ],
   "source": [
    "#evaluation metrics for the test data set\n",
    "print(classification_report(y_test,y_test_pred))"
   ]
  },
  {
   "cell_type": "markdown",
   "id": "6e1556a9",
   "metadata": {},
   "source": [
    "confusion matrix plot"
   ]
  },
  {
   "cell_type": "code",
   "execution_count": 180,
   "id": "b4ce6c0b",
   "metadata": {},
   "outputs": [
    {
     "data": {
      "image/png": "[encoded data removed]",
      "text/plain": [
       "<Figure size 576x432 with 2 Axes>"
      ]
     },
     "metadata": {},
     "output_type": "display_data"
    },
    {
     "name": "stdout",
     "output_type": "stream",
     "text": [
      "Confusion Matrix:\n",
      "[[  1 123]\n",
      " [  0 535]]\n"
     ]
    }
   ],
   "source": [
    "con_mat = confusion_matrix(y_test, y_test_pred)\n",
    "\n",
    "plt.figure(figsize=(8, 6))\n",
    "sns.heatmap(con_mat, annot=True, fmt='d', cmap='Blues')\n",
    "plt.title(' Logistic Regression - Confusion Matrix ')\n",
    "plt.xlabel('Predicted values')\n",
    "plt.ylabel('True values')\n",
    "plt.show()\n",
    "\n",
    "print(\"Confusion Matrix:\")\n",
    "print(con_mat)"
   ]
  },
  {
   "cell_type": "code",
   "execution_count": null,
   "id": "cfb1a072",
   "metadata": {},
   "outputs": [],
   "source": [
    "TP = 535\n",
    "FP = 123\n",
    "TN = 1\n",
    "FN = 0"
   ]
  },
  {
   "cell_type": "markdown",
   "id": "cb714b28",
   "metadata": {},
   "source": [
    "The model has improved after the GridSearchCV tuning on correctly identifying true negative values with a precision of 1.However the low recall,0.01,meaning the model did not capture most of the negative values of the test data.This ultimately led to the low F1-score.\n",
    "\n",
    "We'll try using XGboost to check for better perfomance"
   ]
  },
  {
   "cell_type": "markdown",
   "id": "612e5190",
   "metadata": {},
   "source": [
    "#### 3) Applying XGBoost"
   ]
  },
  {
   "cell_type": "code",
   "execution_count": 190,
   "id": "a4ad4964",
   "metadata": {},
   "outputs": [],
   "source": [
    "clf = XGBClassifier()"
   ]
  },
  {
   "cell_type": "code",
   "execution_count": 193,
   "id": "d4086d70",
   "metadata": {},
   "outputs": [],
   "source": [
    "#setting the hyperparameters\n",
    "param_grid_cl = {\n",
    "    'learning_rate': [0.1, 0.2],\n",
    "    'max_depth': [6],\n",
    "    'min_child_weight': [1, 2],\n",
    "    'subsample': [0.5, 0.7],\n",
    "    'n_estimators': [100]\n",
    "}\n",
    "\n",
    "#initiating tuning using GrisSearchCV\n",
    "grid_search_cl = GridSearchCV(\n",
    "    clf,\n",
    "    param_grid=param_grid_cl,\n",
    "    cv=5,\n",
    "    scoring='f1'\n",
    ")\n",
    "\n",
    "# Fitting the GridSearchCV to the data\n",
    "grid_search_cl.fit(X_train_resampled, y_train_resampled)\n",
    "\n",
    "# Get the best model\n",
    "best_cl_model = grid_search_cl.best_estimator_"
   ]
  },
  {
   "cell_type": "code",
   "execution_count": 196,
   "id": "b3355ffe",
   "metadata": {},
   "outputs": [
    {
     "name": "stdout",
     "output_type": "stream",
     "text": [
      "{'learning_rate': 0.1, 'max_depth': 6, 'min_child_weight': 1, 'n_estimators': 100, 'subsample': 0.5}\n",
      "              precision    recall  f1-score   support\n",
      "\n",
      "           0       1.00      0.77      0.87      2137\n",
      "           1       0.81      1.00      0.90      2137\n",
      "\n",
      "    accuracy                           0.89      4274\n",
      "   macro avg       0.91      0.89      0.88      4274\n",
      "weighted avg       0.91      0.89      0.88      4274\n",
      "\n",
      "              precision    recall  f1-score   support\n",
      "\n",
      "           0       0.00      0.00      0.00       124\n",
      "           1       0.81      1.00      0.90       535\n",
      "\n",
      "    accuracy                           0.81       659\n",
      "   macro avg       0.41      0.50      0.45       659\n",
      "weighted avg       0.66      0.81      0.73       659\n",
      "\n"
     ]
    },
    {
     "name": "stderr",
     "output_type": "stream",
     "text": [
      "c:\\Users\\User\\anaconda3\\envs\\learn-env\\lib\\site-packages\\sklearn\\metrics\\_classification.py:1471: UndefinedMetricWarning: Precision and F-score are ill-defined and being set to 0.0 in labels with no predicted samples. Use `zero_division` parameter to control this behavior.\n",
      "  _warn_prf(average, modifier, msg_start, len(result))\n",
      "c:\\Users\\User\\anaconda3\\envs\\learn-env\\lib\\site-packages\\sklearn\\metrics\\_classification.py:1471: UndefinedMetricWarning: Precision and F-score are ill-defined and being set to 0.0 in labels with no predicted samples. Use `zero_division` parameter to control this behavior.\n",
      "  _warn_prf(average, modifier, msg_start, len(result))\n",
      "c:\\Users\\User\\anaconda3\\envs\\learn-env\\lib\\site-packages\\sklearn\\metrics\\_classification.py:1471: UndefinedMetricWarning: Precision and F-score are ill-defined and being set to 0.0 in labels with no predicted samples. Use `zero_division` parameter to control this behavior.\n",
      "  _warn_prf(average, modifier, msg_start, len(result))\n"
     ]
    }
   ],
   "source": [
    "print(grid_search_cl.best_params_)\n",
    "y_train_pred_cl = best_cl_model.predict(X_train_resampled)\n",
    "y_test_pred_cl = best_cl_model.predict(X_test_vec)\n",
    "print(classification_report(y_train_resampled,y_train_pred_cl))\n",
    "print(classification_report(y_test,y_test_pred_cl))\n",
    "\n"
   ]
  },
  {
   "cell_type": "code",
   "execution_count": 197,
   "id": "89e9b767",
   "metadata": {},
   "outputs": [
    {
     "data": {
      "image/png": "[encoded data removed]",
      "text/plain": [
       "<Figure size 576x432 with 2 Axes>"
      ]
     },
     "metadata": {},
     "output_type": "display_data"
    },
    {
     "name": "stdout",
     "output_type": "stream",
     "text": [
      "Confusion Matrix:\n",
      "[[  0 124]\n",
      " [  0 535]]\n"
     ]
    }
   ],
   "source": [
    "con_mat1 = confusion_matrix(y_test, y_test_pred_cl)\n",
    "\n",
    "plt.figure(figsize=(8, 6))\n",
    "sns.heatmap(con_mat1, annot=True, fmt='d', cmap='Blues')\n",
    "plt.title(' XGBoost - Confusion Matrix ')\n",
    "plt.xlabel('Predicted values')\n",
    "plt.ylabel('True values')\n",
    "plt.show()\n",
    "\n",
    "print(\"Confusion Matrix:\")\n",
    "print(con_mat1)"
   ]
  },
  {
   "cell_type": "markdown",
   "id": "c3808685",
   "metadata": {},
   "source": [
    "The XGBoost model failed to classify the negative value leading to zero scores on recall,precision and f1-score"
   ]
  }
 ],
 "metadata": {
  "kernelspec": {
   "display_name": "learn-env",
   "language": "python",
   "name": "python3"
  },
  "language_info": {
   "codemirror_mode": {
    "name": "ipython",
    "version": 3
   },
   "file_extension": ".py",
   "mimetype": "text/x-python",
   "name": "python",
   "nbconvert_exporter": "python",
   "pygments_lexer": "ipython3",
   "version": "3.8.5"
  }
 },
 "nbformat": 4,
 "nbformat_minor": 5
}
