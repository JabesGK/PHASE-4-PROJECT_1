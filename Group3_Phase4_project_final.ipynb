{
 "cells": [
  {
   "cell_type": "markdown",
   "id": "0d994172",
   "metadata": {},
   "source": [
    "# **GROUP 3-PHASE 4-PROJECT**\n"
   ]
  },
  {
   "cell_type": "markdown",
   "id": "d48947db",
   "metadata": {},
   "source": [
    "## **Topic: Sentiment Analysis of Twitter Google and Apple products**"
   ]
  },
  {
   "cell_type": "markdown",
   "id": "43bb787a",
   "metadata": {},
   "source": [
    "### **1.0 Business Understanding**"
   ]
  },
  {
   "cell_type": "markdown",
   "id": "c534d8ab",
   "metadata": {},
   "source": [
    "**1.1 Background and Context**\n",
    "\n",
    "With the growing use of social media, especially Twitter, there is more information than ever before about how consumers receive and react to products in the market. Twitter serves as a real-time feedback platform where users express their opinions—both positive and negative—about products and services.\n",
    "\n",
    "The company has been tasked with the analysis of Twitter sentiments in relation to Google and Apple products, with the aim of better understanding public perception and ultimately aligning product offerings with market demand. This comes at a time when consumer expectations are rapidly evolving, and timely insight into public sentiment can be a competitive advantage.\n",
    "\n",
    "Apple and Google, being two of the most dominant players in the technology space, receive continuous attention online. Mining this Twitter data presents an opportunity to measure public mood, detect dissatisfaction or enthusiasm around specific product lines, and support data-driven decision-making across marketing, customer support, and product development functions.\n",
    "\n"
   ]
  },
  {
   "cell_type": "markdown",
   "id": "3e588155",
   "metadata": {},
   "source": [
    "\n",
    "**1.2 Stakeholder**\n",
    "\n",
    "The key stakeholders for this sentiment analysis project include:\n",
    "\n",
    "**The Marketing Team:**- Interested in tracking brand perception and campaign impact;\n",
    "\n",
    "**Product Managers:**- Can use sentiment insights to inform feature enhancements;\n",
    "\n",
    "**Customer Support Team:**-  Looking to identify and address common user complaints.\n",
    "\n",
    "**The Data Science Team:**- Responsible for building and maintaining the model;\n",
    "\n",
    "**Executive Leadership:**- Relies on sentiment trends for strategic decision-making.\n",
    "\n",
    "**PR and Communications teams:**- Monitor public opinion to manage the company’s image.\n",
    "\n",
    "Together, these stakeholders leverage sentiment insights to enhance product development, customer engagement, and brand strategy.\n"
   ]
  },
  {
   "cell_type": "markdown",
   "id": "1b94f41c",
   "metadata": {},
   "source": [
    "### **2.0 Project Objective and Questions**\n",
    "\n",
    "\n",
    "**2.1 Objective**\n",
    "\n",
    "The primary objective is to:\n",
    "\n",
    "*Develop an NLP model that can automatically classify Tweets about Apple and Google products as positive, negative, or neutral in sentiment.*\n",
    "\n",
    "This will serve as a Proof of Concept (PoC) that demonstrates how sentiment insights from social media can:\n",
    "\n",
    "o Support marketing and brand management teams\n",
    "\n",
    "o Inform customer service teams about recurring issues\n",
    "\n",
    "o Alert product teams to common pain points or praised features"
   ]
  },
  {
   "cell_type": "markdown",
   "id": "d3bca589",
   "metadata": {},
   "source": [
    "**2.2 Key Questions**\n",
    "\n",
    "This project will aim to answer the following questions:\n",
    "\n",
    "i. What proportion of Twitter sentiment is positive, negative, or neutral for Apple vs Google products?\n",
    "\n",
    "ii. Which products are associated with the most negative or positive sentiment?\n",
    "\n",
    "iii. Are there recurring themes in positive/negative Tweets (e.g., battery life, design, price)?\n",
    "\n",
    "iv. How well can an automated classifier predict sentiment based on Tweet content?\n",
    "\n"
   ]
  },
  {
   "cell_type": "markdown",
   "id": "03b2fb8b",
   "metadata": {},
   "source": [
    "### **3.0 Data Understanding**"
   ]
  },
  {
   "cell_type": "markdown",
   "id": "66c937a3",
   "metadata": {},
   "source": [
    "The dataset used in this project originates from CrowdFlower via data.world (https://data.world/crowdflower/brands-and-product-emotions/workspace/file?filename=judge-1377884607_tweet_product_company.csv) and contains 9,093 Tweets related to Apple and Google products. Each Tweet has been labeled by human raters to reflect the sentiment expressed—categorized as positive, negative, or neutral—and, where possible, the specific product or brand mentioned. \n",
    "\n",
    "The dataset comprises three main columns: the Tweet content (tweet_text), the target of the sentiment (emotion_in_tweet_is_directed_at), and the sentiment label (is_there_an_emotion_directed_at_a_brand_or_product). \n",
    "The Tweet text is nearly complete with only one missing entry, while the sentiment label column is fully populated and will serve as the target variable for model training. \n",
    "\n",
    "However, the product reference column has a significant number of missing values—over 60%—which may limit its utility unless addressed during preprocessing. Given that all data is in free-text format, it will require extensive preparation, including text cleaning, tokenization, and vectorization. \n",
    "\n",
    "Preliminary analysis of the sentiment distribution is essential to assess class balance and determine whether to begin with binary classification (positive vs. negative) or move directly to a multiclass setup by including neutral sentiments. Overall, the dataset provides a rich textual corpus that reflects real-world, informal Twitter language, offering both modeling challenges and valuable insights for sentiment analysis.\n",
    "\n",
    "\n",
    "\n",
    "\n",
    "\n",
    "\n",
    "\n",
    "\n",
    "\n"
   ]
  },
  {
   "cell_type": "markdown",
   "id": "3505c310",
   "metadata": {},
   "source": [
    "### **4.0 Exploratory Data Analysis (EDA)**"
   ]
  },
  {
   "cell_type": "markdown",
   "id": "a710a9a1",
   "metadata": {},
   "source": [
    "**4.1 Importing the data and required libraries**"
   ]
  },
  {
   "cell_type": "code",
   "execution_count": 23,
   "id": "78992eea",
   "metadata": {},
   "outputs": [],
   "source": [
    "#Importing the required libraries\n",
    "import pandas as pd\n",
    "from sklearn.preprocessing import LabelEncoder\n",
    "from sklearn.metrics import classification_report, accuracy_score,f1_score,confusion_matrix\n",
    "from sklearn.linear_model import LogisticRegression\n",
    "from sklearn.model_selection import train_test_split,GridSearchCV\n",
    "from scipy import stats\n",
    "import numpy as np \n",
    "import matplotlib.pyplot as plt\n",
    "import seaborn as sns\n",
    "from sklearn.tree import DecisionTreeClassifier \n",
    "from sklearn.preprocessing import OneHotEncoder\n",
    "from sklearn.feature_selection import SelectKBest, f_regression\n",
    "from sklearn.preprocessing import MinMaxScaler, PolynomialFeatures, StandardScaler\n",
    "from sklearn.metrics import roc_curve, auc\n",
    "from sklearn import tree\n",
    "from sklearn.linear_model import Ridge\n",
    "from sklearn.tree import DecisionTreeRegressor\n",
    "from sklearn.compose import ColumnTransformer\n",
    "import nltk\n",
    "import string\n",
    "from nltk.corpus import stopwords\n",
    "from nltk.stem import WordNetLemmatizer,PorterStemmer\n",
    "from sklearn.feature_extraction.text import TfidfVectorizer\n",
    "from sklearn.naive_bayes import MultinomialNB\n",
    "import re\n",
    "from imblearn.over_sampling import SMOTE\n",
    "from xgboost import XGBClassifier\n",
    "\n"
   ]
  },
  {
   "cell_type": "code",
   "execution_count": 24,
   "id": "142bbc6f",
   "metadata": {},
   "outputs": [
    {
     "data": {
      "text/html": [
       "<div>\n",
       "<style scoped>\n",
       "    .dataframe tbody tr th:only-of-type {\n",
       "        vertical-align: middle;\n",
       "    }\n",
       "\n",
       "    .dataframe tbody tr th {\n",
       "        vertical-align: top;\n",
       "    }\n",
       "\n",
       "    .dataframe thead th {\n",
       "        text-align: right;\n",
       "    }\n",
       "</style>\n",
       "<table border=\"1\" class=\"dataframe\">\n",
       "  <thead>\n",
       "    <tr style=\"text-align: right;\">\n",
       "      <th></th>\n",
       "      <th>tweet_text</th>\n",
       "      <th>emotion_in_tweet_is_directed_at</th>\n",
       "      <th>is_there_an_emotion_directed_at_a_brand_or_product</th>\n",
       "    </tr>\n",
       "  </thead>\n",
       "  <tbody>\n",
       "    <tr>\n",
       "      <th>0</th>\n",
       "      <td>.@wesley83 I have a 3G iPhone. After 3 hrs twe...</td>\n",
       "      <td>iPhone</td>\n",
       "      <td>Negative emotion</td>\n",
       "    </tr>\n",
       "    <tr>\n",
       "      <th>1</th>\n",
       "      <td>@jessedee Know about @fludapp ? Awesome iPad/i...</td>\n",
       "      <td>iPad or iPhone App</td>\n",
       "      <td>Positive emotion</td>\n",
       "    </tr>\n",
       "    <tr>\n",
       "      <th>2</th>\n",
       "      <td>@swonderlin Can not wait for #iPad 2 also. The...</td>\n",
       "      <td>iPad</td>\n",
       "      <td>Positive emotion</td>\n",
       "    </tr>\n",
       "    <tr>\n",
       "      <th>3</th>\n",
       "      <td>@sxsw I hope this year's festival isn't as cra...</td>\n",
       "      <td>iPad or iPhone App</td>\n",
       "      <td>Negative emotion</td>\n",
       "    </tr>\n",
       "    <tr>\n",
       "      <th>4</th>\n",
       "      <td>@sxtxstate great stuff on Fri #SXSW: Marissa M...</td>\n",
       "      <td>Google</td>\n",
       "      <td>Positive emotion</td>\n",
       "    </tr>\n",
       "  </tbody>\n",
       "</table>\n",
       "</div>"
      ],
      "text/plain": [
       "                                          tweet_text  \\\n",
       "0  .@wesley83 I have a 3G iPhone. After 3 hrs twe...   \n",
       "1  @jessedee Know about @fludapp ? Awesome iPad/i...   \n",
       "2  @swonderlin Can not wait for #iPad 2 also. The...   \n",
       "3  @sxsw I hope this year's festival isn't as cra...   \n",
       "4  @sxtxstate great stuff on Fri #SXSW: Marissa M...   \n",
       "\n",
       "  emotion_in_tweet_is_directed_at  \\\n",
       "0                          iPhone   \n",
       "1              iPad or iPhone App   \n",
       "2                            iPad   \n",
       "3              iPad or iPhone App   \n",
       "4                          Google   \n",
       "\n",
       "  is_there_an_emotion_directed_at_a_brand_or_product  \n",
       "0                                   Negative emotion  \n",
       "1                                   Positive emotion  \n",
       "2                                   Positive emotion  \n",
       "3                                   Negative emotion  \n",
       "4                                   Positive emotion  "
      ]
     },
     "execution_count": 24,
     "metadata": {},
     "output_type": "execute_result"
    }
   ],
   "source": [
    "#loading the data\n",
    "df = pd.read_csv(\"judge-1377884607_tweet_product_company.csv\",encoding = 'latin1')\n",
    "df.head()"
   ]
  },
  {
   "cell_type": "markdown",
   "id": "7238b82d",
   "metadata": {},
   "source": [
    "**4.2 Data Preprocessing**\n",
    "\n",
    "The first essential step is data preprocessing. This will involve understanding and preparing the raw dataset for analysis. This will include inspecting the dataset’s shape, identifying and handling missing values, checking data types, and renaming columns for clarity. \n",
    "\n",
    "These tasks will ensure that the data is clean, consistent, and suitable for further exploration and modeling. Effective preprocessing will lay the foundation for reliable insights and accurate model performance."
   ]
  },
  {
   "cell_type": "code",
   "execution_count": 25,
   "id": "3e9e1316",
   "metadata": {},
   "outputs": [
    {
     "data": {
      "text/plain": [
       "(9093, 3)"
      ]
     },
     "execution_count": 25,
     "metadata": {},
     "output_type": "execute_result"
    }
   ],
   "source": [
    "df.shape"
   ]
  },
  {
   "cell_type": "code",
   "execution_count": 26,
   "id": "a69cda44",
   "metadata": {},
   "outputs": [
    {
     "data": {
      "text/plain": [
       "tweet_text                                               1\n",
       "emotion_in_tweet_is_directed_at                       5802\n",
       "is_there_an_emotion_directed_at_a_brand_or_product       0\n",
       "dtype: int64"
      ]
     },
     "execution_count": 26,
     "metadata": {},
     "output_type": "execute_result"
    }
   ],
   "source": [
    "# Checking for missing values\n",
    "df.isnull().sum()"
   ]
  },
  {
   "cell_type": "markdown",
   "id": "aa0b7443",
   "metadata": {},
   "source": [
    "Tha data set has 5802 missing values under the emotion directed at column, and 1 at the tweet text column. For the sake of text classification we shall drop tweet_text nulls (1). Morever, emotion_in_tweet_is_directed_at nulls, shall be dropped as well. This ensures the model is learning sentiment patterns only from Tweets about Apple and Google products, not random, unrelated Tweets.This focuses themodel on Tweets clearly targeting relevant products (Apple/Google). Since the project goal is to classify sentiment about Apple and Google products, then dropping rows where emotion_in_tweet_is_directed_at is null will ensure the dataset matches the business use case."
   ]
  },
  {
   "cell_type": "code",
   "execution_count": 35,
   "id": "5e94a0f5",
   "metadata": {},
   "outputs": [],
   "source": [
    "# Keepping only Tweets that are:\n",
    "# - about Apple or Google products (not null in product column)\n",
    "# - have actual text (not null in tweet_text)\n",
    "\n",
    "df.dropna(subset=['emotion_in_tweet_is_directed_at', 'tweet_text'], inplace=True)"
   ]
  },
  {
   "cell_type": "code",
   "execution_count": 36,
   "id": "c9dc3854",
   "metadata": {},
   "outputs": [
    {
     "data": {
      "text/plain": [
       "tweet_text                                            0\n",
       "emotion_in_tweet_is_directed_at                       0\n",
       "is_there_an_emotion_directed_at_a_brand_or_product    0\n",
       "dtype: int64"
      ]
     },
     "execution_count": 36,
     "metadata": {},
     "output_type": "execute_result"
    }
   ],
   "source": [
    "#checking missing values \n",
    "df.isnull().sum()"
   ]
  },
  {
   "cell_type": "code",
   "execution_count": 37,
   "id": "c908315c",
   "metadata": {},
   "outputs": [
    {
     "data": {
      "text/plain": [
       "tweet_text                                            object\n",
       "emotion_in_tweet_is_directed_at                       object\n",
       "is_there_an_emotion_directed_at_a_brand_or_product    object\n",
       "dtype: object"
      ]
     },
     "execution_count": 37,
     "metadata": {},
     "output_type": "execute_result"
    }
   ],
   "source": [
    "#checking data types\n",
    "df.dtypes"
   ]
  },
  {
   "cell_type": "code",
   "execution_count": 38,
   "id": "0aea8d1d",
   "metadata": {},
   "outputs": [
    {
     "data": {
      "text/html": [
       "<div>\n",
       "<style scoped>\n",
       "    .dataframe tbody tr th:only-of-type {\n",
       "        vertical-align: middle;\n",
       "    }\n",
       "\n",
       "    .dataframe tbody tr th {\n",
       "        vertical-align: top;\n",
       "    }\n",
       "\n",
       "    .dataframe thead th {\n",
       "        text-align: right;\n",
       "    }\n",
       "</style>\n",
       "<table border=\"1\" class=\"dataframe\">\n",
       "  <thead>\n",
       "    <tr style=\"text-align: right;\">\n",
       "      <th></th>\n",
       "      <th>tweet_text</th>\n",
       "      <th>emotion_in_tweet_is_directed_at</th>\n",
       "      <th>is_there_an_emotion_directed_at_a_brand_or_product</th>\n",
       "    </tr>\n",
       "  </thead>\n",
       "  <tbody>\n",
       "    <tr>\n",
       "      <th>count</th>\n",
       "      <td>3291</td>\n",
       "      <td>3291</td>\n",
       "      <td>3291</td>\n",
       "    </tr>\n",
       "    <tr>\n",
       "      <th>unique</th>\n",
       "      <td>3282</td>\n",
       "      <td>9</td>\n",
       "      <td>4</td>\n",
       "    </tr>\n",
       "    <tr>\n",
       "      <th>top</th>\n",
       "      <td>RT @mention Marissa Mayer: Google Will Connect...</td>\n",
       "      <td>iPad</td>\n",
       "      <td>Positive emotion</td>\n",
       "    </tr>\n",
       "    <tr>\n",
       "      <th>freq</th>\n",
       "      <td>3</td>\n",
       "      <td>946</td>\n",
       "      <td>2672</td>\n",
       "    </tr>\n",
       "  </tbody>\n",
       "</table>\n",
       "</div>"
      ],
      "text/plain": [
       "                                               tweet_text  \\\n",
       "count                                                3291   \n",
       "unique                                               3282   \n",
       "top     RT @mention Marissa Mayer: Google Will Connect...   \n",
       "freq                                                    3   \n",
       "\n",
       "       emotion_in_tweet_is_directed_at  \\\n",
       "count                             3291   \n",
       "unique                               9   \n",
       "top                               iPad   \n",
       "freq                               946   \n",
       "\n",
       "       is_there_an_emotion_directed_at_a_brand_or_product  \n",
       "count                                                3291  \n",
       "unique                                                  4  \n",
       "top                                      Positive emotion  \n",
       "freq                                                 2672  "
      ]
     },
     "execution_count": 38,
     "metadata": {},
     "output_type": "execute_result"
    }
   ],
   "source": [
    "df.describe()"
   ]
  },
  {
   "cell_type": "code",
   "execution_count": 32,
   "id": "4fea4100",
   "metadata": {},
   "outputs": [
    {
     "data": {
      "text/plain": [
       "tweet_text                                                                                                                                        emotion_in_tweet_is_directed_at  is_there_an_emotion_directed_at_a_brand_or_product\n",
       "RT @mention Marissa Mayer: Google Will Connect the Digital &amp; Physical Worlds Through Mobile - {link} #sxsw                                    Google                           Positive emotion                                      3\n",
       "Really enjoying the changes in Gowalla 3.0 for Android! Looking forward to seeing what else they &amp; Foursquare have up their sleeves at #SXSW  Android App                      Positive emotion                                      2\n",
       "Before It Even Begins, Apple Wins #SXSW {link}                                                                                                    Apple                            Positive emotion                                      2\n",
       "Oh. My. God. The #SXSW app for iPad is pure, unadulterated awesome. It's easier to browse events on iPad than on the website!!!                   iPad or iPhone App               Positive emotion                                      2\n",
       "Need to buy an iPad2 while I'm in Austin at #sxsw. Not sure if I'll need to Q up at an Austin Apple store?                                        iPad                             Positive emotion                                      2\n",
       "                                                                                                                                                                                                                                        ..\n",
       "Google using Starry Night to demo their streetview-like art project. It's like they're inside my brain. #sxsw                                     Other Google product or service  Positive emotion                                      1\n",
       "Google vp to speak. The topic: 10 quick steps to owning everything in the world. #sxsw {link}                                                     Google                           No emotion toward brand or product                    1\n",
       "Google vs Bing on #bettersearch. Bing has a shot at success w/ structured search.  Potentially higher margin CPA model vs #Google. #SXSW          Google                           Negative emotion                                      1\n",
       "Google was incapable of doing disruptive innovation- and acquired 89 startups over the last few years @mention #leanstartup #sxsw                 Google                           Negative emotion                                      1\n",
       "Û÷Viagra for your communicationsÛª @mention launches Android app at #SXSW {link} Happy to see expansion beyond Outlook plugin.                  Android App                      Positive emotion                                      1\n",
       "Name: count, Length: 3282, dtype: int64"
      ]
     },
     "execution_count": 32,
     "metadata": {},
     "output_type": "execute_result"
    }
   ],
   "source": [
    "df.value_counts()"
   ]
  },
  {
   "cell_type": "code",
   "execution_count": 42,
   "id": "6246193c",
   "metadata": {},
   "outputs": [],
   "source": [
    "#Renaming the columns for easier reference\n",
    "df.rename(columns={\n",
    "    'tweet_text': 'text',\n",
    "    'emotion_in_tweet_is_directed_at': 'product',\n",
    "    'is_there_an_emotion_directed_at_a_brand_or_product': 'Emotions'\n",
    "}, inplace=True)"
   ]
  },
  {
   "cell_type": "code",
   "execution_count": 41,
   "id": "89245d7f",
   "metadata": {},
   "outputs": [],
   "source": [
    "# Filter for positive and negative emotions only\n",
    "binary_df = df[df['Emotions'].isin(['Positive emotion', 'Negative emotion'])].copy()\n",
    "\n",
    "# Create binary label: 1 for positive, 0 for negative\n",
    "binary_df['label'] = binary_df['Emotions'].map({\n",
    "    'Positive emotion': 1,\n",
    "    'Negative emotion': 0\n",
    "})"
   ]
  },
  {
   "cell_type": "code",
   "execution_count": 43,
   "id": "75c50325",
   "metadata": {},
   "outputs": [
    {
     "data": {
      "text/html": [
       "<div>\n",
       "<style scoped>\n",
       "    .dataframe tbody tr th:only-of-type {\n",
       "        vertical-align: middle;\n",
       "    }\n",
       "\n",
       "    .dataframe tbody tr th {\n",
       "        vertical-align: top;\n",
       "    }\n",
       "\n",
       "    .dataframe thead th {\n",
       "        text-align: right;\n",
       "    }\n",
       "</style>\n",
       "<table border=\"1\" class=\"dataframe\">\n",
       "  <thead>\n",
       "    <tr style=\"text-align: right;\">\n",
       "      <th></th>\n",
       "      <th>text</th>\n",
       "      <th>product</th>\n",
       "      <th>Emotions</th>\n",
       "    </tr>\n",
       "  </thead>\n",
       "  <tbody>\n",
       "    <tr>\n",
       "      <th>0</th>\n",
       "      <td>.@wesley83 I have a 3G iPhone. After 3 hrs twe...</td>\n",
       "      <td>iPhone</td>\n",
       "      <td>Negative emotion</td>\n",
       "    </tr>\n",
       "    <tr>\n",
       "      <th>1</th>\n",
       "      <td>@jessedee Know about @fludapp ? Awesome iPad/i...</td>\n",
       "      <td>iPad or iPhone App</td>\n",
       "      <td>Positive emotion</td>\n",
       "    </tr>\n",
       "    <tr>\n",
       "      <th>2</th>\n",
       "      <td>@swonderlin Can not wait for #iPad 2 also. The...</td>\n",
       "      <td>iPad</td>\n",
       "      <td>Positive emotion</td>\n",
       "    </tr>\n",
       "    <tr>\n",
       "      <th>3</th>\n",
       "      <td>@sxsw I hope this year's festival isn't as cra...</td>\n",
       "      <td>iPad or iPhone App</td>\n",
       "      <td>Negative emotion</td>\n",
       "    </tr>\n",
       "    <tr>\n",
       "      <th>4</th>\n",
       "      <td>@sxtxstate great stuff on Fri #SXSW: Marissa M...</td>\n",
       "      <td>Google</td>\n",
       "      <td>Positive emotion</td>\n",
       "    </tr>\n",
       "  </tbody>\n",
       "</table>\n",
       "</div>"
      ],
      "text/plain": [
       "                                                text             product  \\\n",
       "0  .@wesley83 I have a 3G iPhone. After 3 hrs twe...              iPhone   \n",
       "1  @jessedee Know about @fludapp ? Awesome iPad/i...  iPad or iPhone App   \n",
       "2  @swonderlin Can not wait for #iPad 2 also. The...                iPad   \n",
       "3  @sxsw I hope this year's festival isn't as cra...  iPad or iPhone App   \n",
       "4  @sxtxstate great stuff on Fri #SXSW: Marissa M...              Google   \n",
       "\n",
       "           Emotions  \n",
       "0  Negative emotion  \n",
       "1  Positive emotion  \n",
       "2  Positive emotion  \n",
       "3  Negative emotion  \n",
       "4  Positive emotion  "
      ]
     },
     "execution_count": 43,
     "metadata": {},
     "output_type": "execute_result"
    }
   ],
   "source": [
    "df.head()"
   ]
  },
  {
   "cell_type": "markdown",
   "id": "fcc8d257",
   "metadata": {},
   "source": [
    "**4.3 Basic Data Visualization**\n",
    "\n",
    "This includes some strategic visualizations to support the project objective before cleaning the text."
   ]
  },
  {
   "cell_type": "code",
   "execution_count": null,
   "id": "f1ec4563",
   "metadata": {},
   "outputs": [
    {
     "data": {
      "image/png": "[encoded data removed]",
      "text/plain": [
       "<Figure size 600x400 with 1 Axes>"
      ]
     },
     "metadata": {},
     "output_type": "display_data"
    }
   ],
   "source": [
    "# 1. Sentiment Distribution\n",
    "plt.figure(figsize=(6, 4))\n",
    "sns.countplot(data=df, x='Emotions', hue='Emotions', dodge=False, order=df['Emotions'].value_counts().index, palette='Set2')\n",
    "plt.title(\"Sentiment Distribution\")\n",
    "plt.xlabel(\"Emotion\")\n",
    "plt.ylabel(\"Tweet Count\")\n",
    "plt.xticks(rotation=45)\n",
    "plt.legend([],[], frameon=False) \n",
    "plt.tight_layout()\n",
    "plt.show()"
   ]
  },
  {
   "cell_type": "markdown",
   "id": "737f91b1",
   "metadata": {},
   "source": [
    "The sentiment distribution chart shows that most Tweets express positive emotion, followed by a smaller number of negative Tweets. A few Tweets are either neutral or unclear (\"I can't tell\"). This suggests that users generally speak favorably about Apple and Google products on Twitter.\n",
    "However, we shall consider the class imbalance between positive and negative sentiments when building a sentiment classification model."
   ]
  },
  {
   "cell_type": "code",
   "execution_count": 49,
   "id": "4758758b",
   "metadata": {},
   "outputs": [
    {
     "data": {
      "image/png": "[encoded data removed]",
      "text/plain": [
       "<Figure size 800x500 with 1 Axes>"
      ]
     },
     "metadata": {},
     "output_type": "display_data"
    }
   ],
   "source": [
    "# 2. Top Mentioned Products/Brands\n",
    "\n",
    "plt.figure(figsize=(8, 5))\n",
    "sns.countplot(data=df, y='product', hue='product', dodge=False,\n",
    "              order=df['product'].value_counts().head(10).index, palette='Blues_r')\n",
    "plt.title(\"Top 10 Mentioned Products\")\n",
    "plt.xlabel(\"Tweet Count\")\n",
    "plt.ylabel(\"Product\")\n",
    "plt.legend([], [], frameon=False)\n",
    "plt.tight_layout()\n",
    "plt.show()"
   ]
  },
  {
   "cell_type": "markdown",
   "id": "900a5d5f",
   "metadata": {},
   "source": [
    "The chart shows the most frequently mentioned products or services in the dataset. iPad and Apple are the top mentions, followed closely by Google, iPhone, and related apps. This indicates that discussions on Twitter are largely centered around Apple-branded products, although Google and Android also appear, albeit with lower frequency. The insights suggest that sentiment analysis efforts should prioritize these top-mentioned items, as they reflect where public attention—and potential brand impact—is highest."
   ]
  },
  {
   "cell_type": "code",
   "execution_count": 50,
   "id": "b6517630",
   "metadata": {},
   "outputs": [
    {
     "data": {
      "image/png": "[encoded data removed]",
      "text/plain": [
       "<Figure size 800x500 with 1 Axes>"
      ]
     },
     "metadata": {},
     "output_type": "display_data"
    }
   ],
   "source": [
    "#Tweet Length Distribution by Emotion\n",
    "\n",
    "df['text_length'] = df['text'].astype(str).apply(len)\n",
    "plt.figure(figsize=(8, 5))\n",
    "sns.histplot(data=df, x='text_length', hue='Emotions', bins=40, kde=True, element='step')\n",
    "plt.title(\"Tweet Length Distribution by Emotion\")\n",
    "plt.xlabel(\"Tweet Length (Characters)\")\n",
    "plt.ylabel(\"Frequency\")\n",
    "plt.tight_layout()\n",
    "plt.show()"
   ]
  },
  {
   "cell_type": "markdown",
   "id": "20cba93b",
   "metadata": {},
   "source": [
    "The chart above shows that positive Tweets tend to be longer on average, peaking around 120–140 characters, while negative Tweets are generally shorter and more varied. The distribution for neutral or unclear sentiments (“No emotion toward brand or product” and “I can’t tell”) is much smaller and more evenly spread. This suggests that users expressing positive sentiment often write more detailed or enthusiastic Tweets, whereas negative feedback may be more concise or emotionally direct.\n",
    "\n"
   ]
  },
  {
   "cell_type": "code",
   "execution_count": 51,
   "id": "5e1be09a",
   "metadata": {},
   "outputs": [
    {
     "data": {
      "image/png": "[encoded data removed]",
      "text/plain": [
       "<Figure size 1000x600 with 1 Axes>"
      ]
     },
     "metadata": {},
     "output_type": "display_data"
    }
   ],
   "source": [
    "#Sentiment by Product\n",
    "\n",
    "plt.figure(figsize=(10, 6))\n",
    "sns.countplot(data=df, x='product', hue='Emotions',\n",
    "              order=df['product'].value_counts().head(6).index, palette='muted')\n",
    "plt.title(\"Sentiment Distribution by Product\")\n",
    "plt.xlabel(\"Product\")\n",
    "plt.ylabel(\"Tweet Count\")\n",
    "plt.xticks(rotation=45)\n",
    "plt.tight_layout()\n",
    "plt.show()"
   ]
  },
  {
   "cell_type": "markdown",
   "id": "68bd9da5",
   "metadata": {},
   "source": [
    "The chart above shows that positive sentiment dominates across all top-mentioned products, particularly for the iPad, Apple, and Google. Negative sentiment is consistently present but significantly lower, with the iPad and iPhone attracting relatively more negative feedback than other products. This pattern suggests strong overall user satisfaction with Apple and Google offerings, while also highlighting product areas (like iPhone and iPad) that may receive more critical attention and are worth monitoring for feedback trends"
   ]
  },
  {
   "cell_type": "markdown",
   "id": "f5b2b971",
   "metadata": {},
   "source": [
    "### **5.0 Natural Language Preprocessing (NLP)**"
   ]
  },
  {
   "cell_type": "markdown",
   "id": "e06e1afd",
   "metadata": {},
   "source": [
    "In this section, we prepare the Tweet text data for machine learning by applying standard Natural Language Processing (NLP) techniques. This involves cleaning the raw Tweets to remove noise (such as URLs, mentions, and special characters) and then tokenizing the cleaned text into individual words. These steps are essential for transforming the text into a structured format that can be used for feature extraction and model training"
   ]
  },
  {
   "cell_type": "markdown",
   "id": "41375392",
   "metadata": {},
   "source": [
    " **5.1 Text Preprocessing**"
   ]
  },
  {
   "cell_type": "markdown",
   "id": "6ef9c9b9",
   "metadata": {},
   "source": [
    "Before building the sentiment analysis model, the raw Tweet data must be cleaned and standardized through text preprocessing. This involves converting all text to lowercase, removing unwanted elements such as URLs, user mentions, punctuation, and special characters, and applying lemmatization to normalize words to their base forms. These steps help reduce noise and ensure consistency in the text data, making it suitable for vectorization and machine learning."
   ]
  },
  {
   "cell_type": "code",
   "execution_count": 71,
   "id": "9a84b32e",
   "metadata": {},
   "outputs": [
    {
     "name": "stderr",
     "output_type": "stream",
     "text": [
      "[nltk_data] Downloading package punkt to /Users/jabes/nltk_data...\n",
      "[nltk_data]   Unzipping tokenizers/punkt.zip.\n"
     ]
    }
   ],
   "source": [
    "from nltk.tokenize import word_tokenize\n",
    "nltk.download('punkt')\n",
    "\n",
    "def preprocess(text):\n",
    "    # 1. Lowercase\n",
    "    text = text.lower()\n",
    "\n",
    "    # 2. Remove punctuation and numbers\n",
    "    text = re.sub(r'[^a-z\\s]', '', text)\n",
    "\n",
    "    # 3. Tokenize\n",
    "    tokens = word_tokenize(text)\n",
    "\n",
    "    # 4. Remove stopwords\n",
    "    stop_words = set(stopwords.words('english'))\n",
    "    tokens = [word for word in tokens if word not in stop_words]\n",
    "\n",
    "    # 5. Lemmatization (or Stemming, but not both)\n",
    "    lemmatizer = WordNetLemmatizer()\n",
    "    tokens = [lemmatizer.lemmatize(word) for word in tokens]\n",
    "\n",
    "    # 6. Return clean string or list of tokens\n",
    "    return ' '.join(tokens)"
   ]
  },
  {
   "cell_type": "code",
   "execution_count": 73,
   "id": "97ad85a0",
   "metadata": {},
   "outputs": [
    {
     "name": "stderr",
     "output_type": "stream",
     "text": [
      "[nltk_data] Downloading package wordnet to /Users/jabes/nltk_data...\n"
     ]
    },
    {
     "data": {
      "text/plain": [
       "True"
      ]
     },
     "execution_count": 73,
     "metadata": {},
     "output_type": "execute_result"
    }
   ],
   "source": [
    "import nltk\n",
    "nltk.download('wordnet')"
   ]
  },
  {
   "cell_type": "code",
   "execution_count": 74,
   "id": "092d347b",
   "metadata": {},
   "outputs": [],
   "source": [
    "#applying the preprocessing steps on tweet_text\n",
    "df['clean_text'] = df['text'].apply(preprocess)"
   ]
  },
  {
   "cell_type": "code",
   "execution_count": 75,
   "id": "a6c2c0bf",
   "metadata": {},
   "outputs": [
    {
     "data": {
      "text/plain": [
       "0    wesley g iphone hr tweeting riseaustin dead ne...\n",
       "1    jessedee know fludapp awesome ipadiphone app y...\n",
       "2                  swonderlin wait ipad also sale sxsw\n",
       "3    sxsw hope year festival isnt crashy year iphon...\n",
       "4    sxtxstate great stuff fri sxsw marissa mayer g...\n",
       "Name: clean_text, dtype: object"
      ]
     },
     "execution_count": 75,
     "metadata": {},
     "output_type": "execute_result"
    }
   ],
   "source": [
    "df['clean_text'].head()"
   ]
  },
  {
   "cell_type": "markdown",
   "id": "0b476d92",
   "metadata": {},
   "source": [
    " **5.2 Binary classification**\n",
    "\n",
    "In the first phase of modeling, the sentiment labels are simplified into a binary format by selecting only Tweets labeled as either positive or negative. This binary classification approach allows for a focused and manageable entry point into model development, providing a clear distinction between favorable and unfavorable opinions. It also sets the stage for evaluating model performance before extending the analysis to include neutral and ambiguous sentiments in a multiclass framework\n"
   ]
  },
  {
   "cell_type": "code",
   "execution_count": 77,
   "id": "11a9b082",
   "metadata": {},
   "outputs": [
    {
     "data": {
      "text/plain": [
       "Emotions\n",
       "Positive emotion                      2672\n",
       "Negative emotion                       519\n",
       "No emotion toward brand or product      91\n",
       "I can't tell                             9\n",
       "Name: count, dtype: int64"
      ]
     },
     "execution_count": 77,
     "metadata": {},
     "output_type": "execute_result"
    }
   ],
   "source": [
    "#checking distribution of target data\n",
    "\n",
    "df['Emotions'].value_counts()"
   ]
  },
  {
   "cell_type": "markdown",
   "id": "8e3bf925",
   "metadata": {},
   "source": [
    "The target column,Emotions,has several outputs beside the positive and negative output.As we'll begin with a binary classification,the other two will be assumed as negative."
   ]
  },
  {
   "cell_type": "code",
   "execution_count": 78,
   "id": "0b222cbe",
   "metadata": {},
   "outputs": [
    {
     "data": {
      "text/html": [
       "<div>\n",
       "<style scoped>\n",
       "    .dataframe tbody tr th:only-of-type {\n",
       "        vertical-align: middle;\n",
       "    }\n",
       "\n",
       "    .dataframe tbody tr th {\n",
       "        vertical-align: top;\n",
       "    }\n",
       "\n",
       "    .dataframe thead th {\n",
       "        text-align: right;\n",
       "    }\n",
       "</style>\n",
       "<table border=\"1\" class=\"dataframe\">\n",
       "  <thead>\n",
       "    <tr style=\"text-align: right;\">\n",
       "      <th></th>\n",
       "      <th>text</th>\n",
       "      <th>product</th>\n",
       "      <th>Emotions</th>\n",
       "      <th>text_length</th>\n",
       "      <th>clean_text</th>\n",
       "    </tr>\n",
       "  </thead>\n",
       "  <tbody>\n",
       "    <tr>\n",
       "      <th>0</th>\n",
       "      <td>.@wesley83 I have a 3G iPhone. After 3 hrs twe...</td>\n",
       "      <td>iPhone</td>\n",
       "      <td>Negative emotion</td>\n",
       "      <td>127</td>\n",
       "      <td>wesley g iphone hr tweeting riseaustin dead ne...</td>\n",
       "    </tr>\n",
       "    <tr>\n",
       "      <th>1</th>\n",
       "      <td>@jessedee Know about @fludapp ? Awesome iPad/i...</td>\n",
       "      <td>iPad or iPhone App</td>\n",
       "      <td>Positive emotion</td>\n",
       "      <td>139</td>\n",
       "      <td>jessedee know fludapp awesome ipadiphone app y...</td>\n",
       "    </tr>\n",
       "    <tr>\n",
       "      <th>2</th>\n",
       "      <td>@swonderlin Can not wait for #iPad 2 also. The...</td>\n",
       "      <td>iPad</td>\n",
       "      <td>Positive emotion</td>\n",
       "      <td>79</td>\n",
       "      <td>swonderlin wait ipad also sale sxsw</td>\n",
       "    </tr>\n",
       "    <tr>\n",
       "      <th>3</th>\n",
       "      <td>@sxsw I hope this year's festival isn't as cra...</td>\n",
       "      <td>iPad or iPhone App</td>\n",
       "      <td>Negative emotion</td>\n",
       "      <td>82</td>\n",
       "      <td>sxsw hope year festival isnt crashy year iphon...</td>\n",
       "    </tr>\n",
       "    <tr>\n",
       "      <th>4</th>\n",
       "      <td>@sxtxstate great stuff on Fri #SXSW: Marissa M...</td>\n",
       "      <td>Google</td>\n",
       "      <td>Positive emotion</td>\n",
       "      <td>131</td>\n",
       "      <td>sxtxstate great stuff fri sxsw marissa mayer g...</td>\n",
       "    </tr>\n",
       "  </tbody>\n",
       "</table>\n",
       "</div>"
      ],
      "text/plain": [
       "                                                text             product  \\\n",
       "0  .@wesley83 I have a 3G iPhone. After 3 hrs twe...              iPhone   \n",
       "1  @jessedee Know about @fludapp ? Awesome iPad/i...  iPad or iPhone App   \n",
       "2  @swonderlin Can not wait for #iPad 2 also. The...                iPad   \n",
       "3  @sxsw I hope this year's festival isn't as cra...  iPad or iPhone App   \n",
       "4  @sxtxstate great stuff on Fri #SXSW: Marissa M...              Google   \n",
       "\n",
       "           Emotions  text_length  \\\n",
       "0  Negative emotion          127   \n",
       "1  Positive emotion          139   \n",
       "2  Positive emotion           79   \n",
       "3  Negative emotion           82   \n",
       "4  Positive emotion          131   \n",
       "\n",
       "                                          clean_text  \n",
       "0  wesley g iphone hr tweeting riseaustin dead ne...  \n",
       "1  jessedee know fludapp awesome ipadiphone app y...  \n",
       "2                swonderlin wait ipad also sale sxsw  \n",
       "3  sxsw hope year festival isnt crashy year iphon...  \n",
       "4  sxtxstate great stuff fri sxsw marissa mayer g...  "
      ]
     },
     "execution_count": 78,
     "metadata": {},
     "output_type": "execute_result"
    }
   ],
   "source": [
    "df.head()"
   ]
  },
  {
   "cell_type": "code",
   "execution_count": 79,
   "id": "b12da8ea",
   "metadata": {},
   "outputs": [
    {
     "data": {
      "text/plain": [
       "Emotions_binary\n",
       "Positive    2672\n",
       "Negative     619\n",
       "Name: count, dtype: int64"
      ]
     },
     "execution_count": 79,
     "metadata": {},
     "output_type": "execute_result"
    }
   ],
   "source": [
    "mapping = {\n",
    "    'Positive emotion':'Positive',\n",
    "    'Negative emotion': 'Negative',\n",
    "    'No emotion toward brand or product':'Negative',\n",
    "    \"I can't tell\": 'Negative'\n",
    "}\n",
    "df['Emotions_binary'] = df['Emotions'].map(mapping)\n",
    "df['Emotions_binary'].value_counts()\n"
   ]
  },
  {
   "cell_type": "code",
   "execution_count": 80,
   "id": "69b15c6e",
   "metadata": {},
   "outputs": [
    {
     "data": {
      "text/html": [
       "<div>\n",
       "<style scoped>\n",
       "    .dataframe tbody tr th:only-of-type {\n",
       "        vertical-align: middle;\n",
       "    }\n",
       "\n",
       "    .dataframe tbody tr th {\n",
       "        vertical-align: top;\n",
       "    }\n",
       "\n",
       "    .dataframe thead th {\n",
       "        text-align: right;\n",
       "    }\n",
       "</style>\n",
       "<table border=\"1\" class=\"dataframe\">\n",
       "  <thead>\n",
       "    <tr style=\"text-align: right;\">\n",
       "      <th></th>\n",
       "      <th>text</th>\n",
       "      <th>product</th>\n",
       "      <th>Emotions</th>\n",
       "      <th>text_length</th>\n",
       "      <th>clean_text</th>\n",
       "      <th>Emotions_binary</th>\n",
       "    </tr>\n",
       "  </thead>\n",
       "  <tbody>\n",
       "    <tr>\n",
       "      <th>0</th>\n",
       "      <td>.@wesley83 I have a 3G iPhone. After 3 hrs twe...</td>\n",
       "      <td>iPhone</td>\n",
       "      <td>Negative emotion</td>\n",
       "      <td>127</td>\n",
       "      <td>wesley g iphone hr tweeting riseaustin dead ne...</td>\n",
       "      <td>Negative</td>\n",
       "    </tr>\n",
       "    <tr>\n",
       "      <th>1</th>\n",
       "      <td>@jessedee Know about @fludapp ? Awesome iPad/i...</td>\n",
       "      <td>iPad or iPhone App</td>\n",
       "      <td>Positive emotion</td>\n",
       "      <td>139</td>\n",
       "      <td>jessedee know fludapp awesome ipadiphone app y...</td>\n",
       "      <td>Positive</td>\n",
       "    </tr>\n",
       "    <tr>\n",
       "      <th>2</th>\n",
       "      <td>@swonderlin Can not wait for #iPad 2 also. The...</td>\n",
       "      <td>iPad</td>\n",
       "      <td>Positive emotion</td>\n",
       "      <td>79</td>\n",
       "      <td>swonderlin wait ipad also sale sxsw</td>\n",
       "      <td>Positive</td>\n",
       "    </tr>\n",
       "    <tr>\n",
       "      <th>3</th>\n",
       "      <td>@sxsw I hope this year's festival isn't as cra...</td>\n",
       "      <td>iPad or iPhone App</td>\n",
       "      <td>Negative emotion</td>\n",
       "      <td>82</td>\n",
       "      <td>sxsw hope year festival isnt crashy year iphon...</td>\n",
       "      <td>Negative</td>\n",
       "    </tr>\n",
       "    <tr>\n",
       "      <th>4</th>\n",
       "      <td>@sxtxstate great stuff on Fri #SXSW: Marissa M...</td>\n",
       "      <td>Google</td>\n",
       "      <td>Positive emotion</td>\n",
       "      <td>131</td>\n",
       "      <td>sxtxstate great stuff fri sxsw marissa mayer g...</td>\n",
       "      <td>Positive</td>\n",
       "    </tr>\n",
       "  </tbody>\n",
       "</table>\n",
       "</div>"
      ],
      "text/plain": [
       "                                                text             product  \\\n",
       "0  .@wesley83 I have a 3G iPhone. After 3 hrs twe...              iPhone   \n",
       "1  @jessedee Know about @fludapp ? Awesome iPad/i...  iPad or iPhone App   \n",
       "2  @swonderlin Can not wait for #iPad 2 also. The...                iPad   \n",
       "3  @sxsw I hope this year's festival isn't as cra...  iPad or iPhone App   \n",
       "4  @sxtxstate great stuff on Fri #SXSW: Marissa M...              Google   \n",
       "\n",
       "           Emotions  text_length  \\\n",
       "0  Negative emotion          127   \n",
       "1  Positive emotion          139   \n",
       "2  Positive emotion           79   \n",
       "3  Negative emotion           82   \n",
       "4  Positive emotion          131   \n",
       "\n",
       "                                          clean_text Emotions_binary  \n",
       "0  wesley g iphone hr tweeting riseaustin dead ne...        Negative  \n",
       "1  jessedee know fludapp awesome ipadiphone app y...        Positive  \n",
       "2                swonderlin wait ipad also sale sxsw        Positive  \n",
       "3  sxsw hope year festival isnt crashy year iphon...        Negative  \n",
       "4  sxtxstate great stuff fri sxsw marissa mayer g...        Positive  "
      ]
     },
     "execution_count": 80,
     "metadata": {},
     "output_type": "execute_result"
    }
   ],
   "source": [
    "df.head()"
   ]
  },
  {
   "cell_type": "code",
   "execution_count": 83,
   "id": "55bd42a7",
   "metadata": {},
   "outputs": [
    {
     "data": {
      "text/plain": [
       "Emotions_binary_no\n",
       "1    2672\n",
       "0     619\n",
       "Name: count, dtype: int64"
      ]
     },
     "execution_count": 83,
     "metadata": {},
     "output_type": "execute_result"
    }
   ],
   "source": [
    "mapping1 = {\n",
    "    'Positive':1,\n",
    "    'Negative':0,\n",
    "\n",
    "}\n",
    "df['Emotions_binary_no'] = df['Emotions_binary'].map(mapping1)\n",
    "df['Emotions_binary_no'].value_counts()"
   ]
  },
  {
   "cell_type": "code",
   "execution_count": 84,
   "id": "cee17feb",
   "metadata": {},
   "outputs": [
    {
     "data": {
      "text/html": [
       "<div>\n",
       "<style scoped>\n",
       "    .dataframe tbody tr th:only-of-type {\n",
       "        vertical-align: middle;\n",
       "    }\n",
       "\n",
       "    .dataframe tbody tr th {\n",
       "        vertical-align: top;\n",
       "    }\n",
       "\n",
       "    .dataframe thead th {\n",
       "        text-align: right;\n",
       "    }\n",
       "</style>\n",
       "<table border=\"1\" class=\"dataframe\">\n",
       "  <thead>\n",
       "    <tr style=\"text-align: right;\">\n",
       "      <th></th>\n",
       "      <th>text</th>\n",
       "      <th>product</th>\n",
       "      <th>Emotions</th>\n",
       "      <th>text_length</th>\n",
       "      <th>clean_text</th>\n",
       "      <th>Emotions_binary</th>\n",
       "      <th>Emotions_binary_no</th>\n",
       "    </tr>\n",
       "  </thead>\n",
       "  <tbody>\n",
       "    <tr>\n",
       "      <th>0</th>\n",
       "      <td>.@wesley83 I have a 3G iPhone. After 3 hrs twe...</td>\n",
       "      <td>iPhone</td>\n",
       "      <td>Negative emotion</td>\n",
       "      <td>127</td>\n",
       "      <td>wesley g iphone hr tweeting riseaustin dead ne...</td>\n",
       "      <td>Negative</td>\n",
       "      <td>0</td>\n",
       "    </tr>\n",
       "    <tr>\n",
       "      <th>1</th>\n",
       "      <td>@jessedee Know about @fludapp ? Awesome iPad/i...</td>\n",
       "      <td>iPad or iPhone App</td>\n",
       "      <td>Positive emotion</td>\n",
       "      <td>139</td>\n",
       "      <td>jessedee know fludapp awesome ipadiphone app y...</td>\n",
       "      <td>Positive</td>\n",
       "      <td>1</td>\n",
       "    </tr>\n",
       "    <tr>\n",
       "      <th>2</th>\n",
       "      <td>@swonderlin Can not wait for #iPad 2 also. The...</td>\n",
       "      <td>iPad</td>\n",
       "      <td>Positive emotion</td>\n",
       "      <td>79</td>\n",
       "      <td>swonderlin wait ipad also sale sxsw</td>\n",
       "      <td>Positive</td>\n",
       "      <td>1</td>\n",
       "    </tr>\n",
       "    <tr>\n",
       "      <th>3</th>\n",
       "      <td>@sxsw I hope this year's festival isn't as cra...</td>\n",
       "      <td>iPad or iPhone App</td>\n",
       "      <td>Negative emotion</td>\n",
       "      <td>82</td>\n",
       "      <td>sxsw hope year festival isnt crashy year iphon...</td>\n",
       "      <td>Negative</td>\n",
       "      <td>0</td>\n",
       "    </tr>\n",
       "    <tr>\n",
       "      <th>4</th>\n",
       "      <td>@sxtxstate great stuff on Fri #SXSW: Marissa M...</td>\n",
       "      <td>Google</td>\n",
       "      <td>Positive emotion</td>\n",
       "      <td>131</td>\n",
       "      <td>sxtxstate great stuff fri sxsw marissa mayer g...</td>\n",
       "      <td>Positive</td>\n",
       "      <td>1</td>\n",
       "    </tr>\n",
       "  </tbody>\n",
       "</table>\n",
       "</div>"
      ],
      "text/plain": [
       "                                                text             product  \\\n",
       "0  .@wesley83 I have a 3G iPhone. After 3 hrs twe...              iPhone   \n",
       "1  @jessedee Know about @fludapp ? Awesome iPad/i...  iPad or iPhone App   \n",
       "2  @swonderlin Can not wait for #iPad 2 also. The...                iPad   \n",
       "3  @sxsw I hope this year's festival isn't as cra...  iPad or iPhone App   \n",
       "4  @sxtxstate great stuff on Fri #SXSW: Marissa M...              Google   \n",
       "\n",
       "           Emotions  text_length  \\\n",
       "0  Negative emotion          127   \n",
       "1  Positive emotion          139   \n",
       "2  Positive emotion           79   \n",
       "3  Negative emotion           82   \n",
       "4  Positive emotion          131   \n",
       "\n",
       "                                          clean_text Emotions_binary  \\\n",
       "0  wesley g iphone hr tweeting riseaustin dead ne...        Negative   \n",
       "1  jessedee know fludapp awesome ipadiphone app y...        Positive   \n",
       "2                swonderlin wait ipad also sale sxsw        Positive   \n",
       "3  sxsw hope year festival isnt crashy year iphon...        Negative   \n",
       "4  sxtxstate great stuff fri sxsw marissa mayer g...        Positive   \n",
       "\n",
       "   Emotions_binary_no  \n",
       "0                   0  \n",
       "1                   1  \n",
       "2                   1  \n",
       "3                   0  \n",
       "4                   1  "
      ]
     },
     "execution_count": 84,
     "metadata": {},
     "output_type": "execute_result"
    }
   ],
   "source": [
    "df.head()"
   ]
  },
  {
   "cell_type": "markdown",
   "id": "735f080b",
   "metadata": {},
   "source": [
    "**5.3 TF-IDF Vectorization and Binary Classification Model**\n",
    "\n",
    "To prepare the cleaned text data for machine learning, we will first transformed the Tweets into numerical features using TF-IDF vectorization, which captures the importance of each word relative to the dataset. This will enable the model to recognize patterns in word usage associated with sentiment. we will then train a Logistic Regression classifier on the vectorized data to perform binary sentiment classification, distinguishing between positive and negative Tweets. This baseline model will provide a foundation for evaluating performance and extending the approach to multiclass sentiment analysis."
   ]
  },
  {
   "cell_type": "markdown",
   "id": "a4d64fb8",
   "metadata": {},
   "source": [
    "**<u> i). Vectorization**"
   ]
  },
  {
   "cell_type": "markdown",
   "id": "1eb342c3",
   "metadata": {},
   "source": [
    "To convert textual data into a format suitable for machine learning, the cleaned Tweets are vectorized using the TF-IDF method. This approach assigns weights to words based on how frequently they appear across documents, allowing the model to focus on terms that are most relevant to distinguishing sentiment.\n"
   ]
  },
  {
   "cell_type": "code",
   "execution_count": 87,
   "id": "cf2f0454",
   "metadata": {},
   "outputs": [],
   "source": [
    "#split data\n",
    "X = df['clean_text']\n",
    "y= df['Emotions_binary_no']\n",
    "X_train,X_test,y_train,y_test = train_test_split(X,y,test_size = 0.2,random_state = 42)"
   ]
  },
  {
   "cell_type": "code",
   "execution_count": 88,
   "id": "d3919286",
   "metadata": {},
   "outputs": [
    {
     "data": {
      "text/plain": [
       "8246    excitement social network space google circle ...\n",
       "8969    sxsw day expected everyone glued iphoneipad in...\n",
       "8972    biomimicry basis design problem solving google...\n",
       "1118         link sxsw apple school marketing expert sxsw\n",
       "7352    smart companyapple set open popup shop core sx...\n",
       "                              ...                        \n",
       "2849    nice see speaker sneak irrelevant snarky comme...\n",
       "2944    thanks mention giving new top cover banged jui...\n",
       "3386    technology even begin apple win sxsw past week...\n",
       "2245           google web fontspretty sxsw tradeshow link\n",
       "8771    thank heaven nice traveler got iphone charger ...\n",
       "Name: clean_text, Length: 2632, dtype: object"
      ]
     },
     "execution_count": 88,
     "metadata": {},
     "output_type": "execute_result"
    }
   ],
   "source": [
    "X_train"
   ]
  },
  {
   "cell_type": "code",
   "execution_count": 89,
   "id": "8df61258",
   "metadata": {},
   "outputs": [
    {
     "data": {
      "text/plain": [
       "8539    san jose austin surrounded apple google peep e...\n",
       "8744         waiting outside sxsw apple store ipad woohoo\n",
       "4991    look crowd sxsw everyone head looking ipad pho...\n",
       "7163    looking forward seeing ipad site alphagraphics...\n",
       "4551    asked one booth people apple paid every single...\n",
       "                              ...                        \n",
       "2123    nyt wsj sxsw ask future branded native news ap...\n",
       "8837    saw someone filming sxsw trade show floor w te...\n",
       "2196    piece awesomeness arduino android flaming skul...\n",
       "2148    geek sxsw interactive panel ipad holler gram a...\n",
       "136      beautiful sxsw mention apple store sxsw pic link\n",
       "Name: clean_text, Length: 659, dtype: object"
      ]
     },
     "execution_count": 89,
     "metadata": {},
     "output_type": "execute_result"
    }
   ],
   "source": [
    "X_test"
   ]
  },
  {
   "cell_type": "code",
   "execution_count": 90,
   "id": "420ad2b8",
   "metadata": {},
   "outputs": [
    {
     "data": {
      "text/plain": [
       "8246    1\n",
       "8969    1\n",
       "8972    1\n",
       "1118    1\n",
       "7352    1\n",
       "       ..\n",
       "2849    0\n",
       "2944    1\n",
       "3386    1\n",
       "2245    1\n",
       "8771    1\n",
       "Name: Emotions_binary_no, Length: 2632, dtype: int64"
      ]
     },
     "execution_count": 90,
     "metadata": {},
     "output_type": "execute_result"
    }
   ],
   "source": [
    "y_train"
   ]
  },
  {
   "cell_type": "code",
   "execution_count": 91,
   "id": "ed6e9884",
   "metadata": {},
   "outputs": [
    {
     "data": {
      "text/plain": [
       "8539    1\n",
       "8744    1\n",
       "4991    1\n",
       "7163    1\n",
       "4551    0\n",
       "       ..\n",
       "2123    0\n",
       "8837    1\n",
       "2196    1\n",
       "2148    1\n",
       "136     1\n",
       "Name: Emotions_binary_no, Length: 659, dtype: int64"
      ]
     },
     "execution_count": 91,
     "metadata": {},
     "output_type": "execute_result"
    }
   ],
   "source": [
    "y_test"
   ]
  },
  {
   "cell_type": "code",
   "execution_count": 92,
   "id": "e0100047",
   "metadata": {},
   "outputs": [
    {
     "data": {
      "text/plain": [
       "(2632,)"
      ]
     },
     "execution_count": 92,
     "metadata": {},
     "output_type": "execute_result"
    }
   ],
   "source": [
    "#checking number of columns and rows after the split to confirm working\n",
    "X_train.shape"
   ]
  },
  {
   "cell_type": "code",
   "execution_count": 93,
   "id": "00935742",
   "metadata": {},
   "outputs": [
    {
     "data": {
      "text/plain": [
       "(2632,)"
      ]
     },
     "execution_count": 93,
     "metadata": {},
     "output_type": "execute_result"
    }
   ],
   "source": [
    "y_train.shape"
   ]
  },
  {
   "cell_type": "code",
   "execution_count": 95,
   "id": "9eea2a87",
   "metadata": {},
   "outputs": [],
   "source": [
    "#vectorize\n",
    "vectorize = TfidfVectorizer()\n",
    "X_train_vec = vectorize.fit_transform(X_train)\n",
    "X_test_vec = vectorize.transform(X_test)"
   ]
  },
  {
   "cell_type": "markdown",
   "id": "200987cf",
   "metadata": {},
   "source": [
    "**<u>ii) Modeling - logistic regression model**"
   ]
  },
  {
   "cell_type": "markdown",
   "id": "bbe22e56",
   "metadata": {},
   "source": [
    "**a) Baseline model**"
   ]
  },
  {
   "cell_type": "markdown",
   "id": "2ac5e036",
   "metadata": {},
   "source": [
    "Using the vectorized text, we will build a Logistic Regression classifier to predict whether a Tweet expresses a positive or negative sentiment. This model establishes a baseline for binary sentiment classification and provides a starting point for assessing performance before expanding to more complex models or multiclass analysis."
   ]
  },
  {
   "cell_type": "code",
   "execution_count": 96,
   "id": "1a351bc9",
   "metadata": {},
   "outputs": [
    {
     "data": {
      "text/html": [
       "<style>#sk-container-id-1 {\n",
       "  /* Definition of color scheme common for light and dark mode */\n",
       "  --sklearn-color-text: #000;\n",
       "  --sklearn-color-text-muted: #666;\n",
       "  --sklearn-color-line: gray;\n",
       "  /* Definition of color scheme for unfitted estimators */\n",
       "  --sklearn-color-unfitted-level-0: #fff5e6;\n",
       "  --sklearn-color-unfitted-level-1: #f6e4d2;\n",
       "  --sklearn-color-unfitted-level-2: #ffe0b3;\n",
       "  --sklearn-color-unfitted-level-3: chocolate;\n",
       "  /* Definition of color scheme for fitted estimators */\n",
       "  --sklearn-color-fitted-level-0: #f0f8ff;\n",
       "  --sklearn-color-fitted-level-1: #d4ebff;\n",
       "  --sklearn-color-fitted-level-2: #b3dbfd;\n",
       "  --sklearn-color-fitted-level-3: cornflowerblue;\n",
       "\n",
       "  /* Specific color for light theme */\n",
       "  --sklearn-color-text-on-default-background: var(--sg-text-color, var(--theme-code-foreground, var(--jp-content-font-color1, black)));\n",
       "  --sklearn-color-background: var(--sg-background-color, var(--theme-background, var(--jp-layout-color0, white)));\n",
       "  --sklearn-color-border-box: var(--sg-text-color, var(--theme-code-foreground, var(--jp-content-font-color1, black)));\n",
       "  --sklearn-color-icon: #696969;\n",
       "\n",
       "  @media (prefers-color-scheme: dark) {\n",
       "    /* Redefinition of color scheme for dark theme */\n",
       "    --sklearn-color-text-on-default-background: var(--sg-text-color, var(--theme-code-foreground, var(--jp-content-font-color1, white)));\n",
       "    --sklearn-color-background: var(--sg-background-color, var(--theme-background, var(--jp-layout-color0, #111)));\n",
       "    --sklearn-color-border-box: var(--sg-text-color, var(--theme-code-foreground, var(--jp-content-font-color1, white)));\n",
       "    --sklearn-color-icon: #878787;\n",
       "  }\n",
       "}\n",
       "\n",
       "#sk-container-id-1 {\n",
       "  color: var(--sklearn-color-text);\n",
       "}\n",
       "\n",
       "#sk-container-id-1 pre {\n",
       "  padding: 0;\n",
       "}\n",
       "\n",
       "#sk-container-id-1 input.sk-hidden--visually {\n",
       "  border: 0;\n",
       "  clip: rect(1px 1px 1px 1px);\n",
       "  clip: rect(1px, 1px, 1px, 1px);\n",
       "  height: 1px;\n",
       "  margin: -1px;\n",
       "  overflow: hidden;\n",
       "  padding: 0;\n",
       "  position: absolute;\n",
       "  width: 1px;\n",
       "}\n",
       "\n",
       "#sk-container-id-1 div.sk-dashed-wrapped {\n",
       "  border: 1px dashed var(--sklearn-color-line);\n",
       "  margin: 0 0.4em 0.5em 0.4em;\n",
       "  box-sizing: border-box;\n",
       "  padding-bottom: 0.4em;\n",
       "  background-color: var(--sklearn-color-background);\n",
       "}\n",
       "\n",
       "#sk-container-id-1 div.sk-container {\n",
       "  /* jupyter's `normalize.less` sets `[hidden] { display: none; }`\n",
       "     but bootstrap.min.css set `[hidden] { display: none !important; }`\n",
       "     so we also need the `!important` here to be able to override the\n",
       "     default hidden behavior on the sphinx rendered scikit-learn.org.\n",
       "     See: https://github.com/scikit-learn/scikit-learn/issues/21755 */\n",
       "  display: inline-block !important;\n",
       "  position: relative;\n",
       "}\n",
       "\n",
       "#sk-container-id-1 div.sk-text-repr-fallback {\n",
       "  display: none;\n",
       "}\n",
       "\n",
       "div.sk-parallel-item,\n",
       "div.sk-serial,\n",
       "div.sk-item {\n",
       "  /* draw centered vertical line to link estimators */\n",
       "  background-image: linear-gradient(var(--sklearn-color-text-on-default-background), var(--sklearn-color-text-on-default-background));\n",
       "  background-size: 2px 100%;\n",
       "  background-repeat: no-repeat;\n",
       "  background-position: center center;\n",
       "}\n",
       "\n",
       "/* Parallel-specific style estimator block */\n",
       "\n",
       "#sk-container-id-1 div.sk-parallel-item::after {\n",
       "  content: \"\";\n",
       "  width: 100%;\n",
       "  border-bottom: 2px solid var(--sklearn-color-text-on-default-background);\n",
       "  flex-grow: 1;\n",
       "}\n",
       "\n",
       "#sk-container-id-1 div.sk-parallel {\n",
       "  display: flex;\n",
       "  align-items: stretch;\n",
       "  justify-content: center;\n",
       "  background-color: var(--sklearn-color-background);\n",
       "  position: relative;\n",
       "}\n",
       "\n",
       "#sk-container-id-1 div.sk-parallel-item {\n",
       "  display: flex;\n",
       "  flex-direction: column;\n",
       "}\n",
       "\n",
       "#sk-container-id-1 div.sk-parallel-item:first-child::after {\n",
       "  align-self: flex-end;\n",
       "  width: 50%;\n",
       "}\n",
       "\n",
       "#sk-container-id-1 div.sk-parallel-item:last-child::after {\n",
       "  align-self: flex-start;\n",
       "  width: 50%;\n",
       "}\n",
       "\n",
       "#sk-container-id-1 div.sk-parallel-item:only-child::after {\n",
       "  width: 0;\n",
       "}\n",
       "\n",
       "/* Serial-specific style estimator block */\n",
       "\n",
       "#sk-container-id-1 div.sk-serial {\n",
       "  display: flex;\n",
       "  flex-direction: column;\n",
       "  align-items: center;\n",
       "  background-color: var(--sklearn-color-background);\n",
       "  padding-right: 1em;\n",
       "  padding-left: 1em;\n",
       "}\n",
       "\n",
       "\n",
       "/* Toggleable style: style used for estimator/Pipeline/ColumnTransformer box that is\n",
       "clickable and can be expanded/collapsed.\n",
       "- Pipeline and ColumnTransformer use this feature and define the default style\n",
       "- Estimators will overwrite some part of the style using the `sk-estimator` class\n",
       "*/\n",
       "\n",
       "/* Pipeline and ColumnTransformer style (default) */\n",
       "\n",
       "#sk-container-id-1 div.sk-toggleable {\n",
       "  /* Default theme specific background. It is overwritten whether we have a\n",
       "  specific estimator or a Pipeline/ColumnTransformer */\n",
       "  background-color: var(--sklearn-color-background);\n",
       "}\n",
       "\n",
       "/* Toggleable label */\n",
       "#sk-container-id-1 label.sk-toggleable__label {\n",
       "  cursor: pointer;\n",
       "  display: flex;\n",
       "  width: 100%;\n",
       "  margin-bottom: 0;\n",
       "  padding: 0.5em;\n",
       "  box-sizing: border-box;\n",
       "  text-align: center;\n",
       "  align-items: start;\n",
       "  justify-content: space-between;\n",
       "  gap: 0.5em;\n",
       "}\n",
       "\n",
       "#sk-container-id-1 label.sk-toggleable__label .caption {\n",
       "  font-size: 0.6rem;\n",
       "  font-weight: lighter;\n",
       "  color: var(--sklearn-color-text-muted);\n",
       "}\n",
       "\n",
       "#sk-container-id-1 label.sk-toggleable__label-arrow:before {\n",
       "  /* Arrow on the left of the label */\n",
       "  content: \"▸\";\n",
       "  float: left;\n",
       "  margin-right: 0.25em;\n",
       "  color: var(--sklearn-color-icon);\n",
       "}\n",
       "\n",
       "#sk-container-id-1 label.sk-toggleable__label-arrow:hover:before {\n",
       "  color: var(--sklearn-color-text);\n",
       "}\n",
       "\n",
       "/* Toggleable content - dropdown */\n",
       "\n",
       "#sk-container-id-1 div.sk-toggleable__content {\n",
       "  max-height: 0;\n",
       "  max-width: 0;\n",
       "  overflow: hidden;\n",
       "  text-align: left;\n",
       "  /* unfitted */\n",
       "  background-color: var(--sklearn-color-unfitted-level-0);\n",
       "}\n",
       "\n",
       "#sk-container-id-1 div.sk-toggleable__content.fitted {\n",
       "  /* fitted */\n",
       "  background-color: var(--sklearn-color-fitted-level-0);\n",
       "}\n",
       "\n",
       "#sk-container-id-1 div.sk-toggleable__content pre {\n",
       "  margin: 0.2em;\n",
       "  border-radius: 0.25em;\n",
       "  color: var(--sklearn-color-text);\n",
       "  /* unfitted */\n",
       "  background-color: var(--sklearn-color-unfitted-level-0);\n",
       "}\n",
       "\n",
       "#sk-container-id-1 div.sk-toggleable__content.fitted pre {\n",
       "  /* unfitted */\n",
       "  background-color: var(--sklearn-color-fitted-level-0);\n",
       "}\n",
       "\n",
       "#sk-container-id-1 input.sk-toggleable__control:checked~div.sk-toggleable__content {\n",
       "  /* Expand drop-down */\n",
       "  max-height: 200px;\n",
       "  max-width: 100%;\n",
       "  overflow: auto;\n",
       "}\n",
       "\n",
       "#sk-container-id-1 input.sk-toggleable__control:checked~label.sk-toggleable__label-arrow:before {\n",
       "  content: \"▾\";\n",
       "}\n",
       "\n",
       "/* Pipeline/ColumnTransformer-specific style */\n",
       "\n",
       "#sk-container-id-1 div.sk-label input.sk-toggleable__control:checked~label.sk-toggleable__label {\n",
       "  color: var(--sklearn-color-text);\n",
       "  background-color: var(--sklearn-color-unfitted-level-2);\n",
       "}\n",
       "\n",
       "#sk-container-id-1 div.sk-label.fitted input.sk-toggleable__control:checked~label.sk-toggleable__label {\n",
       "  background-color: var(--sklearn-color-fitted-level-2);\n",
       "}\n",
       "\n",
       "/* Estimator-specific style */\n",
       "\n",
       "/* Colorize estimator box */\n",
       "#sk-container-id-1 div.sk-estimator input.sk-toggleable__control:checked~label.sk-toggleable__label {\n",
       "  /* unfitted */\n",
       "  background-color: var(--sklearn-color-unfitted-level-2);\n",
       "}\n",
       "\n",
       "#sk-container-id-1 div.sk-estimator.fitted input.sk-toggleable__control:checked~label.sk-toggleable__label {\n",
       "  /* fitted */\n",
       "  background-color: var(--sklearn-color-fitted-level-2);\n",
       "}\n",
       "\n",
       "#sk-container-id-1 div.sk-label label.sk-toggleable__label,\n",
       "#sk-container-id-1 div.sk-label label {\n",
       "  /* The background is the default theme color */\n",
       "  color: var(--sklearn-color-text-on-default-background);\n",
       "}\n",
       "\n",
       "/* On hover, darken the color of the background */\n",
       "#sk-container-id-1 div.sk-label:hover label.sk-toggleable__label {\n",
       "  color: var(--sklearn-color-text);\n",
       "  background-color: var(--sklearn-color-unfitted-level-2);\n",
       "}\n",
       "\n",
       "/* Label box, darken color on hover, fitted */\n",
       "#sk-container-id-1 div.sk-label.fitted:hover label.sk-toggleable__label.fitted {\n",
       "  color: var(--sklearn-color-text);\n",
       "  background-color: var(--sklearn-color-fitted-level-2);\n",
       "}\n",
       "\n",
       "/* Estimator label */\n",
       "\n",
       "#sk-container-id-1 div.sk-label label {\n",
       "  font-family: monospace;\n",
       "  font-weight: bold;\n",
       "  display: inline-block;\n",
       "  line-height: 1.2em;\n",
       "}\n",
       "\n",
       "#sk-container-id-1 div.sk-label-container {\n",
       "  text-align: center;\n",
       "}\n",
       "\n",
       "/* Estimator-specific */\n",
       "#sk-container-id-1 div.sk-estimator {\n",
       "  font-family: monospace;\n",
       "  border: 1px dotted var(--sklearn-color-border-box);\n",
       "  border-radius: 0.25em;\n",
       "  box-sizing: border-box;\n",
       "  margin-bottom: 0.5em;\n",
       "  /* unfitted */\n",
       "  background-color: var(--sklearn-color-unfitted-level-0);\n",
       "}\n",
       "\n",
       "#sk-container-id-1 div.sk-estimator.fitted {\n",
       "  /* fitted */\n",
       "  background-color: var(--sklearn-color-fitted-level-0);\n",
       "}\n",
       "\n",
       "/* on hover */\n",
       "#sk-container-id-1 div.sk-estimator:hover {\n",
       "  /* unfitted */\n",
       "  background-color: var(--sklearn-color-unfitted-level-2);\n",
       "}\n",
       "\n",
       "#sk-container-id-1 div.sk-estimator.fitted:hover {\n",
       "  /* fitted */\n",
       "  background-color: var(--sklearn-color-fitted-level-2);\n",
       "}\n",
       "\n",
       "/* Specification for estimator info (e.g. \"i\" and \"?\") */\n",
       "\n",
       "/* Common style for \"i\" and \"?\" */\n",
       "\n",
       ".sk-estimator-doc-link,\n",
       "a:link.sk-estimator-doc-link,\n",
       "a:visited.sk-estimator-doc-link {\n",
       "  float: right;\n",
       "  font-size: smaller;\n",
       "  line-height: 1em;\n",
       "  font-family: monospace;\n",
       "  background-color: var(--sklearn-color-background);\n",
       "  border-radius: 1em;\n",
       "  height: 1em;\n",
       "  width: 1em;\n",
       "  text-decoration: none !important;\n",
       "  margin-left: 0.5em;\n",
       "  text-align: center;\n",
       "  /* unfitted */\n",
       "  border: var(--sklearn-color-unfitted-level-1) 1pt solid;\n",
       "  color: var(--sklearn-color-unfitted-level-1);\n",
       "}\n",
       "\n",
       ".sk-estimator-doc-link.fitted,\n",
       "a:link.sk-estimator-doc-link.fitted,\n",
       "a:visited.sk-estimator-doc-link.fitted {\n",
       "  /* fitted */\n",
       "  border: var(--sklearn-color-fitted-level-1) 1pt solid;\n",
       "  color: var(--sklearn-color-fitted-level-1);\n",
       "}\n",
       "\n",
       "/* On hover */\n",
       "div.sk-estimator:hover .sk-estimator-doc-link:hover,\n",
       ".sk-estimator-doc-link:hover,\n",
       "div.sk-label-container:hover .sk-estimator-doc-link:hover,\n",
       ".sk-estimator-doc-link:hover {\n",
       "  /* unfitted */\n",
       "  background-color: var(--sklearn-color-unfitted-level-3);\n",
       "  color: var(--sklearn-color-background);\n",
       "  text-decoration: none;\n",
       "}\n",
       "\n",
       "div.sk-estimator.fitted:hover .sk-estimator-doc-link.fitted:hover,\n",
       ".sk-estimator-doc-link.fitted:hover,\n",
       "div.sk-label-container:hover .sk-estimator-doc-link.fitted:hover,\n",
       ".sk-estimator-doc-link.fitted:hover {\n",
       "  /* fitted */\n",
       "  background-color: var(--sklearn-color-fitted-level-3);\n",
       "  color: var(--sklearn-color-background);\n",
       "  text-decoration: none;\n",
       "}\n",
       "\n",
       "/* Span, style for the box shown on hovering the info icon */\n",
       ".sk-estimator-doc-link span {\n",
       "  display: none;\n",
       "  z-index: 9999;\n",
       "  position: relative;\n",
       "  font-weight: normal;\n",
       "  right: .2ex;\n",
       "  padding: .5ex;\n",
       "  margin: .5ex;\n",
       "  width: min-content;\n",
       "  min-width: 20ex;\n",
       "  max-width: 50ex;\n",
       "  color: var(--sklearn-color-text);\n",
       "  box-shadow: 2pt 2pt 4pt #999;\n",
       "  /* unfitted */\n",
       "  background: var(--sklearn-color-unfitted-level-0);\n",
       "  border: .5pt solid var(--sklearn-color-unfitted-level-3);\n",
       "}\n",
       "\n",
       ".sk-estimator-doc-link.fitted span {\n",
       "  /* fitted */\n",
       "  background: var(--sklearn-color-fitted-level-0);\n",
       "  border: var(--sklearn-color-fitted-level-3);\n",
       "}\n",
       "\n",
       ".sk-estimator-doc-link:hover span {\n",
       "  display: block;\n",
       "}\n",
       "\n",
       "/* \"?\"-specific style due to the `<a>` HTML tag */\n",
       "\n",
       "#sk-container-id-1 a.estimator_doc_link {\n",
       "  float: right;\n",
       "  font-size: 1rem;\n",
       "  line-height: 1em;\n",
       "  font-family: monospace;\n",
       "  background-color: var(--sklearn-color-background);\n",
       "  border-radius: 1rem;\n",
       "  height: 1rem;\n",
       "  width: 1rem;\n",
       "  text-decoration: none;\n",
       "  /* unfitted */\n",
       "  color: var(--sklearn-color-unfitted-level-1);\n",
       "  border: var(--sklearn-color-unfitted-level-1) 1pt solid;\n",
       "}\n",
       "\n",
       "#sk-container-id-1 a.estimator_doc_link.fitted {\n",
       "  /* fitted */\n",
       "  border: var(--sklearn-color-fitted-level-1) 1pt solid;\n",
       "  color: var(--sklearn-color-fitted-level-1);\n",
       "}\n",
       "\n",
       "/* On hover */\n",
       "#sk-container-id-1 a.estimator_doc_link:hover {\n",
       "  /* unfitted */\n",
       "  background-color: var(--sklearn-color-unfitted-level-3);\n",
       "  color: var(--sklearn-color-background);\n",
       "  text-decoration: none;\n",
       "}\n",
       "\n",
       "#sk-container-id-1 a.estimator_doc_link.fitted:hover {\n",
       "  /* fitted */\n",
       "  background-color: var(--sklearn-color-fitted-level-3);\n",
       "}\n",
       "</style><div id=\"sk-container-id-1\" class=\"sk-top-container\"><div class=\"sk-text-repr-fallback\"><pre>LogisticRegression(max_iter=1000)</pre><b>In a Jupyter environment, please rerun this cell to show the HTML representation or trust the notebook. <br />On GitHub, the HTML representation is unable to render, please try loading this page with nbviewer.org.</b></div><div class=\"sk-container\" hidden><div class=\"sk-item\"><div class=\"sk-estimator fitted sk-toggleable\"><input class=\"sk-toggleable__control sk-hidden--visually\" id=\"sk-estimator-id-1\" type=\"checkbox\" checked><label for=\"sk-estimator-id-1\" class=\"sk-toggleable__label fitted sk-toggleable__label-arrow\"><div><div>LogisticRegression</div></div><div><a class=\"sk-estimator-doc-link fitted\" rel=\"noreferrer\" target=\"_blank\" href=\"https://scikit-learn.org/1.6/modules/generated/sklearn.linear_model.LogisticRegression.html\">?<span>Documentation for LogisticRegression</span></a><span class=\"sk-estimator-doc-link fitted\">i<span>Fitted</span></span></div></label><div class=\"sk-toggleable__content fitted\"><pre>LogisticRegression(max_iter=1000)</pre></div> </div></div></div></div>"
      ],
      "text/plain": [
       "LogisticRegression(max_iter=1000)"
      ]
     },
     "execution_count": 96,
     "metadata": {},
     "output_type": "execute_result"
    }
   ],
   "source": [
    "#model training\n",
    "modellog = LogisticRegression(max_iter=1000)\n",
    "modellog.fit(X_train_vec,y_train)"
   ]
  },
  {
   "cell_type": "markdown",
   "id": "500c11f8",
   "metadata": {},
   "source": [
    "**b) Evaluating the model**"
   ]
  },
  {
   "cell_type": "code",
   "execution_count": 97,
   "id": "dfd6732f",
   "metadata": {},
   "outputs": [
    {
     "name": "stdout",
     "output_type": "stream",
     "text": [
      "              precision    recall  f1-score   support\n",
      "\n",
      "           0       1.00      0.19      0.31       495\n",
      "           1       0.84      1.00      0.91      2137\n",
      "\n",
      "    accuracy                           0.85      2632\n",
      "   macro avg       0.92      0.59      0.61      2632\n",
      "weighted avg       0.87      0.85      0.80      2632\n",
      "\n"
     ]
    }
   ],
   "source": [
    "#Evaluate on training data\n",
    "trainlog_pred = modellog.predict(X_train_vec)\n",
    "print(classification_report(y_train,trainlog_pred))"
   ]
  },
  {
   "cell_type": "markdown",
   "id": "a6cc77c6",
   "metadata": {},
   "source": [
    "The classification report reveals that the model performs well on predicting positive sentiment but struggles significantly with negative sentiment due to class imbalance. While the overall accuracy is 85%, the recall for negative Tweets is only 19%, indicating that the model fails to correctly identify most negative instances. In contrast, it predicts positive Tweets with high accuracy and recall. This imbalance skews the performance metrics and highlights the need for strategies such as resampling the data or adjusting class weights in the model to improve its ability to detect underrepresented negative sentiments."
   ]
  },
  {
   "cell_type": "code",
   "execution_count": 98,
   "id": "4ab89944",
   "metadata": {},
   "outputs": [
    {
     "name": "stdout",
     "output_type": "stream",
     "text": [
      "              precision    recall  f1-score   support\n",
      "\n",
      "           0       1.00      0.06      0.12       124\n",
      "           1       0.82      1.00      0.90       535\n",
      "\n",
      "    accuracy                           0.82       659\n",
      "   macro avg       0.91      0.53      0.51       659\n",
      "weighted avg       0.86      0.82      0.76       659\n",
      "\n"
     ]
    }
   ],
   "source": [
    "#Evaluate on testing data\n",
    "testlog_pred = modellog.predict(X_test_vec)\n",
    "print(classification_report(y_test,testlog_pred))"
   ]
  },
  {
   "cell_type": "markdown",
   "id": "00399e66",
   "metadata": {},
   "source": [
    "1 Generally from the above classification report, the recall,f1-score,precision values are zero for the negative class in both the training and testing datasets.This shows that the model is not correctly capturing / predicting negative labels. The probable cause could be an imbalance in the two classes.\n",
    "\n",
    "2 The accuracy however is within the same range for both the training and testing dataset.\n",
    "\n",
    "3 The positive label precision,recall and f1-score values are within range for both the training and test sets.The accuracy level therefore probably captures mostly the positive values while not correctly representing the negative values.\n",
    "\n",
    "4 For further evaluation the ROC curve is used below to show the rate of truly predicting customers who drop off."
   ]
  },
  {
   "cell_type": "code",
   "execution_count": 99,
   "id": "2cb7d8f6",
   "metadata": {},
   "outputs": [],
   "source": [
    "#Scikit learn's built in roc_curve returns the fpr,tpr,and threshold for various decision boundaries given the case member probabilities\n",
    "#first calculate the probability scores of each of the data points\n",
    "\n",
    "y_score = modellog.fit(X_train_vec,y_train).decision_function(X_test_vec)\n",
    "\n",
    "#compute ROC curve values\n",
    "fpr,tpr,thresholds = roc_curve(y_test,y_score)"
   ]
  },
  {
   "cell_type": "code",
   "execution_count": 100,
   "id": "45ca0ced",
   "metadata": {},
   "outputs": [
    {
     "data": {
      "text/plain": [
       "np.float64(0.8307958999095568)"
      ]
     },
     "execution_count": 100,
     "metadata": {},
     "output_type": "execute_result"
    }
   ],
   "source": [
    "#calculate AUC\n",
    "\n",
    "auc(fpr,tpr)"
   ]
  },
  {
   "cell_type": "code",
   "execution_count": 101,
   "id": "09f48d73",
   "metadata": {},
   "outputs": [
    {
     "name": "stdout",
     "output_type": "stream",
     "text": [
      "AUC: 0.8307958999095568\n"
     ]
    },
    {
     "data": {
      "image/png": "[encoded data removed]",
      "text/plain": [
       "<Figure size 1000x800 with 1 Axes>"
      ]
     },
     "metadata": {},
     "output_type": "display_data"
    }
   ],
   "source": [
    "#plotting ROC curve\n",
    "%matplotlib inline\n",
    "sns.set_style('darkgrid', {'axes.facecolor': '0.9'})\n",
    "\n",
    "print('AUC: {}'.format(auc(fpr, tpr)))\n",
    "plt.figure(figsize=(10, 8))\n",
    "lw = 2\n",
    "plt.plot(fpr, tpr, color='darkorange',\n",
    "         lw=lw, label='ROC curve')\n",
    "plt.plot([0, 1], [0, 1], color='navy', lw=lw, linestyle='--')\n",
    "plt.xlim([0.0, 1.0])\n",
    "plt.ylim([0.0, 1.05])\n",
    "plt.yticks([i/20.0 for i in range(21)])\n",
    "plt.xticks([i/20.0 for i in range(21)])\n",
    "plt.xlabel('False Positive Rate')\n",
    "plt.ylabel('True Positive Rate')\n",
    "plt.title('Receiver operating characteristic (ROC) Curve')\n",
    "plt.legend(loc='lower right')\n",
    "plt.show()"
   ]
  },
  {
   "cell_type": "markdown",
   "id": "630e6171",
   "metadata": {},
   "source": [
    "The ROC curve illustrates that the model has a strong ability to distinguish between positive and negative sentiments. The curve rises sharply toward the top-left corner, indicating a high true positive rate and a relatively low false positive rate across various threshold settings. This suggests that the classifier performs significantly better than random guessing, as evidenced by the clear separation from the diagonal baseline. Despite earlier observations of bias toward the majority class, the ROC curve confirms that the model has good overall discriminative power, and with further tuning—such as adjusting decision thresholds or addressing class imbalance—it has the potential to perform even more effectively."
   ]
  },
  {
   "cell_type": "markdown",
   "id": "80636b24",
   "metadata": {},
   "source": [
    "**iii) Model Optimization and Performance Enhancement**"
   ]
  },
  {
   "cell_type": "markdown",
   "id": "737d0da2",
   "metadata": {},
   "source": [
    "After establishing a baseline model, this phase will focuse on improving performance by addressing key limitations such as class imbalance and untuned hyperparameters. SMOTE will be applied to balance the training data, enabling the model to better learn from both positive and negative sentiment examples. The model will then be retrained on the resampled data, evaluated using metrics like the classification report and confusion matrix, and further refined through hyperparameter tuning. These steps aim to enhance the model’s ability to generalize and make accurate predictions across all sentiment classes."
   ]
  },
  {
   "cell_type": "markdown",
   "id": "106f19a3",
   "metadata": {},
   "source": [
    "**a) Applying SMOTE**"
   ]
  },
  {
   "cell_type": "markdown",
   "id": "9d443d64",
   "metadata": {},
   "source": [
    "To address the imbalance between positive and negative Tweets, SMOTE was applied to the training data. This technique generates synthetic examples of the minority class, ensuring the model learns equally from both sentiment categories and improves its ability to detect negative sentiment."
   ]
  },
  {
   "cell_type": "code",
   "execution_count": 103,
   "id": "f3a705c9",
   "metadata": {},
   "outputs": [],
   "source": [
    "import warnings\n",
    "warnings.filterwarnings(\"ignore\", category=FutureWarning)"
   ]
  },
  {
   "cell_type": "code",
   "execution_count": 104,
   "id": "49f675f5",
   "metadata": {},
   "outputs": [
    {
     "data": {
      "text/plain": [
       "Emotions_binary_no\n",
       "1    2137\n",
       "0    2137\n",
       "Name: count, dtype: int64"
      ]
     },
     "execution_count": 104,
     "metadata": {},
     "output_type": "execute_result"
    }
   ],
   "source": [
    "# Applying SMOTE on the training data\n",
    "smote = SMOTE()\n",
    "X_train_resampled, y_train_resampled = smote.fit_resample(X_train_vec, y_train) \n",
    "y_train_resampled.value_counts()"
   ]
  },
  {
   "cell_type": "markdown",
   "id": "3d3c7ffb",
   "metadata": {},
   "source": [
    "As shown in the result above, SMOTE has synthetically generated additional negative samples to match the majority class.."
   ]
  },
  {
   "cell_type": "markdown",
   "id": "6cae0158",
   "metadata": {},
   "source": [
    "**b) Model Retraining**\n",
    "\n",
    "This aims to show whether the model will now detects negative sentiment more effectively."
   ]
  },
  {
   "cell_type": "code",
   "execution_count": 105,
   "id": "27cb7595",
   "metadata": {},
   "outputs": [
    {
     "name": "stdout",
     "output_type": "stream",
     "text": [
      "              precision    recall  f1-score   support\n",
      "\n",
      "           0       0.95      0.97      0.96      2137\n",
      "           1       0.97      0.95      0.96      2137\n",
      "\n",
      "    accuracy                           0.96      4274\n",
      "   macro avg       0.96      0.96      0.96      4274\n",
      "weighted avg       0.96      0.96      0.96      4274\n",
      "\n"
     ]
    }
   ],
   "source": [
    "#model training\n",
    "modellog_S = LogisticRegression(max_iter=1000)\n",
    "modellog_S.fit(X_train_resampled,y_train_resampled)\n",
    "\n",
    "#evaluate on training data\n",
    "trainlog_pred_S = modellog_S.predict(X_train_resampled)\n",
    "print(classification_report(y_train_resampled,trainlog_pred_S))\n"
   ]
  },
  {
   "cell_type": "markdown",
   "id": "e8442b31",
   "metadata": {},
   "source": [
    "The model is now very balanced in performance across both classes.\n",
    "\n",
    "It correctly identifies almost all negative and positive Tweets.\n",
    "\n",
    "The F1-scores of 0.96 indicate strong precision and recall harmony.\n",
    "\n",
    "These results from the resampled training set, so they show the model has fit well to the balanced data."
   ]
  },
  {
   "cell_type": "code",
   "execution_count": 107,
   "id": "ef80c491",
   "metadata": {},
   "outputs": [
    {
     "name": "stdout",
     "output_type": "stream",
     "text": [
      "              precision    recall  f1-score   support\n",
      "\n",
      "           0       0.56      0.56      0.56       124\n",
      "           1       0.90      0.90      0.90       535\n",
      "\n",
      "    accuracy                           0.83       659\n",
      "   macro avg       0.73      0.73      0.73       659\n",
      "weighted avg       0.84      0.83      0.83       659\n",
      "\n"
     ]
    }
   ],
   "source": [
    "#evaluate on testing data\n",
    "testlog_pred_S = modellog_S.predict(X_test_vec)\n",
    "print(classification_report(y_test,testlog_pred_S))"
   ]
  },
  {
   "cell_type": "markdown",
   "id": "fb7e920f",
   "metadata": {},
   "source": [
    "Recall for Class 0 (Negative) jumped from 6% to 56% compared to the earlier model.\n",
    "\n",
    "The model now detects more than half of the negative Tweets, a big improvement from near-zero detection.\n",
    "\n",
    "Macro and weighted F1-scores also improved, showing more balanced performance across both classes."
   ]
  },
  {
   "cell_type": "markdown",
   "id": "3a82bf6f",
   "metadata": {},
   "source": [
    "Applying SMOTE significantly improved the model’s ability to detect negative sentiment in unseen Tweets. The recall for the negative class increased from just 6% to 56%, indicating that the model now recognizes over half of the negative examples in the test set. While performance on the positive class remains strong, the F1-score of 0.56 for the negative class suggests that additional improvements, such as hyperparameter tuning could further enhance the model's balance and effectiveness.\n",
    "\n"
   ]
  },
  {
   "cell_type": "code",
   "execution_count": 108,
   "id": "9cf610dd",
   "metadata": {},
   "outputs": [
    {
     "data": {
      "text/plain": [
       "np.float64(0.8356044618631293)"
      ]
     },
     "execution_count": 108,
     "metadata": {},
     "output_type": "execute_result"
    }
   ],
   "source": [
    "y_score_S = modellog_S.fit(X_train_resampled,y_train_resampled).decision_function(X_test_vec)\n",
    "\n",
    "#compute ROC curve values\n",
    "fpr,tpr,thresholds = roc_curve(y_test,y_score_S)\n",
    "\n",
    "auc(fpr,tpr)\n"
   ]
  },
  {
   "cell_type": "code",
   "execution_count": 109,
   "id": "1c1ee589",
   "metadata": {},
   "outputs": [
    {
     "name": "stdout",
     "output_type": "stream",
     "text": [
      "AUC: 0.8356044618631293\n"
     ]
    },
    {
     "data": {
      "image/png": "[encoded data removed]",
      "text/plain": [
       "<Figure size 1000x800 with 1 Axes>"
      ]
     },
     "metadata": {},
     "output_type": "display_data"
    }
   ],
   "source": [
    "#plotting ROC curve\n",
    "%matplotlib inline\n",
    "sns.set_style('darkgrid', {'axes.facecolor': '0.9'})\n",
    "\n",
    "print('AUC: {}'.format(auc(fpr, tpr)))\n",
    "plt.figure(figsize=(10, 8))\n",
    "lw = 2\n",
    "plt.plot(fpr, tpr, color='darkorange',\n",
    "         lw=lw, label='ROC curve')\n",
    "plt.plot([0, 1], [0, 1], color='navy', lw=lw, linestyle='--')\n",
    "plt.xlim([0.0, 1.0])\n",
    "plt.ylim([0.0, 1.05])\n",
    "plt.yticks([i/20.0 for i in range(21)])\n",
    "plt.xticks([i/20.0 for i in range(21)])\n",
    "plt.xlabel('False Positive Rate')\n",
    "plt.ylabel('True Positive Rate')\n",
    "plt.title('Receiver operating characteristic (ROC) Curve')\n",
    "plt.legend(loc='lower right')\n",
    "plt.show()"
   ]
  },
  {
   "cell_type": "markdown",
   "id": "5a8944e6",
   "metadata": {},
   "source": [
    "The ROC curve after the SMOTE application is still the same."
   ]
  },
  {
   "cell_type": "markdown",
   "id": "13d9491c",
   "metadata": {},
   "source": [
    "**c) Hyperparameter Tuning**"
   ]
  },
  {
   "cell_type": "markdown",
   "id": "a17f5d8f",
   "metadata": {},
   "source": [
    "Hyperparameter tuning will help to optimize model performance by selecting the best combination of settings, such as regularization strength. Using techniques like GridSearchCV, the model is fine-tuned to improve accuracy and generalization on unseen data."
   ]
  },
  {
   "cell_type": "code",
   "execution_count": 110,
   "id": "1ac606b0",
   "metadata": {},
   "outputs": [
    {
     "data": {
      "text/plain": [
       "{'C': 1.0,\n",
       " 'class_weight': None,\n",
       " 'dual': False,\n",
       " 'fit_intercept': True,\n",
       " 'intercept_scaling': 1,\n",
       " 'l1_ratio': None,\n",
       " 'max_iter': 100,\n",
       " 'multi_class': 'deprecated',\n",
       " 'n_jobs': None,\n",
       " 'penalty': 'l2',\n",
       " 'random_state': None,\n",
       " 'solver': 'lbfgs',\n",
       " 'tol': 0.0001,\n",
       " 'verbose': 0,\n",
       " 'warm_start': False}"
      ]
     },
     "execution_count": 110,
     "metadata": {},
     "output_type": "execute_result"
    }
   ],
   "source": [
    "model_h = LogisticRegression()\n",
    "hyperparameters = model_h.get_params()\n",
    "hyperparameters"
   ]
  },
  {
   "cell_type": "code",
   "execution_count": 113,
   "id": "4eb062c6",
   "metadata": {},
   "outputs": [
    {
     "name": "stdout",
     "output_type": "stream",
     "text": [
      "Best Parameters: {'C': 10, 'class_weight': None, 'penalty': 'l2', 'solver': 'liblinear'}\n",
      "Best F1 Score: 0.9435944792599159\n"
     ]
    }
   ],
   "source": [
    "# Reduced hyperparameter grid\n",
    "param_grid_lr = {\n",
    "    'C': [0.1, 1, 10],\n",
    "    'penalty': ['l2'],\n",
    "    'solver': ['liblinear'],\n",
    "    'class_weight': [None, 'balanced']\n",
    "}\n",
    "\n",
    "grid_search_lr = GridSearchCV(\n",
    "    LogisticRegression(random_state=42, max_iter=1000),\n",
    "    param_grid=param_grid_lr,\n",
    "    cv=5,\n",
    "    scoring='f1'\n",
    ")\n",
    "\n",
    "grid_search_lr.fit(X_train_resampled, y_train_resampled)\n",
    "\n",
    "# Best model and parameters\n",
    "print(\"Best Parameters:\", grid_search_lr.best_params_)\n",
    "print(\"Best F1 Score:\", grid_search_lr.best_score_)\n",
    "\n",
    "best_model = grid_search_lr.best_estimator_"
   ]
  },
  {
   "cell_type": "markdown",
   "id": "867e5e4f",
   "metadata": {},
   "source": [
    "The hyperparameter tuning process using GridSearchCV identified the best-performing logistic regression configuration as: C=10, penalty='l2', solver='liblinear', and no class weighting (class_weight=None). \n",
    "\n",
    "This combination yielded a best F1 score of 0.94, indicating a well-balanced model in terms of precision and recall for both positive and negative sentiment classes on the training data. The relatively high F1 score suggests the model is performing robustly and is capable of generalizing well when detecting sentiment polarity in Tweets."
   ]
  },
  {
   "cell_type": "code",
   "execution_count": 116,
   "id": "73cac310",
   "metadata": {},
   "outputs": [],
   "source": [
    "# Generate predictions for training and test sets\n",
    "y_train_pred = best_model.predict(X_train_resampled)\n",
    "y_test_pred = best_model.predict(X_test_vec)"
   ]
  },
  {
   "cell_type": "code",
   "execution_count": 117,
   "id": "add456b9",
   "metadata": {},
   "outputs": [
    {
     "name": "stdout",
     "output_type": "stream",
     "text": [
      "              precision    recall  f1-score   support\n",
      "\n",
      "           0       0.99      1.00      1.00      2137\n",
      "           1       1.00      0.99      1.00      2137\n",
      "\n",
      "    accuracy                           1.00      4274\n",
      "   macro avg       1.00      1.00      1.00      4274\n",
      "weighted avg       1.00      1.00      1.00      4274\n",
      "\n"
     ]
    }
   ],
   "source": [
    "#evaluation metrics for the train data set\n",
    "print(classification_report(y_train_resampled,y_train_pred))"
   ]
  },
  {
   "cell_type": "markdown",
   "id": "72d8778d",
   "metadata": {},
   "source": [
    "The classification report shows near-perfect performance on the training data after hyperparameter tuning, with precision, recall, and F1-scores all at or near 1.00 for both positive and negative sentiment classes. Specifically, the model achieved 99% precision and 100% recall for negative tweets, and 100% precision and 99% recall for positive tweets, resulting in an overall accuracy of 100%. \n",
    "\n",
    "These results indicate that the model has learned the training data exceptionally well. However, such high metrics may suggest overfitting, emphasizing the importance of evaluating the model on unseen test data to ensure it generalizes effectively."
   ]
  },
  {
   "cell_type": "code",
   "execution_count": 118,
   "id": "a80849e5",
   "metadata": {},
   "outputs": [
    {
     "name": "stdout",
     "output_type": "stream",
     "text": [
      "              precision    recall  f1-score   support\n",
      "\n",
      "           0       0.62      0.56      0.59       124\n",
      "           1       0.90      0.92      0.91       535\n",
      "\n",
      "    accuracy                           0.85       659\n",
      "   macro avg       0.76      0.74      0.75       659\n",
      "weighted avg       0.85      0.85      0.85       659\n",
      "\n"
     ]
    }
   ],
   "source": [
    "#evaluation metrics for the test data set\n",
    "print(classification_report(y_test,y_test_pred))"
   ]
  },
  {
   "cell_type": "markdown",
   "id": "be3e9221",
   "metadata": {},
   "source": [
    "The model’s performance on the test set shows a strong ability to correctly classify positive sentiment Tweets, with a precision of 0.90, recall of 0.92, and F1-score of 0.91. However, its performance on negative sentiment Tweets is noticeably lower, with a precision of 0.62, recall of 0.56, and F1-score of 0.59. The overall accuracy is 85%, indicating good general performance. \n",
    "\n",
    "The macro average F1-score of 0.75 reflects the imbalance in performance between the two classes, while the weighted average remains consistent with the accuracy. \n",
    "\n",
    "This suggests the model generalizes reasonably well, particularly for the dominant class, but still struggles to correctly identify negative sentiments which is a common challenge when working with imbalanced data."
   ]
  },
  {
   "cell_type": "markdown",
   "id": "6e1556a9",
   "metadata": {},
   "source": [
    "**d) Confusion Matrix Plot**\n",
    "\n",
    "This will help you visually assess how well your model is distinguishing between positive and negative sentiment."
   ]
  },
  {
   "cell_type": "code",
   "execution_count": 120,
   "id": "b4ce6c0b",
   "metadata": {},
   "outputs": [
    {
     "data": {
      "image/png": "[encoded data removed]",
      "text/plain": [
       "<Figure size 800x600 with 2 Axes>"
      ]
     },
     "metadata": {},
     "output_type": "display_data"
    },
    {
     "name": "stdout",
     "output_type": "stream",
     "text": [
      "Confusion Matrix:\n",
      "[[ 70  54]\n",
      " [ 42 493]]\n"
     ]
    }
   ],
   "source": [
    "con_mat = confusion_matrix(y_test, y_test_pred)\n",
    "\n",
    "plt.figure(figsize=(8, 6))\n",
    "sns.heatmap(con_mat, annot=True, fmt='d', cmap='Blues')\n",
    "plt.title(' Logistic Regression - Confusion Matrix ')\n",
    "plt.xlabel('Predicted values')\n",
    "plt.ylabel('True values')\n",
    "plt.show()\n",
    "\n",
    "print(\"Confusion Matrix:\")\n",
    "print(con_mat)"
   ]
  },
  {
   "cell_type": "markdown",
   "id": "222a3eca",
   "metadata": {},
   "source": [
    "This confusion matrix provides a clear picture of your Logistic Regression model's performance on the test data:\n",
    "\n",
    "**True Positives (493):** - Tweets with positive sentiment correctly predicted as positive.\n",
    "\n",
    "**True Negatives (70):** - Tweets with negative sentiment correctly predicted as negative.\n",
    "\n",
    "**False Positives (54):** - Tweets with negative sentiment incorrectly predicted as positive.\n",
    "\n",
    "**False Negatives (42):** - Tweets with positive sentiment incorrectly predicted as negative."
   ]
  },
  {
   "cell_type": "markdown",
   "id": "dfbf3563",
   "metadata": {},
   "source": [
    "The model performs well overall, especially at correctly identifying positive sentiments (high true positives).\n",
    "\n",
    "However, there’s a notable number of false positives (54) — negative tweets being misclassified as positive — which slightly lowers precision for the negative class.\n",
    "\n",
    "The confusion matrix aligns well with the earlier classification metrics (e.g., ~85% accuracy), and the model appears more confident predicting positive sentiments than negative ones.\n",
    "\n"
   ]
  },
  {
   "cell_type": "markdown",
   "id": "467bc2e1",
   "metadata": {},
   "source": [
    "**e) Comparing ROC before and after SMOTE and Hyperparameter tuning**\n"
   ]
  },
  {
   "cell_type": "code",
   "execution_count": 123,
   "id": "0274546a",
   "metadata": {},
   "outputs": [
    {
     "data": {
      "image/png": "[encoded data removed]",
      "text/plain": [
       "<Figure size 800x600 with 1 Axes>"
      ]
     },
     "metadata": {},
     "output_type": "display_data"
    }
   ],
   "source": [
    "from sklearn.metrics import roc_curve, auc\n",
    "\n",
    "# Predict probabilities\n",
    "y_probs_before = modellog_S.predict_proba(X_test_vec)[:, 1]\n",
    "y_probs_after = best_model.predict_proba(X_test_vec)[:, 1]\n",
    "\n",
    "# ROC data\n",
    "fpr_b, tpr_b, _ = roc_curve(y_test, y_probs_before)\n",
    "fpr_a, tpr_a, _ = roc_curve(y_test, y_probs_after)\n",
    "\n",
    "auc_b = auc(fpr_b, tpr_b)\n",
    "auc_a = auc(fpr_a, tpr_a)\n",
    "\n",
    "# Plot ROC curves\n",
    "plt.figure(figsize=(8, 6))\n",
    "plt.plot(fpr_b, tpr_b, label=f'Before Tuning (AUC = {auc_b:.2f})', color='blue')\n",
    "plt.plot(fpr_a, tpr_a, label=f'After Tuning (AUC = {auc_a:.2f})', color='green')\n",
    "plt.plot([0, 1], [0, 1], 'k--')  # Diagonal line\n",
    "\n",
    "plt.title(\"ROC Curve Comparison\")\n",
    "plt.xlabel(\"False Positive Rate\")\n",
    "plt.ylabel(\"True Positive Rate\")\n",
    "plt.legend()\n",
    "plt.grid(True)\n",
    "plt.show()"
   ]
  },
  {
   "cell_type": "markdown",
   "id": "4715d2c8",
   "metadata": {},
   "source": [
    "The ROC curve comparison shows that the model performance before and after tuning is relatively similar, with a slight trade-off. The area under the curve (AUC) before tuning was 0.84, while after tuning it slightly decreased to 0.83. \n",
    "\n",
    "This indicates that hyperparameter tuning and additional balancing via SMOTE did not significantly improve the model's ability to distinguish between the positive and negative classes. In fact, the minor drop in AUC suggests a slight reduction in overall discriminative power. \n",
    "\n",
    "However, tuning may still have improved other aspects of model performance such as class balance or interpretability, and should be evaluated in conjunction with metrics like precision, recall, and confusion matrices for a holistic assessment."
   ]
  },
  {
   "cell_type": "markdown",
   "id": "612e5190",
   "metadata": {},
   "source": [
    "**f) Applying XGBoost**\n"
   ]
  },
  {
   "cell_type": "markdown",
   "id": "bf2f89dc",
   "metadata": {},
   "source": [
    "To enhance model performance and better capture complex patterns in tweet sentiment, we will apply the eXtreme Gradient Boosting (XGBoost) algorithm. XGBoost is a powerful ensemble learning method known for its high accuracy, robustness to overfitting, and effectiveness with imbalanced datasets. Its ability to model non-linear relationships makes it well-suited for text classification tasks where sentiments may be expressed subtly or indirectly. \n",
    "\n",
    "In this section, we will train and evaluate an XGBoost model on the resampled data to compare its performance with the baseline Logistic Regression model."
   ]
  },
  {
   "cell_type": "code",
   "execution_count": 124,
   "id": "a4ad4964",
   "metadata": {},
   "outputs": [],
   "source": [
    "clf = XGBClassifier()"
   ]
  },
  {
   "cell_type": "code",
   "execution_count": 125,
   "id": "d4086d70",
   "metadata": {},
   "outputs": [],
   "source": [
    "#setting the hyperparameters\n",
    "param_grid_cl = {\n",
    "    'learning_rate': [0.1, 0.2],\n",
    "    'max_depth': [6],\n",
    "    'min_child_weight': [1, 2],\n",
    "    'subsample': [0.5, 0.7],\n",
    "    'n_estimators': [100]\n",
    "}\n",
    "\n",
    "#initiating tuning using GrisSearchCV\n",
    "grid_search_cl = GridSearchCV(\n",
    "    clf,\n",
    "    param_grid=param_grid_cl,\n",
    "    cv=5,\n",
    "    scoring='f1'\n",
    ")\n",
    "\n",
    "# Fitting the GridSearchCV to the data\n",
    "grid_search_cl.fit(X_train_resampled, y_train_resampled)\n",
    "\n",
    "# Get the best model\n",
    "best_cl_model = grid_search_cl.best_estimator_"
   ]
  },
  {
   "cell_type": "code",
   "execution_count": 126,
   "id": "b3355ffe",
   "metadata": {},
   "outputs": [
    {
     "name": "stdout",
     "output_type": "stream",
     "text": [
      "{'learning_rate': 0.2, 'max_depth': 6, 'min_child_weight': 1, 'n_estimators': 100, 'subsample': 0.7}\n",
      "              precision    recall  f1-score   support\n",
      "\n",
      "           0       0.98      0.91      0.94      2137\n",
      "           1       0.91      0.99      0.95      2137\n",
      "\n",
      "    accuracy                           0.95      4274\n",
      "   macro avg       0.95      0.95      0.95      4274\n",
      "weighted avg       0.95      0.95      0.95      4274\n",
      "\n",
      "              precision    recall  f1-score   support\n",
      "\n",
      "           0       0.54      0.29      0.38       124\n",
      "           1       0.85      0.94      0.89       535\n",
      "\n",
      "    accuracy                           0.82       659\n",
      "   macro avg       0.69      0.62      0.64       659\n",
      "weighted avg       0.79      0.82      0.80       659\n",
      "\n"
     ]
    }
   ],
   "source": [
    "print(grid_search_cl.best_params_)\n",
    "y_train_pred_cl = best_cl_model.predict(X_train_resampled)\n",
    "y_test_pred_cl = best_cl_model.predict(X_test_vec)\n",
    "print(classification_report(y_train_resampled,y_train_pred_cl))\n",
    "print(classification_report(y_test,y_test_pred_cl))\n",
    "\n"
   ]
  },
  {
   "cell_type": "markdown",
   "id": "9dae3310",
   "metadata": {},
   "source": [
    "While the tuned XGBoost model demonstrates excellent performance on the training data, its reduced effectiveness on the test set—particularly in detecting negative sentiment—highlights the challenges of generalizing to real-world, imbalanced data. \n",
    "\n",
    "The low recall and F1-score for the negative class indicate that the model may not yet be reliable for identifying negative tweets, which could hinder its usefulness for alerting teams to customer dissatisfaction. \n",
    "\n",
    "To enhance model robustness, further refinements such as improved feature engineering, additional balancing techniques, or more nuanced text representations should be considered before deploying the model as a dependable sentiment classification tool."
   ]
  },
  {
   "cell_type": "markdown",
   "id": "d13bfc6f",
   "metadata": {},
   "source": [
    "**g) Confusion Matrix after XGBoost**"
   ]
  },
  {
   "cell_type": "code",
   "execution_count": 128,
   "id": "89e9b767",
   "metadata": {},
   "outputs": [
    {
     "data": {
      "image/png": "[encoded data removed]",
      "text/plain": [
       "<Figure size 800x600 with 2 Axes>"
      ]
     },
     "metadata": {},
     "output_type": "display_data"
    },
    {
     "name": "stdout",
     "output_type": "stream",
     "text": [
      "Confusion Matrix:\n",
      "[[ 36  88]\n",
      " [ 31 504]]\n"
     ]
    }
   ],
   "source": [
    "con_mat1 = confusion_matrix(y_test, y_test_pred_cl)\n",
    "\n",
    "plt.figure(figsize=(8, 6))\n",
    "sns.heatmap(con_mat1, annot=True, fmt='d', cmap='Blues')\n",
    "plt.title(' XGBoost - Confusion Matrix ')\n",
    "plt.xlabel('Predicted values')\n",
    "plt.ylabel('True values')\n",
    "plt.show()\n",
    "\n",
    "print(\"Confusion Matrix:\")\n",
    "print(con_mat1)"
   ]
  },
  {
   "cell_type": "markdown",
   "id": "c3808685",
   "metadata": {},
   "source": [
    "While XGBoost improved slightly on true positives (504 vs. 493 in logistic regression), it significantly underperformed in detecting negative tweets—misclassifying more than 70% of them (88 out of 124). This worsened the class imbalance impact, reducing the model’s reliability in flagging dissatisfaction or complaints—a key part of your PoC objective.\n",
    "\n",
    "Although overall accuracy is still acceptable, XGBoost’s performance deteriorated in recall for negative sentiment, which is crucial for alerting product or customer service teams. "
   ]
  },
  {
   "cell_type": "markdown",
   "id": "18615a88",
   "metadata": {},
   "source": [
    "**5.4 (i) Extending to Multiclass Classification**"
   ]
  },
  {
   "cell_type": "markdown",
   "id": "9425443a",
   "metadata": {},
   "source": [
    "Extending our binary sentiment classification model to multiclass classification is the final and most essential step in aligning our work with the project’s objective of:\n",
    "\n",
    "To develop an NLP model that can automatically classify Tweets about Apple and Google products as positive, negative, or neutral in sentiment"
   ]
  },
  {
   "cell_type": "markdown",
   "id": "d7b906bf",
   "metadata": {},
   "source": [
    "**a)  Reframe the Target Variable**"
   ]
  },
  {
   "cell_type": "markdown",
   "id": "7e8a912d",
   "metadata": {},
   "source": [
    "Currently, our target variable Emotions_binary_no is binary:\n",
    "\n",
    "1 = Positive\n",
    "\n",
    "0 = Negative\n",
    "\n",
    "We need to map our original Emotions column into three classes:\n",
    "\n",
    "Positive emotion → 2\n",
    "\n",
    "Negative emotion → 0\n",
    "\n",
    "No emotion toward brand or product or I can't tell → 1 (Neutral)"
   ]
  },
  {
   "cell_type": "code",
   "execution_count": 129,
   "id": "d0dd3d26",
   "metadata": {},
   "outputs": [],
   "source": [
    "# Map original sentiment labels to multiclass values\n",
    "df['Emotions_multiclass'] = df['Emotions'].map({\n",
    "    'Negative emotion': 0,\n",
    "    'No emotion toward brand or product': 1,\n",
    "    \"I can't tell\": 1,  # optional: treat uncertainty as neutral\n",
    "    'Positive emotion': 2\n",
    "})"
   ]
  },
  {
   "cell_type": "markdown",
   "id": "c874ecf4",
   "metadata": {},
   "source": [
    "**b) Prepare Train-Test Data**"
   ]
  },
  {
   "cell_type": "code",
   "execution_count": 130,
   "id": "7b0b3b82",
   "metadata": {},
   "outputs": [],
   "source": [
    "#Updating the X and y variables:\n",
    "X = df['clean_text']\n",
    "y = df['Emotions_multiclass']"
   ]
  },
  {
   "cell_type": "code",
   "execution_count": 131,
   "id": "a15ffdb8",
   "metadata": {},
   "outputs": [],
   "source": [
    "#We do the train-test split as before:\n",
    "X_train, X_test, y_train, y_test = train_test_split(X, y, stratify=y, test_size=0.2, random_state=42)"
   ]
  },
  {
   "cell_type": "code",
   "execution_count": 133,
   "id": "6bbcb0fb",
   "metadata": {},
   "outputs": [],
   "source": [
    "# Vectorize Text using TfidfVectorizer again\n",
    "\n",
    "vectorizer = TfidfVectorizer(max_features=5000, stop_words='english', ngram_range=(1,2))\n",
    "X_train_vec = vectorizer.fit_transform(X_train)\n",
    "X_test_vec = vectorizer.transform(X_test)"
   ]
  },
  {
   "cell_type": "code",
   "execution_count": 135,
   "id": "145c51ac",
   "metadata": {},
   "outputs": [
    {
     "data": {
      "text/html": [
       "<style>#sk-container-id-2 {\n",
       "  /* Definition of color scheme common for light and dark mode */\n",
       "  --sklearn-color-text: #000;\n",
       "  --sklearn-color-text-muted: #666;\n",
       "  --sklearn-color-line: gray;\n",
       "  /* Definition of color scheme for unfitted estimators */\n",
       "  --sklearn-color-unfitted-level-0: #fff5e6;\n",
       "  --sklearn-color-unfitted-level-1: #f6e4d2;\n",
       "  --sklearn-color-unfitted-level-2: #ffe0b3;\n",
       "  --sklearn-color-unfitted-level-3: chocolate;\n",
       "  /* Definition of color scheme for fitted estimators */\n",
       "  --sklearn-color-fitted-level-0: #f0f8ff;\n",
       "  --sklearn-color-fitted-level-1: #d4ebff;\n",
       "  --sklearn-color-fitted-level-2: #b3dbfd;\n",
       "  --sklearn-color-fitted-level-3: cornflowerblue;\n",
       "\n",
       "  /* Specific color for light theme */\n",
       "  --sklearn-color-text-on-default-background: var(--sg-text-color, var(--theme-code-foreground, var(--jp-content-font-color1, black)));\n",
       "  --sklearn-color-background: var(--sg-background-color, var(--theme-background, var(--jp-layout-color0, white)));\n",
       "  --sklearn-color-border-box: var(--sg-text-color, var(--theme-code-foreground, var(--jp-content-font-color1, black)));\n",
       "  --sklearn-color-icon: #696969;\n",
       "\n",
       "  @media (prefers-color-scheme: dark) {\n",
       "    /* Redefinition of color scheme for dark theme */\n",
       "    --sklearn-color-text-on-default-background: var(--sg-text-color, var(--theme-code-foreground, var(--jp-content-font-color1, white)));\n",
       "    --sklearn-color-background: var(--sg-background-color, var(--theme-background, var(--jp-layout-color0, #111)));\n",
       "    --sklearn-color-border-box: var(--sg-text-color, var(--theme-code-foreground, var(--jp-content-font-color1, white)));\n",
       "    --sklearn-color-icon: #878787;\n",
       "  }\n",
       "}\n",
       "\n",
       "#sk-container-id-2 {\n",
       "  color: var(--sklearn-color-text);\n",
       "}\n",
       "\n",
       "#sk-container-id-2 pre {\n",
       "  padding: 0;\n",
       "}\n",
       "\n",
       "#sk-container-id-2 input.sk-hidden--visually {\n",
       "  border: 0;\n",
       "  clip: rect(1px 1px 1px 1px);\n",
       "  clip: rect(1px, 1px, 1px, 1px);\n",
       "  height: 1px;\n",
       "  margin: -1px;\n",
       "  overflow: hidden;\n",
       "  padding: 0;\n",
       "  position: absolute;\n",
       "  width: 1px;\n",
       "}\n",
       "\n",
       "#sk-container-id-2 div.sk-dashed-wrapped {\n",
       "  border: 1px dashed var(--sklearn-color-line);\n",
       "  margin: 0 0.4em 0.5em 0.4em;\n",
       "  box-sizing: border-box;\n",
       "  padding-bottom: 0.4em;\n",
       "  background-color: var(--sklearn-color-background);\n",
       "}\n",
       "\n",
       "#sk-container-id-2 div.sk-container {\n",
       "  /* jupyter's `normalize.less` sets `[hidden] { display: none; }`\n",
       "     but bootstrap.min.css set `[hidden] { display: none !important; }`\n",
       "     so we also need the `!important` here to be able to override the\n",
       "     default hidden behavior on the sphinx rendered scikit-learn.org.\n",
       "     See: https://github.com/scikit-learn/scikit-learn/issues/21755 */\n",
       "  display: inline-block !important;\n",
       "  position: relative;\n",
       "}\n",
       "\n",
       "#sk-container-id-2 div.sk-text-repr-fallback {\n",
       "  display: none;\n",
       "}\n",
       "\n",
       "div.sk-parallel-item,\n",
       "div.sk-serial,\n",
       "div.sk-item {\n",
       "  /* draw centered vertical line to link estimators */\n",
       "  background-image: linear-gradient(var(--sklearn-color-text-on-default-background), var(--sklearn-color-text-on-default-background));\n",
       "  background-size: 2px 100%;\n",
       "  background-repeat: no-repeat;\n",
       "  background-position: center center;\n",
       "}\n",
       "\n",
       "/* Parallel-specific style estimator block */\n",
       "\n",
       "#sk-container-id-2 div.sk-parallel-item::after {\n",
       "  content: \"\";\n",
       "  width: 100%;\n",
       "  border-bottom: 2px solid var(--sklearn-color-text-on-default-background);\n",
       "  flex-grow: 1;\n",
       "}\n",
       "\n",
       "#sk-container-id-2 div.sk-parallel {\n",
       "  display: flex;\n",
       "  align-items: stretch;\n",
       "  justify-content: center;\n",
       "  background-color: var(--sklearn-color-background);\n",
       "  position: relative;\n",
       "}\n",
       "\n",
       "#sk-container-id-2 div.sk-parallel-item {\n",
       "  display: flex;\n",
       "  flex-direction: column;\n",
       "}\n",
       "\n",
       "#sk-container-id-2 div.sk-parallel-item:first-child::after {\n",
       "  align-self: flex-end;\n",
       "  width: 50%;\n",
       "}\n",
       "\n",
       "#sk-container-id-2 div.sk-parallel-item:last-child::after {\n",
       "  align-self: flex-start;\n",
       "  width: 50%;\n",
       "}\n",
       "\n",
       "#sk-container-id-2 div.sk-parallel-item:only-child::after {\n",
       "  width: 0;\n",
       "}\n",
       "\n",
       "/* Serial-specific style estimator block */\n",
       "\n",
       "#sk-container-id-2 div.sk-serial {\n",
       "  display: flex;\n",
       "  flex-direction: column;\n",
       "  align-items: center;\n",
       "  background-color: var(--sklearn-color-background);\n",
       "  padding-right: 1em;\n",
       "  padding-left: 1em;\n",
       "}\n",
       "\n",
       "\n",
       "/* Toggleable style: style used for estimator/Pipeline/ColumnTransformer box that is\n",
       "clickable and can be expanded/collapsed.\n",
       "- Pipeline and ColumnTransformer use this feature and define the default style\n",
       "- Estimators will overwrite some part of the style using the `sk-estimator` class\n",
       "*/\n",
       "\n",
       "/* Pipeline and ColumnTransformer style (default) */\n",
       "\n",
       "#sk-container-id-2 div.sk-toggleable {\n",
       "  /* Default theme specific background. It is overwritten whether we have a\n",
       "  specific estimator or a Pipeline/ColumnTransformer */\n",
       "  background-color: var(--sklearn-color-background);\n",
       "}\n",
       "\n",
       "/* Toggleable label */\n",
       "#sk-container-id-2 label.sk-toggleable__label {\n",
       "  cursor: pointer;\n",
       "  display: flex;\n",
       "  width: 100%;\n",
       "  margin-bottom: 0;\n",
       "  padding: 0.5em;\n",
       "  box-sizing: border-box;\n",
       "  text-align: center;\n",
       "  align-items: start;\n",
       "  justify-content: space-between;\n",
       "  gap: 0.5em;\n",
       "}\n",
       "\n",
       "#sk-container-id-2 label.sk-toggleable__label .caption {\n",
       "  font-size: 0.6rem;\n",
       "  font-weight: lighter;\n",
       "  color: var(--sklearn-color-text-muted);\n",
       "}\n",
       "\n",
       "#sk-container-id-2 label.sk-toggleable__label-arrow:before {\n",
       "  /* Arrow on the left of the label */\n",
       "  content: \"▸\";\n",
       "  float: left;\n",
       "  margin-right: 0.25em;\n",
       "  color: var(--sklearn-color-icon);\n",
       "}\n",
       "\n",
       "#sk-container-id-2 label.sk-toggleable__label-arrow:hover:before {\n",
       "  color: var(--sklearn-color-text);\n",
       "}\n",
       "\n",
       "/* Toggleable content - dropdown */\n",
       "\n",
       "#sk-container-id-2 div.sk-toggleable__content {\n",
       "  max-height: 0;\n",
       "  max-width: 0;\n",
       "  overflow: hidden;\n",
       "  text-align: left;\n",
       "  /* unfitted */\n",
       "  background-color: var(--sklearn-color-unfitted-level-0);\n",
       "}\n",
       "\n",
       "#sk-container-id-2 div.sk-toggleable__content.fitted {\n",
       "  /* fitted */\n",
       "  background-color: var(--sklearn-color-fitted-level-0);\n",
       "}\n",
       "\n",
       "#sk-container-id-2 div.sk-toggleable__content pre {\n",
       "  margin: 0.2em;\n",
       "  border-radius: 0.25em;\n",
       "  color: var(--sklearn-color-text);\n",
       "  /* unfitted */\n",
       "  background-color: var(--sklearn-color-unfitted-level-0);\n",
       "}\n",
       "\n",
       "#sk-container-id-2 div.sk-toggleable__content.fitted pre {\n",
       "  /* unfitted */\n",
       "  background-color: var(--sklearn-color-fitted-level-0);\n",
       "}\n",
       "\n",
       "#sk-container-id-2 input.sk-toggleable__control:checked~div.sk-toggleable__content {\n",
       "  /* Expand drop-down */\n",
       "  max-height: 200px;\n",
       "  max-width: 100%;\n",
       "  overflow: auto;\n",
       "}\n",
       "\n",
       "#sk-container-id-2 input.sk-toggleable__control:checked~label.sk-toggleable__label-arrow:before {\n",
       "  content: \"▾\";\n",
       "}\n",
       "\n",
       "/* Pipeline/ColumnTransformer-specific style */\n",
       "\n",
       "#sk-container-id-2 div.sk-label input.sk-toggleable__control:checked~label.sk-toggleable__label {\n",
       "  color: var(--sklearn-color-text);\n",
       "  background-color: var(--sklearn-color-unfitted-level-2);\n",
       "}\n",
       "\n",
       "#sk-container-id-2 div.sk-label.fitted input.sk-toggleable__control:checked~label.sk-toggleable__label {\n",
       "  background-color: var(--sklearn-color-fitted-level-2);\n",
       "}\n",
       "\n",
       "/* Estimator-specific style */\n",
       "\n",
       "/* Colorize estimator box */\n",
       "#sk-container-id-2 div.sk-estimator input.sk-toggleable__control:checked~label.sk-toggleable__label {\n",
       "  /* unfitted */\n",
       "  background-color: var(--sklearn-color-unfitted-level-2);\n",
       "}\n",
       "\n",
       "#sk-container-id-2 div.sk-estimator.fitted input.sk-toggleable__control:checked~label.sk-toggleable__label {\n",
       "  /* fitted */\n",
       "  background-color: var(--sklearn-color-fitted-level-2);\n",
       "}\n",
       "\n",
       "#sk-container-id-2 div.sk-label label.sk-toggleable__label,\n",
       "#sk-container-id-2 div.sk-label label {\n",
       "  /* The background is the default theme color */\n",
       "  color: var(--sklearn-color-text-on-default-background);\n",
       "}\n",
       "\n",
       "/* On hover, darken the color of the background */\n",
       "#sk-container-id-2 div.sk-label:hover label.sk-toggleable__label {\n",
       "  color: var(--sklearn-color-text);\n",
       "  background-color: var(--sklearn-color-unfitted-level-2);\n",
       "}\n",
       "\n",
       "/* Label box, darken color on hover, fitted */\n",
       "#sk-container-id-2 div.sk-label.fitted:hover label.sk-toggleable__label.fitted {\n",
       "  color: var(--sklearn-color-text);\n",
       "  background-color: var(--sklearn-color-fitted-level-2);\n",
       "}\n",
       "\n",
       "/* Estimator label */\n",
       "\n",
       "#sk-container-id-2 div.sk-label label {\n",
       "  font-family: monospace;\n",
       "  font-weight: bold;\n",
       "  display: inline-block;\n",
       "  line-height: 1.2em;\n",
       "}\n",
       "\n",
       "#sk-container-id-2 div.sk-label-container {\n",
       "  text-align: center;\n",
       "}\n",
       "\n",
       "/* Estimator-specific */\n",
       "#sk-container-id-2 div.sk-estimator {\n",
       "  font-family: monospace;\n",
       "  border: 1px dotted var(--sklearn-color-border-box);\n",
       "  border-radius: 0.25em;\n",
       "  box-sizing: border-box;\n",
       "  margin-bottom: 0.5em;\n",
       "  /* unfitted */\n",
       "  background-color: var(--sklearn-color-unfitted-level-0);\n",
       "}\n",
       "\n",
       "#sk-container-id-2 div.sk-estimator.fitted {\n",
       "  /* fitted */\n",
       "  background-color: var(--sklearn-color-fitted-level-0);\n",
       "}\n",
       "\n",
       "/* on hover */\n",
       "#sk-container-id-2 div.sk-estimator:hover {\n",
       "  /* unfitted */\n",
       "  background-color: var(--sklearn-color-unfitted-level-2);\n",
       "}\n",
       "\n",
       "#sk-container-id-2 div.sk-estimator.fitted:hover {\n",
       "  /* fitted */\n",
       "  background-color: var(--sklearn-color-fitted-level-2);\n",
       "}\n",
       "\n",
       "/* Specification for estimator info (e.g. \"i\" and \"?\") */\n",
       "\n",
       "/* Common style for \"i\" and \"?\" */\n",
       "\n",
       ".sk-estimator-doc-link,\n",
       "a:link.sk-estimator-doc-link,\n",
       "a:visited.sk-estimator-doc-link {\n",
       "  float: right;\n",
       "  font-size: smaller;\n",
       "  line-height: 1em;\n",
       "  font-family: monospace;\n",
       "  background-color: var(--sklearn-color-background);\n",
       "  border-radius: 1em;\n",
       "  height: 1em;\n",
       "  width: 1em;\n",
       "  text-decoration: none !important;\n",
       "  margin-left: 0.5em;\n",
       "  text-align: center;\n",
       "  /* unfitted */\n",
       "  border: var(--sklearn-color-unfitted-level-1) 1pt solid;\n",
       "  color: var(--sklearn-color-unfitted-level-1);\n",
       "}\n",
       "\n",
       ".sk-estimator-doc-link.fitted,\n",
       "a:link.sk-estimator-doc-link.fitted,\n",
       "a:visited.sk-estimator-doc-link.fitted {\n",
       "  /* fitted */\n",
       "  border: var(--sklearn-color-fitted-level-1) 1pt solid;\n",
       "  color: var(--sklearn-color-fitted-level-1);\n",
       "}\n",
       "\n",
       "/* On hover */\n",
       "div.sk-estimator:hover .sk-estimator-doc-link:hover,\n",
       ".sk-estimator-doc-link:hover,\n",
       "div.sk-label-container:hover .sk-estimator-doc-link:hover,\n",
       ".sk-estimator-doc-link:hover {\n",
       "  /* unfitted */\n",
       "  background-color: var(--sklearn-color-unfitted-level-3);\n",
       "  color: var(--sklearn-color-background);\n",
       "  text-decoration: none;\n",
       "}\n",
       "\n",
       "div.sk-estimator.fitted:hover .sk-estimator-doc-link.fitted:hover,\n",
       ".sk-estimator-doc-link.fitted:hover,\n",
       "div.sk-label-container:hover .sk-estimator-doc-link.fitted:hover,\n",
       ".sk-estimator-doc-link.fitted:hover {\n",
       "  /* fitted */\n",
       "  background-color: var(--sklearn-color-fitted-level-3);\n",
       "  color: var(--sklearn-color-background);\n",
       "  text-decoration: none;\n",
       "}\n",
       "\n",
       "/* Span, style for the box shown on hovering the info icon */\n",
       ".sk-estimator-doc-link span {\n",
       "  display: none;\n",
       "  z-index: 9999;\n",
       "  position: relative;\n",
       "  font-weight: normal;\n",
       "  right: .2ex;\n",
       "  padding: .5ex;\n",
       "  margin: .5ex;\n",
       "  width: min-content;\n",
       "  min-width: 20ex;\n",
       "  max-width: 50ex;\n",
       "  color: var(--sklearn-color-text);\n",
       "  box-shadow: 2pt 2pt 4pt #999;\n",
       "  /* unfitted */\n",
       "  background: var(--sklearn-color-unfitted-level-0);\n",
       "  border: .5pt solid var(--sklearn-color-unfitted-level-3);\n",
       "}\n",
       "\n",
       ".sk-estimator-doc-link.fitted span {\n",
       "  /* fitted */\n",
       "  background: var(--sklearn-color-fitted-level-0);\n",
       "  border: var(--sklearn-color-fitted-level-3);\n",
       "}\n",
       "\n",
       ".sk-estimator-doc-link:hover span {\n",
       "  display: block;\n",
       "}\n",
       "\n",
       "/* \"?\"-specific style due to the `<a>` HTML tag */\n",
       "\n",
       "#sk-container-id-2 a.estimator_doc_link {\n",
       "  float: right;\n",
       "  font-size: 1rem;\n",
       "  line-height: 1em;\n",
       "  font-family: monospace;\n",
       "  background-color: var(--sklearn-color-background);\n",
       "  border-radius: 1rem;\n",
       "  height: 1rem;\n",
       "  width: 1rem;\n",
       "  text-decoration: none;\n",
       "  /* unfitted */\n",
       "  color: var(--sklearn-color-unfitted-level-1);\n",
       "  border: var(--sklearn-color-unfitted-level-1) 1pt solid;\n",
       "}\n",
       "\n",
       "#sk-container-id-2 a.estimator_doc_link.fitted {\n",
       "  /* fitted */\n",
       "  border: var(--sklearn-color-fitted-level-1) 1pt solid;\n",
       "  color: var(--sklearn-color-fitted-level-1);\n",
       "}\n",
       "\n",
       "/* On hover */\n",
       "#sk-container-id-2 a.estimator_doc_link:hover {\n",
       "  /* unfitted */\n",
       "  background-color: var(--sklearn-color-unfitted-level-3);\n",
       "  color: var(--sklearn-color-background);\n",
       "  text-decoration: none;\n",
       "}\n",
       "\n",
       "#sk-container-id-2 a.estimator_doc_link.fitted:hover {\n",
       "  /* fitted */\n",
       "  background-color: var(--sklearn-color-fitted-level-3);\n",
       "}\n",
       "</style><div id=\"sk-container-id-2\" class=\"sk-top-container\"><div class=\"sk-text-repr-fallback\"><pre>LogisticRegression(max_iter=1000, multi_class=&#x27;multinomial&#x27;)</pre><b>In a Jupyter environment, please rerun this cell to show the HTML representation or trust the notebook. <br />On GitHub, the HTML representation is unable to render, please try loading this page with nbviewer.org.</b></div><div class=\"sk-container\" hidden><div class=\"sk-item\"><div class=\"sk-estimator fitted sk-toggleable\"><input class=\"sk-toggleable__control sk-hidden--visually\" id=\"sk-estimator-id-2\" type=\"checkbox\" checked><label for=\"sk-estimator-id-2\" class=\"sk-toggleable__label fitted sk-toggleable__label-arrow\"><div><div>LogisticRegression</div></div><div><a class=\"sk-estimator-doc-link fitted\" rel=\"noreferrer\" target=\"_blank\" href=\"https://scikit-learn.org/1.6/modules/generated/sklearn.linear_model.LogisticRegression.html\">?<span>Documentation for LogisticRegression</span></a><span class=\"sk-estimator-doc-link fitted\">i<span>Fitted</span></span></div></label><div class=\"sk-toggleable__content fitted\"><pre>LogisticRegression(max_iter=1000, multi_class=&#x27;multinomial&#x27;)</pre></div> </div></div></div></div>"
      ],
      "text/plain": [
       "LogisticRegression(max_iter=1000, multi_class='multinomial')"
      ]
     },
     "execution_count": 135,
     "metadata": {},
     "output_type": "execute_result"
    }
   ],
   "source": [
    "#Train a Multiclass Classifier\n",
    "#Logistic Regression and XGBoost both support multiclass classification:\n",
    "# Logistic Regression\n",
    "model_multi = LogisticRegression(multi_class='multinomial', solver='lbfgs', max_iter=1000)\n",
    "model_multi.fit(X_train_vec, y_train)\n",
    "\n"
   ]
  },
  {
   "cell_type": "code",
   "execution_count": 139,
   "id": "d5bb9b05",
   "metadata": {},
   "outputs": [
    {
     "name": "stdout",
     "output_type": "stream",
     "text": [
      "              precision    recall  f1-score   support\n",
      "\n",
      "           0       0.86      0.17      0.29       104\n",
      "           1       0.00      0.00      0.00        20\n",
      "           2       0.84      1.00      0.91       535\n",
      "\n",
      "    accuracy                           0.84       659\n",
      "   macro avg       0.56      0.39      0.40       659\n",
      "weighted avg       0.81      0.84      0.78       659\n",
      "\n"
     ]
    }
   ],
   "source": [
    "#Evaluate the Multiclass Model\n",
    "from sklearn.metrics import classification_report\n",
    "print(classification_report(y_test, y_pred, zero_division=0))"
   ]
  },
  {
   "cell_type": "markdown",
   "id": "7426cbd5",
   "metadata": {},
   "source": [
    "**Class 0 (Negative):** - The model predicts this class quite precisely when it does, but it misses most actual negative tweets (recall = 0.17), meaning it fails to identify them correctly.\n",
    "\n",
    "**Class 1 (Neutral):** - The model completely fails to predict this class at all — both precision and recall are 0.00. This causes the warning you received earlier.\n",
    "\n",
    "**Class 2 (Positive):** - This class dominates the predictions. The model performs very well here with both high precision and recall (F1 = 0.91).\n",
    "\n",
    "The model strongly favors positive sentiment (class 2).\n",
    "\n",
    "It barely identifies negative tweets, and completely ignores neutral tweets.\n",
    "\n",
    "This points to class imbalance and possibly poor feature differentiation between sentiments."
   ]
  },
  {
   "cell_type": "markdown",
   "id": "a4a42d05",
   "metadata": {},
   "source": [
    "**5.4 (ii) Improving multiclass sentiment classification model**"
   ]
  },
  {
   "cell_type": "markdown",
   "id": "ec6198a6",
   "metadata": {},
   "source": [
    "**a) Rebalance the Dataset Using SMOTE for Multiclass**\n",
    "\n",
    "To address imbalance across sentiment classes, multiclass SMOTE generates synthetic samples for underrepresented labels like \"neutral\" or \"negative.\" \n",
    "\n",
    "This will ensure the model learns equally from all classes, improving its ability to detect diverse sentiments and enhancing overall prediction fairness."
   ]
  },
  {
   "cell_type": "code",
   "execution_count": 140,
   "id": "48a0ae45",
   "metadata": {},
   "outputs": [
    {
     "name": "stdout",
     "output_type": "stream",
     "text": [
      "After SMOTE: Emotions_multiclass\n",
      "2    2137\n",
      "0    2137\n",
      "1    2137\n",
      "Name: count, dtype: int64\n"
     ]
    }
   ],
   "source": [
    "from imblearn.over_sampling import SMOTE\n",
    "\n",
    "# Apply SMOTE to multiclass\n",
    "smote_multi = SMOTE(random_state=42)\n",
    "X_train_resampled, y_train_resampled = smote_multi.fit_resample(X_train_vec, y_train)\n",
    "print(\"After SMOTE:\", pd.Series(y_train_resampled).value_counts())\n"
   ]
  },
  {
   "cell_type": "markdown",
   "id": "e9eb1f92",
   "metadata": {},
   "source": [
    "**b) Retrain the Model**\n",
    "\n",
    "After balancing the multiclass dataset, we retrain the model to assess performance improvements. Logistic Regression offers a simple baseline, while XGBoost provides a more powerful option for capturing complex patterns in the text."
   ]
  },
  {
   "cell_type": "code",
   "execution_count": 141,
   "id": "671d2a4e",
   "metadata": {},
   "outputs": [
    {
     "name": "stdout",
     "output_type": "stream",
     "text": [
      "              precision    recall  f1-score   support\n",
      "\n",
      "           0       0.59      0.54      0.56       104\n",
      "           1       0.03      0.05      0.04        20\n",
      "           2       0.89      0.89      0.89       535\n",
      "\n",
      "    accuracy                           0.81       659\n",
      "   macro avg       0.50      0.49      0.50       659\n",
      "weighted avg       0.81      0.81      0.81       659\n",
      "\n"
     ]
    }
   ],
   "source": [
    "# Retrain with resampled data\n",
    "multi_model = LogisticRegression(max_iter=1000, multi_class='multinomial', solver='saga')\n",
    "multi_model.fit(X_train_resampled, y_train_resampled)\n",
    "\n",
    "# Predict on test set\n",
    "y_pred_multi = multi_model.predict(X_test_vec)\n",
    "print(classification_report(y_test, y_pred_multi))\n"
   ]
  },
  {
   "cell_type": "markdown",
   "id": "bcccfb3c",
   "metadata": {},
   "source": [
    "While the model handles positive sentiment well, it needs improvement in detecting negative and especially neutral sentiments—possibly through better features or further tuning."
   ]
  },
  {
   "cell_type": "markdown",
   "id": "4741a398",
   "metadata": {},
   "source": [
    "**c) Visualize Misclassifications Using a Confusion Matrix**\n"
   ]
  },
  {
   "cell_type": "code",
   "execution_count": 143,
   "id": "769f1ae7",
   "metadata": {},
   "outputs": [
    {
     "data": {
      "text/plain": [
       "<sklearn.metrics._plot.confusion_matrix.ConfusionMatrixDisplay at 0x15e856c70>"
      ]
     },
     "execution_count": 143,
     "metadata": {},
     "output_type": "execute_result"
    },
    {
     "data": {
      "image/png": "[encoded data removed]",
      "text/plain": [
       "<Figure size 640x480 with 2 Axes>"
      ]
     },
     "metadata": {},
     "output_type": "display_data"
    }
   ],
   "source": [
    "from sklearn.metrics import confusion_matrix, ConfusionMatrixDisplay\n",
    "\n",
    "cm = confusion_matrix(y_test, y_pred_multi)\n",
    "disp = ConfusionMatrixDisplay(confusion_matrix=cm, display_labels=multi_model.classes_)\n",
    "disp.plot(xticks_rotation=45)\n"
   ]
  },
  {
   "cell_type": "code",
   "execution_count": null,
   "id": "911c66b1",
   "metadata": {},
   "outputs": [],
   "source": []
  },
  {
   "cell_type": "markdown",
   "id": "a50ed104",
   "metadata": {},
   "source": [
    "**d)Implement n-gram TF-IDF Features**"
   ]
  },
  {
   "cell_type": "code",
   "execution_count": 146,
   "id": "e21c81aa",
   "metadata": {},
   "outputs": [],
   "source": [
    "#Import and Set Up TF-IDF Vectorizer\n",
    "\n",
    "\n",
    "from sklearn.feature_extraction.text import TfidfVectorizer\n",
    "\n",
    "# Create TF-IDF vectorizer with n-grams (unigrams + bigrams)\n",
    "tfidf_vectorizer = TfidfVectorizer(\n",
    "    ngram_range=(1, 2),      # use unigrams and bigrams\n",
    "    max_features=5000,       # adjust as needed\n",
    "    stop_words='english'     # remove common stopwords\n",
    ")\n",
    "\n",
    "# Fit and transform the clean text\n",
    "X_tfidf = tfidf_vectorizer.fit_transform(df['clean_text'])"
   ]
  },
  {
   "cell_type": "code",
   "execution_count": 147,
   "id": "e1fb1189",
   "metadata": {},
   "outputs": [
    {
     "name": "stdout",
     "output_type": "stream",
     "text": [
      "              precision    recall  f1-score   support\n",
      "\n",
      "           0       0.89      0.16      0.28       104\n",
      "           1       0.00      0.00      0.00        20\n",
      "           2       0.83      1.00      0.91       535\n",
      "\n",
      "    accuracy                           0.83       659\n",
      "   macro avg       0.58      0.39      0.39       659\n",
      "weighted avg       0.82      0.83      0.78       659\n",
      "\n"
     ]
    }
   ],
   "source": [
    "# Prepare Labels for Multiclass\n",
    "y_multiclass = df['Emotions_multiclass']\n",
    "# Split the data into training and testing sets\n",
    "X_train_tfidf, X_test_tfidf, y_train_multiclass, y_test_multiclass = train_test_split(\n",
    "    X_tfidf, y_multiclass, test_size=0.2, random_state=42, stratify=y_multiclass\n",
    ")\n",
    "# Train a Multiclass Classifier\n",
    "\n",
    "# Initialize and train the model\n",
    "multi_class_model = LogisticRegression(multi_class='multinomial', solver='lbfgs', max_iter=1000)\n",
    "multi_class_model.fit(X_train_tfidf, y_train_multiclass)\n",
    "\n",
    "# Evaluate the Multiclass Model\n",
    "\n",
    "y_pred_multiclass = multi_class_model.predict(X_test_tfidf)\n",
    "print(classification_report(y_test_multiclass, y_pred_multiclass, zero_division=0))\n",
    "\n",
    "\n"
   ]
  },
  {
   "cell_type": "code",
   "execution_count": 148,
   "id": "97bd9557",
   "metadata": {},
   "outputs": [
    {
     "data": {
      "image/png": "[encoded data removed]",
      "text/plain": [
       "<Figure size 640x480 with 2 Axes>"
      ]
     },
     "metadata": {},
     "output_type": "display_data"
    },
    {
     "data": {
      "image/png": "[encoded data removed]",
      "text/plain": [
       "<Figure size 1000x800 with 2 Axes>"
      ]
     },
     "metadata": {},
     "output_type": "display_data"
    }
   ],
   "source": [
    "# Confusion Matrix for Multiclass\n",
    "cm_multi = confusion_matrix(y_test_multiclass, y_pred_multiclass)\n",
    "disp_multi = ConfusionMatrixDisplay(confusion_matrix=cm_multi, display_labels=multi_class_model.classes_)\n",
    "disp_multi.plot(xticks_rotation=45)\n",
    "# Plotting the confusion matrix\n",
    "plt.figure(figsize=(10, 8))\n",
    "sns.heatmap(cm_multi, annot=True, fmt='d', cmap='Blues', xticklabels=multi_class_model.classes_, yticklabels=multi_class_model.classes_)\n",
    "plt.title('Confusion Matrix for Multiclass Classification')\n",
    "plt.xlabel('Predicted Labels')\n",
    "plt.ylabel('True Labels')\n",
    "plt.show()"
   ]
  }
 ],
 "metadata": {
  "kernelspec": {
   "display_name": "my_env1",
   "language": "python",
   "name": "python3"
  },
  "language_info": {
   "codemirror_mode": {
    "name": "ipython",
    "version": 3
   },
   "file_extension": ".py",
   "mimetype": "text/x-python",
   "name": "python",
   "nbconvert_exporter": "python",
   "pygments_lexer": "ipython3",
   "version": "3.9.21"
  }
 },
 "nbformat": 4,
 "nbformat_minor": 5
}
